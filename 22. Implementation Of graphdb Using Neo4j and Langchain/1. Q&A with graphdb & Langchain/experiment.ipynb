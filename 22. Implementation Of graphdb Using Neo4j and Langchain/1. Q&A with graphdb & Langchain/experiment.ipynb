{
 "cells": [
  {
   "cell_type": "markdown",
   "id": "a9d179ee",
   "metadata": {},
   "source": [
    "### Building a Question & Answer Application Over a Graph Database"
   ]
  },
  {
   "cell_type": "code",
   "execution_count": 1,
   "id": "48386f16",
   "metadata": {},
   "outputs": [],
   "source": [
    "NEO4J_URI=\"neo4j+s://371b8b4c.databases.neo4j.io\"\n",
    "NEO4J_USERNAME=\"neo4j\"\n",
    "NEO4J_PASSWORD=\"9_2rayGknsg2qDFQWLO4I1fhKGkLPrVZEOFgVgD3-nU\""
   ]
  },
  {
   "cell_type": "code",
   "execution_count": 2,
   "id": "1d681b6b",
   "metadata": {},
   "outputs": [],
   "source": [
    "import os\n",
    "os.environ[\"NEO4J_URL\"] = NEO4J_URI\n",
    "os.environ[\"NEO4J_USERNAME\"] = NEO4J_USERNAME\n",
    "os.environ[\"NEO4J_PASSWORD\"] = NEO4J_PASSWORD"
   ]
  },
  {
   "cell_type": "code",
   "execution_count": 3,
   "id": "5d93783c",
   "metadata": {},
   "outputs": [
    {
     "name": "stderr",
     "output_type": "stream",
     "text": [
      "/tmp/ipykernel_484400/566940867.py:2: LangChainDeprecationWarning: The class `Neo4jGraph` was deprecated in LangChain 0.3.8 and will be removed in 1.0. An updated version of the class exists in the :class:`~langchain-neo4j package and should be used instead. To use it run `pip install -U :class:`~langchain-neo4j` and import as `from :class:`~langchain_neo4j import Neo4jGraph``.\n",
      "  graph = Neo4jGraph(url=NEO4J_URI, username=NEO4J_USERNAME, password=NEO4J_PASSWORD)\n"
     ]
    },
    {
     "data": {
      "text/plain": [
       "<langchain_community.graphs.neo4j_graph.Neo4jGraph at 0x7fdc703bdfd0>"
      ]
     },
     "execution_count": 3,
     "metadata": {},
     "output_type": "execute_result"
    }
   ],
   "source": [
    "from langchain_community.graphs import Neo4jGraph\n",
    "graph = Neo4jGraph(url=NEO4J_URI, username=NEO4J_USERNAME, password=NEO4J_PASSWORD)\n",
    "graph"
   ]
  },
  {
   "cell_type": "code",
   "execution_count": null,
   "id": "42628c42",
   "metadata": {},
   "outputs": [],
   "source": [
    "## Dataset Movie\n",
    "movie_query = \"\"\"\n",
    "LOAD CSV WITH HEADERS FROM 'https://raw.githubusercontent.com/tomasonjo/blog-datasets/main/movies/movies_small.csv'\n",
    "\"\"\""
   ]
  },
  {
   "cell_type": "markdown",
   "id": "bee11e23",
   "metadata": {},
   "source": [
    "  \"'https://raw.githubusercontent.com/tomasonjo/blog-datasets/main/movies/movies_small.csv' as row\\n\",\n",
    "    \"\\n\",\n",
    "    \"MERGE(m:Movie{id:row.movieId})\\n\",\n",
    "    \"SET m.released = date(row.released),\\n\",\n",
    "    \"    m.title = row.title,\\n\",\n",
    "    \"    m.imdbRating = toFloat(row.imdbRating)\\n\",\n",
    "    \"FOREACH (director in split(row.director, '|') | \\n\",\n",
    "    \"    MERGE (p:Person {name:trim(director)})\\n\",\n",
    "    \"    MERGE (p)-[:DIRECTED]->(m))\\n\",\n",
    "    \"FOREACH (actor in split(row.actors, '|') | \\n\",\n",
    "    \"    MERGE (p:Person {name:trim(actor)})\\n\",\n",
    "    \"    MERGE (p)-[:ACTED_IN]->(m))\\n\",\n",
    "    \"FOREACH (genre in split(row.genres, '|') | \\n\",\n",
    "    \"    MERGE (g:Genre {name:trim(genre)})\\n\",\n",
    "    \"    MERGE (m)-[:IN_GENRE]->(g))\\n\","
   ]
  }
 ],
 "metadata": {
  "kernelspec": {
   "display_name": "langchain-3.13.2",
   "language": "python",
   "name": "python3"
  },
  "language_info": {
   "codemirror_mode": {
    "name": "ipython",
    "version": 3
   },
   "file_extension": ".py",
   "mimetype": "text/x-python",
   "name": "python",
   "nbconvert_exporter": "python",
   "pygments_lexer": "ipython3",
   "version": "3.13.2"
  }
 },
 "nbformat": 4,
 "nbformat_minor": 5
}
