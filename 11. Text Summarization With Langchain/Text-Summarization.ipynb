{
 "cells": [
  {
   "cell_type": "code",
   "execution_count": 1,
   "id": "449ace2a",
   "metadata": {},
   "outputs": [
    {
     "data": {
      "text/plain": [
       "True"
      ]
     },
     "execution_count": 1,
     "metadata": {},
     "output_type": "execute_result"
    }
   ],
   "source": [
    "import os\n",
    "from dotenv import load_dotenv\n",
    "load_dotenv()"
   ]
  },
  {
   "cell_type": "markdown",
   "id": "1ecd4cff",
   "metadata": {},
   "source": [
    "![Image](img.png)"
   ]
  },
  {
   "cell_type": "code",
   "execution_count": 10,
   "id": "f3d2dd0c",
   "metadata": {},
   "outputs": [
    {
     "data": {
      "text/plain": [
       "ChatGroq(client=<groq.resources.chat.completions.Completions object at 0x7f772be01090>, async_client=<groq.resources.chat.completions.AsyncCompletions object at 0x7f772be03250>, model_name='llama-3.3-70b-versatile', model_kwargs={}, groq_api_key=SecretStr('**********'))"
      ]
     },
     "execution_count": 10,
     "metadata": {},
     "output_type": "execute_result"
    }
   ],
   "source": [
    "from langchain_groq import ChatGroq\n",
    "api_key=os.getenv(\"GROQ_API_KEY\")\n",
    "llm=ChatGroq(groq_api_key=api_key,model=\"llama-3.3-70b-versatile\")\n",
    "llm"
   ]
  },
  {
   "cell_type": "code",
   "execution_count": 4,
   "id": "a8ab4222",
   "metadata": {},
   "outputs": [],
   "source": [
    "from langchain.schema import (\n",
    "    AIMessage, \n",
    "    HumanMessage, SystemMessage\n",
    ")"
   ]
  },
  {
   "cell_type": "code",
   "execution_count": 5,
   "id": "1f7a5fd2",
   "metadata": {},
   "outputs": [],
   "source": [
    "speech=\"\"\"\n",
    "People across the country, involved in government, political, and social activities, are dedicating their time to make the ‘Viksit Bharat Sankalp Yatra’ (Developed India Resolution Journey) successful. Therefore, as a Member of Parliament, it was my responsibility to also contribute my time to this program. So, today, I have come here just as a Member of Parliament and your ‘sevak’, ready to participate in this program, much like you.\n",
    "\n",
    "In our country, governments have come and gone, numerous schemes have been formulated, discussions have taken place, and big promises have been made. However, my experience and observations led me to believe that the most critical aspect that requires attention is ensuring that the government’s plans reach the intended beneficiaries without any hassles. If there is a ‘Pradhan Mantri Awas Yojana’ (Prime Minister’s housing scheme), then those who are living in jhuggis and slums should get their houses. And he should not need to make rounds of the government offices for this purpose. The government should reach him. Since you have assigned this responsibility to me, about four crore families have got their ‘pucca’ houses. However, I have encountered cases where someone is left out of the government benefits. Therefore, I have decided to tour the country again, to listen to people’s experiences with government schemes, to understand whether they received the intended benefits, and to ensure that the programs are reaching everyone as planned without paying any bribes. We will get the real picture if we visit them again. Therefore, this ‘Viksit Bharat Sankalp Yatra’ is, in a way, my own examination. I want to hear from you and the people across the country whether what I envisioned and the work I have been doing aligns with reality and whether it has reached those for whom it was meant.\n",
    "\n",
    "It is crucial to check whether the work that was supposed to happen has indeed taken place. I recently met some individuals who utilized the Ayushman card to get treatment for serious illnesses. One person met with a severe accident, and after using the card, he could afford the necessary operation, and now he is recovering well. When I asked him, he said: “How could I afford this treatment? Now that there is the Ayushman card, I mustered courage and underwent an operation. Now I am perfectly fine.”  Such stories are blessings to me.\n",
    "\n",
    "The bureaucrats, who prepare good schemes, expedite the paperwork and even allocate funds, also feel satisfied that 50 or 100 people who were supposed to get the funds have got it. The funds meant for a thousand villages have been released. But their job satisfaction peaks when they hear that their work has directly impacted someone’s life positively. When they see the tangible results of their efforts, their enthusiasm multiplies. They feel satisfied. Therefore, ‘Viksit Bharat Sankalp Yatra’ has had a positive impact on government officers. It has made them more enthusiastic about their work, especially when they witness the tangible benefits reaching the people. Officers now feel satisfied with their work, saying, “I made a good plan, I created a file, and the intended beneficiaries received the benefits.” When they find that the money has reached a poor widow under the Jeevan Jyoti scheme and it was a great help to her during her crisis, they realise that they have done a good job. When a government officer listens to such stories, he feels very satisfied.\n",
    "\n",
    "There are very few who understand the power and impact of the ‘Viksit Bharat Sankalp Yatra’. When I hear people connected to bureaucratic circles talking about it, expressing their satisfaction, it resonates with me. I’ve heard stories where someone suddenly received 2 lakh rupees after the death of her husband, and a sister mentioned how the arrival of gas in her home transformed her lives. The most significant aspect is when someone says that the line between rich and poor has vanished. While the slogan ‘Garibi Hatao’ (Remove Poverty) is one thing, but the real change happens when a person says, “As soon as the gas stove came to my house, the distinction between poverty and affluence disappeared.\n",
    "\"\"\""
   ]
  },
  {
   "cell_type": "code",
   "execution_count": 6,
   "id": "815f7963",
   "metadata": {},
   "outputs": [
    {
     "data": {
      "text/plain": [
       "'\\nPeople across the country, involved in government, political, and social activities, are dedicating their time to make the ‘Viksit Bharat Sankalp Yatra’ (Developed India Resolution Journey) successful. Therefore, as a Member of Parliament, it was my responsibility to also contribute my time to this program. So, today, I have come here just as a Member of Parliament and your ‘sevak’, ready to participate in this program, much like you.\\n\\nIn our country, governments have come and gone, numerous schemes have been formulated, discussions have taken place, and big promises have been made. However, my experience and observations led me to believe that the most critical aspect that requires attention is ensuring that the government’s plans reach the intended beneficiaries without any hassles. If there is a ‘Pradhan Mantri Awas Yojana’ (Prime Minister’s housing scheme), then those who are living in jhuggis and slums should get their houses. And he should not need to make rounds of the government offices for this purpose. The government should reach him. Since you have assigned this responsibility to me, about four crore families have got their ‘pucca’ houses. However, I have encountered cases where someone is left out of the government benefits. Therefore, I have decided to tour the country again, to listen to people’s experiences with government schemes, to understand whether they received the intended benefits, and to ensure that the programs are reaching everyone as planned without paying any bribes. We will get the real picture if we visit them again. Therefore, this ‘Viksit Bharat Sankalp Yatra’ is, in a way, my own examination. I want to hear from you and the people across the country whether what I envisioned and the work I have been doing aligns with reality and whether it has reached those for whom it was meant.\\n\\nIt is crucial to check whether the work that was supposed to happen has indeed taken place. I recently met some individuals who utilized the Ayushman card to get treatment for serious illnesses. One person met with a severe accident, and after using the card, he could afford the necessary operation, and now he is recovering well. When I asked him, he said: “How could I afford this treatment? Now that there is the Ayushman card, I mustered courage and underwent an operation. Now I am perfectly fine.”  Such stories are blessings to me.\\n\\nThe bureaucrats, who prepare good schemes, expedite the paperwork and even allocate funds, also feel satisfied that 50 or 100 people who were supposed to get the funds have got it. The funds meant for a thousand villages have been released. But their job satisfaction peaks when they hear that their work has directly impacted someone’s life positively. When they see the tangible results of their efforts, their enthusiasm multiplies. They feel satisfied. Therefore, ‘Viksit Bharat Sankalp Yatra’ has had a positive impact on government officers. It has made them more enthusiastic about their work, especially when they witness the tangible benefits reaching the people. Officers now feel satisfied with their work, saying, “I made a good plan, I created a file, and the intended beneficiaries received the benefits.” When they find that the money has reached a poor widow under the Jeevan Jyoti scheme and it was a great help to her during her crisis, they realise that they have done a good job. When a government officer listens to such stories, he feels very satisfied.\\n\\nThere are very few who understand the power and impact of the ‘Viksit Bharat Sankalp Yatra’. When I hear people connected to bureaucratic circles talking about it, expressing their satisfaction, it resonates with me. I’ve heard stories where someone suddenly received 2 lakh rupees after the death of her husband, and a sister mentioned how the arrival of gas in her home transformed her lives. The most significant aspect is when someone says that the line between rich and poor has vanished. While the slogan ‘Garibi Hatao’ (Remove Poverty) is one thing, but the real change happens when a person says, “As soon as the gas stove came to my house, the distinction between poverty and affluence disappeared.\\n'"
      ]
     },
     "execution_count": 6,
     "metadata": {},
     "output_type": "execute_result"
    }
   ],
   "source": [
    "speech"
   ]
  },
  {
   "cell_type": "code",
   "execution_count": 7,
   "id": "c4ac7f11",
   "metadata": {},
   "outputs": [],
   "source": [
    "chat_message = [\n",
    "    SystemMessage(content=\"You are an expert with expertise in summarizing speech\"),\n",
    "    HumanMessage(content=f\"Please provide a short and concise summary of the follow speech:\\n Text:{speech} \")\n",
    "]"
   ]
  },
  {
   "cell_type": "code",
   "execution_count": 8,
   "id": "6314cf75",
   "metadata": {},
   "outputs": [
    {
     "name": "stderr",
     "output_type": "stream",
     "text": [
      "/home/ghost/.pyenv/versions/langchain-3.13.2/lib/python3.13/site-packages/tqdm/auto.py:21: TqdmWarning: IProgress not found. Please update jupyter and ipywidgets. See https://ipywidgets.readthedocs.io/en/stable/user_install.html\n",
      "  from .autonotebook import tqdm as notebook_tqdm\n"
     ]
    },
    {
     "data": {
      "text/plain": [
       "909"
      ]
     },
     "execution_count": 8,
     "metadata": {},
     "output_type": "execute_result"
    }
   ],
   "source": [
    "llm.get_num_tokens(speech)"
   ]
  },
  {
   "cell_type": "code",
   "execution_count": 11,
   "id": "d91e221d",
   "metadata": {},
   "outputs": [
    {
     "data": {
      "text/plain": [
       "\"The speaker, a Member of Parliament, is participating in the 'Viksit Bharat Sankalp Yatra' (Developed India Resolution Journey) to ensure that government schemes are reaching their intended beneficiaries. They aim to listen to people's experiences, understand the impact of the schemes, and identify areas for improvement. The speaker believes that it's crucial to check if the work done by the government has actually benefited the people, and they share stories of individuals who have been positively impacted by schemes like the Ayushman card and the Pradhan Mantri Awas Yojana. The 'Viksit Bharat Sankalp Yatra' has not only helped the people but also motivated government officers to work more effectively, as they see the tangible results of their efforts.\""
      ]
     },
     "execution_count": 11,
     "metadata": {},
     "output_type": "execute_result"
    }
   ],
   "source": [
    "llm(chat_message).content"
   ]
  },
  {
   "cell_type": "code",
   "execution_count": 12,
   "id": "db8866a1",
   "metadata": {},
   "outputs": [
    {
     "data": {
      "text/plain": [
       "AIMessage(content=\"The speaker, a Member of Parliament, is participating in the 'Viksit Bharat Sankalp Yatra' (Developed India Resolution Journey) to ensure that government schemes reach their intended beneficiaries. They aim to listen to people's experiences, identify gaps, and make sure that benefits are delivered without corruption. The speaker shares stories of successful implementations, such as the 'Pradhan Mantri Awas Yojana' and 'Ayushman card', which have positively impacted people's lives. They believe that this journey will not only help them assess the effectiveness of government schemes but also motivate bureaucrats to work more efficiently, ultimately bridging the gap between the rich and the poor.\", additional_kwargs={}, response_metadata={'token_usage': {'completion_tokens': 139, 'prompt_tokens': 925, 'total_tokens': 1064, 'completion_time': 0.505454545, 'prompt_time': 0.059409407, 'queue_time': 0.060061562, 'total_time': 0.564863952}, 'model_name': 'llama-3.3-70b-versatile', 'system_fingerprint': 'fp_9a8b91ba77', 'finish_reason': 'stop', 'logprobs': None}, id='run-1c705eb4-dbed-4fe5-bb1e-be697cc84670-0', usage_metadata={'input_tokens': 925, 'output_tokens': 139, 'total_tokens': 1064})"
      ]
     },
     "execution_count": 12,
     "metadata": {},
     "output_type": "execute_result"
    }
   ],
   "source": [
    "llm(chat_message)"
   ]
  },
  {
   "cell_type": "markdown",
   "id": "8c3b901b",
   "metadata": {},
   "source": [
    "## 2. Using Prompt Template Text Summarization"
   ]
  },
  {
   "cell_type": "code",
   "execution_count": 15,
   "id": "e4f2b897",
   "metadata": {},
   "outputs": [
    {
     "data": {
      "text/plain": [
       "PromptTemplate(input_variables=['language', 'speech'], input_types={}, partial_variables={}, template='\\nWrite a summary of the following speech:\\nSpeech:{speech}\\nTranslate the precise summary to {language}\\n')"
      ]
     },
     "execution_count": 15,
     "metadata": {},
     "output_type": "execute_result"
    }
   ],
   "source": [
    "from langchain.chains import LLMChain \n",
    "## LLMchain is used instead of using llm|prompt|strOutParser \\n\n",
    "# while create chain as in early lession\n",
    "from langchain import PromptTemplate\n",
    "\n",
    "generictemplate = \"\"\"\n",
    "Write a summary of the following speech:\n",
    "Speech:{speech}\n",
    "Translate the precise summary to {language}\n",
    "\"\"\"\n",
    "\n",
    "prompt = PromptTemplate(\n",
    "    input_variables = [\"speech\", \"lanaguage\"],\n",
    "    template = generictemplate\n",
    ")\n",
    "prompt"
   ]
  },
  {
   "cell_type": "code",
   "execution_count": 17,
   "id": "12792464",
   "metadata": {},
   "outputs": [
    {
     "data": {
      "text/plain": [
       "'\\nWrite a summary of the following speech:\\nSpeech:\\nPeople across the country, involved in government, political, and social activities, are dedicating their time to make the ‘Viksit Bharat Sankalp Yatra’ (Developed India Resolution Journey) successful. Therefore, as a Member of Parliament, it was my responsibility to also contribute my time to this program. So, today, I have come here just as a Member of Parliament and your ‘sevak’, ready to participate in this program, much like you.\\n\\nIn our country, governments have come and gone, numerous schemes have been formulated, discussions have taken place, and big promises have been made. However, my experience and observations led me to believe that the most critical aspect that requires attention is ensuring that the government’s plans reach the intended beneficiaries without any hassles. If there is a ‘Pradhan Mantri Awas Yojana’ (Prime Minister’s housing scheme), then those who are living in jhuggis and slums should get their houses. And he should not need to make rounds of the government offices for this purpose. The government should reach him. Since you have assigned this responsibility to me, about four crore families have got their ‘pucca’ houses. However, I have encountered cases where someone is left out of the government benefits. Therefore, I have decided to tour the country again, to listen to people’s experiences with government schemes, to understand whether they received the intended benefits, and to ensure that the programs are reaching everyone as planned without paying any bribes. We will get the real picture if we visit them again. Therefore, this ‘Viksit Bharat Sankalp Yatra’ is, in a way, my own examination. I want to hear from you and the people across the country whether what I envisioned and the work I have been doing aligns with reality and whether it has reached those for whom it was meant.\\n\\nIt is crucial to check whether the work that was supposed to happen has indeed taken place. I recently met some individuals who utilized the Ayushman card to get treatment for serious illnesses. One person met with a severe accident, and after using the card, he could afford the necessary operation, and now he is recovering well. When I asked him, he said: “How could I afford this treatment? Now that there is the Ayushman card, I mustered courage and underwent an operation. Now I am perfectly fine.”  Such stories are blessings to me.\\n\\nThe bureaucrats, who prepare good schemes, expedite the paperwork and even allocate funds, also feel satisfied that 50 or 100 people who were supposed to get the funds have got it. The funds meant for a thousand villages have been released. But their job satisfaction peaks when they hear that their work has directly impacted someone’s life positively. When they see the tangible results of their efforts, their enthusiasm multiplies. They feel satisfied. Therefore, ‘Viksit Bharat Sankalp Yatra’ has had a positive impact on government officers. It has made them more enthusiastic about their work, especially when they witness the tangible benefits reaching the people. Officers now feel satisfied with their work, saying, “I made a good plan, I created a file, and the intended beneficiaries received the benefits.” When they find that the money has reached a poor widow under the Jeevan Jyoti scheme and it was a great help to her during her crisis, they realise that they have done a good job. When a government officer listens to such stories, he feels very satisfied.\\n\\nThere are very few who understand the power and impact of the ‘Viksit Bharat Sankalp Yatra’. When I hear people connected to bureaucratic circles talking about it, expressing their satisfaction, it resonates with me. I’ve heard stories where someone suddenly received 2 lakh rupees after the death of her husband, and a sister mentioned how the arrival of gas in her home transformed her lives. The most significant aspect is when someone says that the line between rich and poor has vanished. While the slogan ‘Garibi Hatao’ (Remove Poverty) is one thing, but the real change happens when a person says, “As soon as the gas stove came to my house, the distinction between poverty and affluence disappeared.\\n\\nTranslate the precise summary to French\\n'"
      ]
     },
     "execution_count": 17,
     "metadata": {},
     "output_type": "execute_result"
    }
   ],
   "source": [
    "complete_prompt = prompt.format(speech=speech, language=\"French\")\n",
    "complete_prompt"
   ]
  },
  {
   "cell_type": "code",
   "execution_count": 18,
   "id": "4fe88ece",
   "metadata": {},
   "outputs": [
    {
     "data": {
      "text/plain": [
       "931"
      ]
     },
     "execution_count": 18,
     "metadata": {},
     "output_type": "execute_result"
    }
   ],
   "source": [
    "llm.get_num_tokens(complete_prompt)"
   ]
  },
  {
   "cell_type": "code",
   "execution_count": 20,
   "metadata": {},
   "outputs": [
    {
     "data": {
      "text/plain": [
       "'Takaitaccen bayani na wannan karantarwa:\\nMutane a ko\\'ina cikin ƙasar, waɗanda suka shiga harkokin gwamnati, siyasa, da jam\\'iyya, suna ba da lokacinsu don yin \\'Viksit Bharat Sankalp Yatra\\' (Tafarkin Indiya Mai Ci Gaba) nasara. Saboda haka, a matsayina na membobin majalisar dattijai, ina alhakin ba da lokata don shirin. Haka ya sa, yau, na zo nan kawai a matsayina na memba na majalisar dattijai, kuma na zo a matsayina na \\'sevak\\' (mai aiki), ina shirin shiga cikin shirin kama yadda kake. \\n\\nA ƙasar mu, gwamnati sun zo sun tafi, shirye-shirye da dama sun zamo, tattaunawa sun faru, da alkawalai sun kasance. Amma, tunanina ya kawo mini cewa, abin da ya fi mahimmanci wanda ya bukaci hawan jini shine tabbatar da cewa shirye-shiryen gwamnati suna kai ga wanda zai samu ba tare da wata matsala ba. Idan akwai \\'Pradhan Mantri Awas Yojana\\' (shirin gida na shugaban ƙasar), to, waɗanda suke zaune a jhuggis da makwabtaka za su samu gidajensu. Kuma ba dole su yi kaura zuwa ofisoshin gwamnati don haka ba. Gwamnati ta kai su. Tun da kuka ba ni wannan aiki, kusan miliyan huɗu na iyalai sun samu gidajensu masu \\'pucca\\'. Amma, na samu wasu ba su cikin fa\\'idar gwamnati. Saboda haka, na yanke shawarar tafiya ƙasar nan taƙauri, don ji labarin mutane game da shirye-shirye na gwamnati, don fahimtar ko sun samu fa\\'ida, da tabbatar da cewa shirye-shiryen suna kaiwa kowa kamar yadda aka tsara ba tare da cin hanci ba. Za mu samu hoton gaskiya idan mu tafi zuwa wajenansu nan taƙauri. Saboda haka, \\'Viksit Bharat Sankalp Yatra\\' ƙungiya ce, ina son ji daga gare ku da mutanen ƙasar nan ko abin da na tsara da aikin da nake yi ya kai ga gaskiya ko kuma ya kai ga wanda aka tsara shi. \\n\\nMuhimmin abu shi ne tabbatar da ko aikin da aka sa ya faru. Na yi tattaunawa da wasu mutane waɗanda suka amfani da katin Ayushman don samun magani ga cututtuka mummuna. Mutum daya ya yi hadari mai tsanani, bayan amfani da katin, ya iya biya magani, yanzu yake masu lafiya. Na ce masa, \"Yaya za ka iya biya magani? Yanzu da kuna katin Ayushman, na samu ƙarfin zuciya, na yi aikin, yanzu na masu lafiya.\" Irin waɗannan labarai sune albarka ga ni. \\n\\nMa\\'aikatan gwamnati, waɗanda suke tsara shirye-shirye masu kyau, suna saurari takardun aiki, suna raba kudade, suna cika alkawalai, suna cika aiki, amma suna da farin ciki lokacin da suka ji cewa aikinsu ya shafe rayuwar mutum. Idan suka ji cewa sun yi aiki mai kyau, suna da farin ciki. Saboda haka, \\'Viksit Bharat Sankalp Yatra\\' ta yi tasiri mai kyau ga ma\\'aikatan gwamnati. Ta sa suka yi aiki da ƙwazon kansu, musamman lokacin da suka ji labarin mutanen da suka samu fa\\'ida. \\n\\nAkwai wasu kaɗan da suke fahimtar ikon da \\'Viksit Bharat Sankalp Yatra\\' ta yi. Na ji mutanen da suke aiki a harkokin gwamnati suna tattaunawa, suna fahimtar cewa, \\'Viksit Bharat Sankalp Yatra\\' ta yi tasiri mai kyau. Na ji labarai da mutane suka yi amfani da kudaden shirin, da uwa daya ta ji da katin gas, ta ce, \"Tuni dai suna da wata dama, ba su da matsala.\" Muhimmin abu shi ne lokacin da mutum ya ce, \"Da gas stove ta iso gida, aka ɓata layin tsakanin talauci da arzikin.\"'"
      ]
     },
     "execution_count": 20,
     "metadata": {},
     "output_type": "execute_result"
    }
   ],
   "source": [
    "llm_chain = LLMChain(llm=llm,prompt=prompt)\n",
    "summary = llm_chain.run({\"speech\":speech, \"language\":\"Hausa\"})\n",
    "summary"
   ]
  },
  {
   "cell_type": "markdown",
   "id": "bee7b500",
   "metadata": {},
   "source": [
    "### 3. StuffDocumentChain Text summarization"
   ]
  },
  {
   "cell_type": "code",
   "execution_count": null,
   "metadata": {},
   "outputs": [],
   "source": [
    "from langchain_community.document_loaders import PyPDFLoader"
   ]
  },
  {
   "cell_type": "code",
   "execution_count": null,
   "id": "3d234664",
   "metadata": {},
   "outputs": [],
   "source": []
  }
 ],
 "metadata": {
  "kernelspec": {
   "display_name": "langchain-3.13.2",
   "language": "python",
   "name": "python3"
  },
  "language_info": {
   "codemirror_mode": {
    "name": "ipython",
    "version": 3
   },
   "file_extension": ".py",
   "mimetype": "text/x-python",
   "name": "python",
   "nbconvert_exporter": "python",
   "pygments_lexer": "ipython3",
   "version": "3.13.2"
  }
 },
 "nbformat": 4,
 "nbformat_minor": 5
}
