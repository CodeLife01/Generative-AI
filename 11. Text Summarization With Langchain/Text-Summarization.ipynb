{
 "cells": [
  {
   "cell_type": "code",
   "execution_count": 6,
   "id": "449ace2a",
   "metadata": {},
   "outputs": [
    {
     "data": {
      "text/plain": [
       "True"
      ]
     },
     "execution_count": 6,
     "metadata": {},
     "output_type": "execute_result"
    }
   ],
   "source": [
    "import os\n",
    "from dotenv import load_dotenv\n",
    "load_dotenv()"
   ]
  },
  {
   "cell_type": "markdown",
   "id": "1ecd4cff",
   "metadata": {},
   "source": [
    "![Image](img.png)"
   ]
  },
  {
   "cell_type": "code",
   "execution_count": 7,
   "id": "f3d2dd0c",
   "metadata": {},
   "outputs": [
    {
     "data": {
      "text/plain": [
       "ChatGroq(client=<groq.resources.chat.completions.Completions object at 0x7f59349ccec0>, async_client=<groq.resources.chat.completions.AsyncCompletions object at 0x7f59349cf230>, model_name='llama-3.3-70b-versatile', model_kwargs={}, groq_api_key=SecretStr('**********'))"
      ]
     },
     "execution_count": 7,
     "metadata": {},
     "output_type": "execute_result"
    }
   ],
   "source": [
    "from langchain_groq import ChatGroq\n",
    "api_key=os.getenv(\"GROQ_API_KEY\")\n",
    "llm=ChatGroq(groq_api_key=api_key,model=\"llama-3.3-70b-versatile\")\n",
    "llm"
   ]
  },
  {
   "cell_type": "code",
   "execution_count": 8,
   "id": "a8ab4222",
   "metadata": {},
   "outputs": [],
   "source": [
    "from langchain.schema import (\n",
    "    AIMessage, \n",
    "    HumanMessage, SystemMessage\n",
    ")"
   ]
  },
  {
   "cell_type": "code",
   "execution_count": 9,
   "id": "1f7a5fd2",
   "metadata": {},
   "outputs": [],
   "source": [
    "speech=\"\"\"\n",
    "People across the country, involved in government, political, and social activities, are dedicating their time to make the ‘Viksit Bharat Sankalp Yatra’ (Developed India Resolution Journey) successful. Therefore, as a Member of Parliament, it was my responsibility to also contribute my time to this program. So, today, I have come here just as a Member of Parliament and your ‘sevak’, ready to participate in this program, much like you.\n",
    "\n",
    "In our country, governments have come and gone, numerous schemes have been formulated, discussions have taken place, and big promises have been made. However, my experience and observations led me to believe that the most critical aspect that requires attention is ensuring that the government’s plans reach the intended beneficiaries without any hassles. If there is a ‘Pradhan Mantri Awas Yojana’ (Prime Minister’s housing scheme), then those who are living in jhuggis and slums should get their houses. And he should not need to make rounds of the government offices for this purpose. The government should reach him. Since you have assigned this responsibility to me, about four crore families have got their ‘pucca’ houses. However, I have encountered cases where someone is left out of the government benefits. Therefore, I have decided to tour the country again, to listen to people’s experiences with government schemes, to understand whether they received the intended benefits, and to ensure that the programs are reaching everyone as planned without paying any bribes. We will get the real picture if we visit them again. Therefore, this ‘Viksit Bharat Sankalp Yatra’ is, in a way, my own examination. I want to hear from you and the people across the country whether what I envisioned and the work I have been doing aligns with reality and whether it has reached those for whom it was meant.\n",
    "\n",
    "It is crucial to check whether the work that was supposed to happen has indeed taken place. I recently met some individuals who utilized the Ayushman card to get treatment for serious illnesses. One person met with a severe accident, and after using the card, he could afford the necessary operation, and now he is recovering well. When I asked him, he said: “How could I afford this treatment? Now that there is the Ayushman card, I mustered courage and underwent an operation. Now I am perfectly fine.”  Such stories are blessings to me.\n",
    "\n",
    "The bureaucrats, who prepare good schemes, expedite the paperwork and even allocate funds, also feel satisfied that 50 or 100 people who were supposed to get the funds have got it. The funds meant for a thousand villages have been released. But their job satisfaction peaks when they hear that their work has directly impacted someone’s life positively. When they see the tangible results of their efforts, their enthusiasm multiplies. They feel satisfied. Therefore, ‘Viksit Bharat Sankalp Yatra’ has had a positive impact on government officers. It has made them more enthusiastic about their work, especially when they witness the tangible benefits reaching the people. Officers now feel satisfied with their work, saying, “I made a good plan, I created a file, and the intended beneficiaries received the benefits.” When they find that the money has reached a poor widow under the Jeevan Jyoti scheme and it was a great help to her during her crisis, they realise that they have done a good job. When a government officer listens to such stories, he feels very satisfied.\n",
    "\n",
    "There are very few who understand the power and impact of the ‘Viksit Bharat Sankalp Yatra’. When I hear people connected to bureaucratic circles talking about it, expressing their satisfaction, it resonates with me. I’ve heard stories where someone suddenly received 2 lakh rupees after the death of her husband, and a sister mentioned how the arrival of gas in her home transformed her lives. The most significant aspect is when someone says that the line between rich and poor has vanished. While the slogan ‘Garibi Hatao’ (Remove Poverty) is one thing, but the real change happens when a person says, “As soon as the gas stove came to my house, the distinction between poverty and affluence disappeared.\n",
    "\"\"\""
   ]
  },
  {
   "cell_type": "code",
   "execution_count": 10,
   "id": "815f7963",
   "metadata": {},
   "outputs": [
    {
     "data": {
      "text/plain": [
       "'\\nPeople across the country, involved in government, political, and social activities, are dedicating their time to make the ‘Viksit Bharat Sankalp Yatra’ (Developed India Resolution Journey) successful. Therefore, as a Member of Parliament, it was my responsibility to also contribute my time to this program. So, today, I have come here just as a Member of Parliament and your ‘sevak’, ready to participate in this program, much like you.\\n\\nIn our country, governments have come and gone, numerous schemes have been formulated, discussions have taken place, and big promises have been made. However, my experience and observations led me to believe that the most critical aspect that requires attention is ensuring that the government’s plans reach the intended beneficiaries without any hassles. If there is a ‘Pradhan Mantri Awas Yojana’ (Prime Minister’s housing scheme), then those who are living in jhuggis and slums should get their houses. And he should not need to make rounds of the government offices for this purpose. The government should reach him. Since you have assigned this responsibility to me, about four crore families have got their ‘pucca’ houses. However, I have encountered cases where someone is left out of the government benefits. Therefore, I have decided to tour the country again, to listen to people’s experiences with government schemes, to understand whether they received the intended benefits, and to ensure that the programs are reaching everyone as planned without paying any bribes. We will get the real picture if we visit them again. Therefore, this ‘Viksit Bharat Sankalp Yatra’ is, in a way, my own examination. I want to hear from you and the people across the country whether what I envisioned and the work I have been doing aligns with reality and whether it has reached those for whom it was meant.\\n\\nIt is crucial to check whether the work that was supposed to happen has indeed taken place. I recently met some individuals who utilized the Ayushman card to get treatment for serious illnesses. One person met with a severe accident, and after using the card, he could afford the necessary operation, and now he is recovering well. When I asked him, he said: “How could I afford this treatment? Now that there is the Ayushman card, I mustered courage and underwent an operation. Now I am perfectly fine.”  Such stories are blessings to me.\\n\\nThe bureaucrats, who prepare good schemes, expedite the paperwork and even allocate funds, also feel satisfied that 50 or 100 people who were supposed to get the funds have got it. The funds meant for a thousand villages have been released. But their job satisfaction peaks when they hear that their work has directly impacted someone’s life positively. When they see the tangible results of their efforts, their enthusiasm multiplies. They feel satisfied. Therefore, ‘Viksit Bharat Sankalp Yatra’ has had a positive impact on government officers. It has made them more enthusiastic about their work, especially when they witness the tangible benefits reaching the people. Officers now feel satisfied with their work, saying, “I made a good plan, I created a file, and the intended beneficiaries received the benefits.” When they find that the money has reached a poor widow under the Jeevan Jyoti scheme and it was a great help to her during her crisis, they realise that they have done a good job. When a government officer listens to such stories, he feels very satisfied.\\n\\nThere are very few who understand the power and impact of the ‘Viksit Bharat Sankalp Yatra’. When I hear people connected to bureaucratic circles talking about it, expressing their satisfaction, it resonates with me. I’ve heard stories where someone suddenly received 2 lakh rupees after the death of her husband, and a sister mentioned how the arrival of gas in her home transformed her lives. The most significant aspect is when someone says that the line between rich and poor has vanished. While the slogan ‘Garibi Hatao’ (Remove Poverty) is one thing, but the real change happens when a person says, “As soon as the gas stove came to my house, the distinction between poverty and affluence disappeared.\\n'"
      ]
     },
     "execution_count": 10,
     "metadata": {},
     "output_type": "execute_result"
    }
   ],
   "source": [
    "speech"
   ]
  },
  {
   "cell_type": "code",
   "execution_count": 11,
   "id": "c4ac7f11",
   "metadata": {},
   "outputs": [],
   "source": [
    "chat_message = [\n",
    "    SystemMessage(content=\"You are an expert with expertise in summarizing speech\"),\n",
    "    HumanMessage(content=f\"Please provide a short and concise summary of the follow speech:\\n Text:{speech} \")\n",
    "]"
   ]
  },
  {
   "cell_type": "code",
   "execution_count": 12,
   "id": "6314cf75",
   "metadata": {},
   "outputs": [
    {
     "name": "stderr",
     "output_type": "stream",
     "text": [
      "/home/ghost/.pyenv/versions/langchain-3.13.2/lib/python3.13/site-packages/tqdm/auto.py:21: TqdmWarning: IProgress not found. Please update jupyter and ipywidgets. See https://ipywidgets.readthedocs.io/en/stable/user_install.html\n",
      "  from .autonotebook import tqdm as notebook_tqdm\n"
     ]
    },
    {
     "data": {
      "text/plain": [
       "909"
      ]
     },
     "execution_count": 12,
     "metadata": {},
     "output_type": "execute_result"
    }
   ],
   "source": [
    "llm.get_num_tokens(speech)"
   ]
  },
  {
   "cell_type": "code",
   "execution_count": 13,
   "id": "d91e221d",
   "metadata": {},
   "outputs": [
    {
     "name": "stderr",
     "output_type": "stream",
     "text": [
      "/tmp/ipykernel_4972/1339791998.py:1: LangChainDeprecationWarning: The method `BaseChatModel.__call__` was deprecated in langchain-core 0.1.7 and will be removed in 1.0. Use :meth:`~invoke` instead.\n",
      "  llm(chat_message).content\n"
     ]
    },
    {
     "data": {
      "text/plain": [
       "\"The speaker, a Member of Parliament, is participating in the 'Viksit Bharat Sankalp Yatra' (Developed India Resolution Journey) to ensure that government schemes reach their intended beneficiaries. They aim to listen to people's experiences and understand if the programs are effective, by visiting them and hearing their stories. The speaker believes that this journey is crucial to check if the work done by the government has had a positive impact on people's lives, and to identify areas where improvements are needed. They also highlight the positive impact of the journey on government officers, who feel satisfied when they see the tangible benefits of their work reaching the people. The ultimate goal is to bridge the gap between the rich and the poor, and to make a real difference in people's lives.\""
      ]
     },
     "execution_count": 13,
     "metadata": {},
     "output_type": "execute_result"
    }
   ],
   "source": [
    "llm(chat_message).content"
   ]
  },
  {
   "cell_type": "code",
   "execution_count": 14,
   "id": "db8866a1",
   "metadata": {},
   "outputs": [
    {
     "data": {
      "text/plain": [
       "AIMessage(content=\"The speaker, a Member of Parliament, is participating in the 'Viksit Bharat Sankalp Yatra' (Developed India Resolution Journey) to ensure that government schemes reach their intended beneficiaries. They aim to assess the impact of these schemes by listening to people's experiences and identifying areas for improvement. The speaker believes that when government officers see the tangible benefits of their work, they become more enthusiastic and satisfied. They share stories of people who have benefited from schemes like the Ayushman card and the Jeevan Jyoti scheme, and emphasize that the ultimate goal is to bridge the gap between the rich and the poor, making a real difference in people's lives.\", additional_kwargs={}, response_metadata={'token_usage': {'completion_tokens': 138, 'prompt_tokens': 925, 'total_tokens': 1063, 'completion_time': 0.501818182, 'prompt_time': 0.066909092, 'queue_time': 0.056109466999999996, 'total_time': 0.568727274}, 'model_name': 'llama-3.3-70b-versatile', 'system_fingerprint': 'fp_3f3b593e33', 'finish_reason': 'stop', 'logprobs': None}, id='run-18dcaee6-c2ba-4c6f-b51c-0b67d3d74709-0', usage_metadata={'input_tokens': 925, 'output_tokens': 138, 'total_tokens': 1063})"
      ]
     },
     "execution_count": 14,
     "metadata": {},
     "output_type": "execute_result"
    }
   ],
   "source": [
    "llm(chat_message)"
   ]
  },
  {
   "cell_type": "markdown",
   "id": "8c3b901b",
   "metadata": {},
   "source": [
    "## 2. Using Prompt Template Text Summarization"
   ]
  },
  {
   "cell_type": "code",
   "execution_count": 15,
   "id": "e4f2b897",
   "metadata": {},
   "outputs": [
    {
     "data": {
      "text/plain": [
       "PromptTemplate(input_variables=['language', 'speech'], input_types={}, partial_variables={}, template='\\nWrite a summary of the following speech:\\nSpeech:{speech}\\nTranslate the precise summary to {language}\\n')"
      ]
     },
     "execution_count": 15,
     "metadata": {},
     "output_type": "execute_result"
    }
   ],
   "source": [
    "from langchain.chains import LLMChain \n",
    "## LLMchain is used instead of using llm|prompt|strOutParser \\n\n",
    "# while create chain as in early lession\n",
    "from langchain import PromptTemplate\n",
    "\n",
    "generictemplate = \"\"\"\n",
    "Write a summary of the following speech:\n",
    "Speech:{speech}\n",
    "Translate the precise summary to {language}\n",
    "\"\"\"\n",
    "\n",
    "prompt = PromptTemplate(\n",
    "    input_variables = [\"speech\", \"lanaguage\"],\n",
    "    template = generictemplate\n",
    ")\n",
    "prompt"
   ]
  },
  {
   "cell_type": "code",
   "execution_count": 16,
   "id": "12792464",
   "metadata": {},
   "outputs": [
    {
     "data": {
      "text/plain": [
       "'\\nWrite a summary of the following speech:\\nSpeech:\\nPeople across the country, involved in government, political, and social activities, are dedicating their time to make the ‘Viksit Bharat Sankalp Yatra’ (Developed India Resolution Journey) successful. Therefore, as a Member of Parliament, it was my responsibility to also contribute my time to this program. So, today, I have come here just as a Member of Parliament and your ‘sevak’, ready to participate in this program, much like you.\\n\\nIn our country, governments have come and gone, numerous schemes have been formulated, discussions have taken place, and big promises have been made. However, my experience and observations led me to believe that the most critical aspect that requires attention is ensuring that the government’s plans reach the intended beneficiaries without any hassles. If there is a ‘Pradhan Mantri Awas Yojana’ (Prime Minister’s housing scheme), then those who are living in jhuggis and slums should get their houses. And he should not need to make rounds of the government offices for this purpose. The government should reach him. Since you have assigned this responsibility to me, about four crore families have got their ‘pucca’ houses. However, I have encountered cases where someone is left out of the government benefits. Therefore, I have decided to tour the country again, to listen to people’s experiences with government schemes, to understand whether they received the intended benefits, and to ensure that the programs are reaching everyone as planned without paying any bribes. We will get the real picture if we visit them again. Therefore, this ‘Viksit Bharat Sankalp Yatra’ is, in a way, my own examination. I want to hear from you and the people across the country whether what I envisioned and the work I have been doing aligns with reality and whether it has reached those for whom it was meant.\\n\\nIt is crucial to check whether the work that was supposed to happen has indeed taken place. I recently met some individuals who utilized the Ayushman card to get treatment for serious illnesses. One person met with a severe accident, and after using the card, he could afford the necessary operation, and now he is recovering well. When I asked him, he said: “How could I afford this treatment? Now that there is the Ayushman card, I mustered courage and underwent an operation. Now I am perfectly fine.”  Such stories are blessings to me.\\n\\nThe bureaucrats, who prepare good schemes, expedite the paperwork and even allocate funds, also feel satisfied that 50 or 100 people who were supposed to get the funds have got it. The funds meant for a thousand villages have been released. But their job satisfaction peaks when they hear that their work has directly impacted someone’s life positively. When they see the tangible results of their efforts, their enthusiasm multiplies. They feel satisfied. Therefore, ‘Viksit Bharat Sankalp Yatra’ has had a positive impact on government officers. It has made them more enthusiastic about their work, especially when they witness the tangible benefits reaching the people. Officers now feel satisfied with their work, saying, “I made a good plan, I created a file, and the intended beneficiaries received the benefits.” When they find that the money has reached a poor widow under the Jeevan Jyoti scheme and it was a great help to her during her crisis, they realise that they have done a good job. When a government officer listens to such stories, he feels very satisfied.\\n\\nThere are very few who understand the power and impact of the ‘Viksit Bharat Sankalp Yatra’. When I hear people connected to bureaucratic circles talking about it, expressing their satisfaction, it resonates with me. I’ve heard stories where someone suddenly received 2 lakh rupees after the death of her husband, and a sister mentioned how the arrival of gas in her home transformed her lives. The most significant aspect is when someone says that the line between rich and poor has vanished. While the slogan ‘Garibi Hatao’ (Remove Poverty) is one thing, but the real change happens when a person says, “As soon as the gas stove came to my house, the distinction between poverty and affluence disappeared.\\n\\nTranslate the precise summary to French\\n'"
      ]
     },
     "execution_count": 16,
     "metadata": {},
     "output_type": "execute_result"
    }
   ],
   "source": [
    "complete_prompt = prompt.format(speech=speech, language=\"French\")\n",
    "complete_prompt"
   ]
  },
  {
   "cell_type": "code",
   "execution_count": 17,
   "id": "4fe88ece",
   "metadata": {},
   "outputs": [
    {
     "data": {
      "text/plain": [
       "931"
      ]
     },
     "execution_count": 17,
     "metadata": {},
     "output_type": "execute_result"
    }
   ],
   "source": [
    "llm.get_num_tokens(complete_prompt)"
   ]
  },
  {
   "cell_type": "code",
   "execution_count": 18,
   "metadata": {},
   "outputs": [
    {
     "name": "stderr",
     "output_type": "stream",
     "text": [
      "/tmp/ipykernel_4972/1047643826.py:1: LangChainDeprecationWarning: The class `LLMChain` was deprecated in LangChain 0.1.17 and will be removed in 1.0. Use :meth:`~RunnableSequence, e.g., `prompt | llm`` instead.\n",
      "  llm_chain = LLMChain(llm=llm,prompt=prompt)\n",
      "/tmp/ipykernel_4972/1047643826.py:2: LangChainDeprecationWarning: The method `Chain.run` was deprecated in langchain 0.1.0 and will be removed in 1.0. Use :meth:`~invoke` instead.\n",
      "  summary = llm_chain.run({\"speech\":speech, \"language\":\"Hausa\"})\n"
     ]
    },
    {
     "data": {
      "text/plain": [
       "'Hausa translation:\\n\\nMutane da dama a ko\\'ina cikin ƙasar, waɗanda ke cikin ayyukan gwamnati, siyasa, da na zamantakewa, suna ba da lokacinsu don yin \\'Viksit Bharat Sankalp Yatra\\' (Tafarkin Indiya Mai Ci Gaba) nasara. Saboda haka, a matsayina na dan majalisa, ya zama wajibcin na kuma ba da lokacin na nan shirin. Don haka, yau, na zo nan a matsayina na dan majalisa kuma a matsayina na \\'sevak\\' (mai aikin jama\\'a), ina shirin shiga cikin shirin nan tare da ku.\\n\\nA ƙasarmu, gwamnatoci sun zo sun tashi, shirye-shirye da dama sun kasance, tattaunawa sun faru, da alkawuran da dama sun kasance. Amma, wannan abin da na gani, yadda lokacin da na yi na ganewa cewa, abin da ya fi mahimmanci da ya nema kula shi ne tabbatarwa cewa shirye-shiryen gwamnati suka iso ga wanda ake shiryar da su ba tare da wata sharuɗɗa ba. Idan akwai shirin \\'Pradhan Mantri Awas Yojana\\' (Shirin Gida na Firayim Minista), to, waɗanda ke zaune a jhuggis da slums suka samu gida. Kuma ba ya bukatar zuwa ofisoshin gwamnati don haka. Gwamnati ta iso gare shi. Tun zaku ka ba ni wannan aikin, kusan milioni huɗu na iyalai sun samu gidajensu masu ƙarfi. Amma, na fuskanci irin waɗannan abubuwa inda mutum daya bai samu fa\\'ida daga shirye-shiryen gwamnati ba. Saboda haka, na yanke shawarar ci gaba da yawon buɗe ido a ko\\'ina cikin ƙasar, don ji labarai daga mutane game da shirye-shiryen gwamnati, don fahimtar ko sun samu fa\\'ida daga shirye-shiryen, da kuma tabbatar da cewa shirye-shiryen suna isowa ga kowa yadda ake tsammani ba tare da cin hanci ba. Za mu samu hoton gaskiya idan mu zo su nan. Saboda haka, \\'Viksit Bharat Sankalp Yatra\\' shi ne, a wani bangare, jarabawar da nake yi. Na yana son ji daga ku, kuma daga mutanen ƙasar, ko abin da na tsara, da ayyukan da na ke yi, suna da alaƙa da gaskiya, kuma ko sun iso ga wanda suke da shi.\\n\\nAbin da ya fi mahimmanci shi ne tabbatar da ko ayyukan da ake shiryar da su sun faru. Na yi wa wasu mutane tambayoyi, waɗanda suka amfani da katin Ayushman don samun magani daga cututtukan da suka fi tsoratarwa. Mutum daya ya yi hatsari mai tsanani, kuma bayan amfani da katin, ya iya biya maganin da ake bukata, kuma yanzu yana warke. Na tambaye shi, ya ce: \"Yaya za na iya biya maganin? Yanzu da katin Ayushman yake, na samu ƙarfin zuciya, na yi aikin, kuma yanzu na yi lafiya.\" Irin labaran suna zama albarka gare ni.\\n\\nMa\\'aikatan gwamnati, waɗanda ke shiryar da shirye-shirye masu kyau, suna saurare aikin, har ma suna raba kudade. Suna fuskantar farin ciki lokacin da suka ji cewa ayyukansu sun sun isa ga mutane. Lokacin da suka gani sakamako a gani na ayyukansu, farin cikinsu ya karu. Suna fuskantar farin ciki. Saboda haka, \\'Viksit Bharat Sankalp Yatra\\' ya yi tasiri mai kyau a kan ma\\'aikatan gwamnati. Ya sa suka fi son aikinsu, musamman lokacin da suka gani fa\\'idojin da suke iso ga mutane. Ma\\'aikatan gwamnati suna fuskantar farin ciki, suna cewa: \"Na yi shirin mai kyau, na ƙirƙiri fayil, kuma wanda ake shiryar da shi ya samu fa\\'ida.\" Lokacin da suka gani cewa kudin ya iso ga mace mai rai, karkuwa ce ga ita a lokacin da take bukatar, suka san cewa suna aikin da suke yi. Lokacin da mai aikin gwamnati ya ji irin labaran, ya fuskanci farin ciki.\\n\\nWaɗanda suke fahimtar ƙarfin da tasirin \\'Viksit Bharat Sankalp Yatra\\' suna ƙasa. Lokacin da na ji mutanen da suke aikin gwamnati suke magana game da shi, suna fuskantar farin ciki, na fuskanci farin ciki. Na ji labarai inda mutum ya samu N2 lakh bayan mutuwarsa, kuma \\'yar\\'uwar ta ce yadda zuwan gas a gida ta canza rayuwarta. Abin da ya fi mahimmanci shi ne lokacin da mutum ya ce cewa layin da ke tsakanin talauci da farin ciki ya ɓace. Wannan ya fi na \\'Garibi Hatao\\' (Sa Ranta Talauci), amma canjin gaskiya ya faru lokacin da mutum ya ce: \"Lokacin da gas stove ta zo gida, ɓangaren da ke tsakanin talauci da farin ciki ya ɓace.\"'"
      ]
     },
     "execution_count": 18,
     "metadata": {},
     "output_type": "execute_result"
    }
   ],
   "source": [
    "llm_chain = LLMChain(llm=llm,prompt=prompt)\n",
    "summary = llm_chain.run({\"speech\":speech, \"language\":\"Hausa\"})\n",
    "summary"
   ]
  },
  {
   "cell_type": "markdown",
   "id": "bee7b500",
   "metadata": {},
   "source": [
    "### 3. StuffDocumentChain Text summarization"
   ]
  },
  {
   "cell_type": "code",
   "execution_count": 19,
   "metadata": {},
   "outputs": [
    {
     "data": {
      "text/plain": [
       "[Document(metadata={'producer': 'GPL Ghostscript 8.15', 'creator': 'PScript5.dll Version 5.2', 'creationdate': 'D:20070730160943', 'moddate': 'D:20070730160943', 'title': 'Microsoft Word - Document1', 'author': 'Shri', 'source': 'apjspeech.pdf', 'total_pages': 7, 'page': 0, 'page_label': '1'}, page_content='A P J Abdul Kalam Departing speech \\n \\n \\nFriends, I am delighted to address you all, in the country and those living abroad, after \\nworking with you and completing five beautiful and eventful years in Rashtrapati \\nBhavan. Today, it is indeed a thanks giving occasion. I would like to narr ate, how I \\nenjoyed every minute of my tenure enriched by the wonderful assoc iation from each one \\nof you, hailing from different walks of life, be it politics, sci ence and technology, \\nacademics, arts, literature, business, judiciary, administration, local bodies, farming, \\nhome makers, special children, media and above all from the youth and st udent \\ncommunity who are the future wealth of our country. During my intera ction at \\nRashtrapati Bhavan in Delhi and at every state and union territor y as well as through my \\nonline interactions, I have many unique experiences to share with you, which signify the \\nfollowing important messages: \\n \\n1. Accelerate development : Aspiration of the youth, \\n \\n2. Empower villages, \\n \\n3. Mobilize rural core competence for competitiveness, \\n \\n4. Seed to Food: Backbone for agricultural growth \\n \\n5. Defeat problems and succeed, \\n \\n6. Overcome problems through partnership, \\n \\n7. Courage in combating calamities, \\n \\n8. Connectivity for societal transformation, \\n \\n9. Defending the nation: Our pride and \\n \\n10. Youth movement for Developed India 2020. \\n \\nNow let me share with you each of the messages. \\n \\nAccelerate Development: Aspiration of the youth \\nWhile there were many significant events during my tenure, a question from a little girl \\nAnukriti of Sri Sathya Sai Jagriti Vidya Mandir School, of Dar wa village from Haryana, \\nduring children’s visit to Rashtrapati Bhavan on May 22, 2006, rings in my  mind ever \\nafter. \\n \\nAnukriti asked me “why India cannot become a developed nation before the year 2020”. I \\nappreciated the question and said it was indeed a thoughtful question and assured her that \\nthat her dream would be taken to the highest institution of the nation and we would work'),\n",
       " Document(metadata={'producer': 'GPL Ghostscript 8.15', 'creator': 'PScript5.dll Version 5.2', 'creationdate': 'D:20070730160943', 'moddate': 'D:20070730160943', 'title': 'Microsoft Word - Document1', 'author': 'Shri', 'source': 'apjspeech.pdf', 'total_pages': 7, 'page': 1, 'page_label': '2'}, page_content='for it to achieve before 2020. This question reflects how the desire t o live in developed \\nIndia has entered into the minds of the youth. The same feelings are  echoed by over \\nfifteen lakh youth, whom I have met so far and who represent the drea m of the 540 \\nmillion youth of the nation. The aspirations of the young to live in a prosperous, safe and \\nproud India should be the guiding factor in whatever profession we contribute. \\n \\nEmpower Villages \\nFriends, I recall my visit to Nagaland on 26th October 2002, soon after my assuming \\noffice as President. It was a unique experience for me at Khuza ma village to meet tribal \\nvillage council members and discuss with them the village progress  and the dream of \\nvillage citizens. I was very happy to see the empowered village  council functioning with \\nfinancial powers and taking decisions. I saw a prosperous village with fruits and \\nvegetables production. However, there is a need for providing physical c onnectivity in \\nNagaland through quality roads for enabling faster movement of produ cts from villages \\nto the market. That meeting gave me a powerful message about the t ransformation which \\ncan take place to the 600,000 villages of India, if all the villages a re empowered to deal \\nwith their development and are well connected among themselves and wit h the urban \\nsocieties. \\n \\nMobilizing rural core competence for competitiveness \\nNow I would like to talk about the initiative of Periyar Maniammai College of \\nTechnology for Women, Vallam, Tanjore of Providing Urban Amenities in Rural Areas \\n(PURA) complex involving 65 villages with a population of 3 lakhs. This inc ludes \\nprovision of three connectivities - physical, electronic and knowledge  - leading to \\neconomic connectivity. Periyar PURA has health care centers, pr imary to post graduate \\nlevel education and vocational training centers. This has resulted i n large-scale \\nemployment generation and creation of number of entrepreneurs with the  active support \\nof 1000 self-help groups. Two hundred acres of waste land has been develope d into a \\ncultivable land. The villagers are busy in cultivation, planting Jatropha, herbal and \\nmedicinal plants, power generation using bio-mass, food processing and above all \\nrunning marketing centers. It provides a sustainable economic development model for the \\nwhole region. \\n \\nDuring the last eight months, people of Periyar PURA villages technologically supported \\nby Periyar Maniammai College of Engineering for Women have w orked with experts \\nfrom Japan External Trade Organisation (JETRO) on various products, for  which core \\ncompetence and raw material are available in Thanjavur district. They developed \\ninternationally competitive prototypes for 55 life style products wi th support of JETRO \\nspecialists and feedback from exhibitions at Delhi and Tokyo. This co -operative venture \\nhas enhanced the innovative ability of the people of all the 65 villages  enabling them to \\ndevelop and produce internationally acceptable products. I have seen si milar type of \\nPURA being established in many states. The whole country needs 7000 PU RA to \\nbridging the rural – urban divide. \\n \\nSeed to Food: Backbone for agricultural growth'),\n",
       " Document(metadata={'producer': 'GPL Ghostscript 8.15', 'creator': 'PScript5.dll Version 5.2', 'creationdate': 'D:20070730160943', 'moddate': 'D:20070730160943', 'title': 'Microsoft Word - Document1', 'author': 'Shri', 'source': 'apjspeech.pdf', 'total_pages': 7, 'page': 2, 'page_label': '3'}, page_content='Let me now share with you, the enriching experience I had, whil e meeting more than \\n6000 farmers from different States and Union Territories visitin g Rashtrapati Bhavan. \\nThey evinced keen interest in the Mughal Gardens, the Herbal Gardens , the Spiritual \\nGarden, the Musical Garden, the Bio-diesel garden and the Nutrition Garden and interact \\nwith the Horticultural specialists. Recently, during my address to the agricultural \\nscientists while participating in a National Symposium on “Agri culture Cannot Wait”, I \\nsummarized the many practical suggestions given by farmers. W e have to double the \\nagricultural production with reduced land, reduced water resources and re duced \\nmanpower and improve the economic conditions of the nation through the principle  of \\n“Seed to Food” since agriculture is the backbone of the nation. We should em power the \\nfarmers to protect and nurture the fertile land for second green re volution. Meeting the \\nScientists and the Farmers has given me the confidence \\nthat the nation is poised to increase the agricultural GDP growth by atleast 4% per annum \\nthrough the partnership of farmers and agricultural scientists a nd industries particularly \\nfor value addition. \\n \\nDefeat the problems and succeed \\nOn the evening of February 24, 2007, at Coimbatore, I had a very beautiful experience. \\nAs I got ready for meeting the first person out of twenty appoint ments, a wheel chair was \\nin sight with a smiling person probably in his late fifties; unfortunately he has no hands \\nand legs. His radiant face was revealing his happy state of mi nd. He introduced himself \\nas Vidwan Coimbatore SR Krishna Murthy. I greeted him and asked him  how this had \\nhappened. He smilingly said that it was from by birth. He thanked G od, his parents, \\nteachers and many others for giving him confidence, training and he lp. I asked him, what \\nI could do for him? He said, “I don’t need anything from you. I would like to sing in fr ont \\nof you”. I readily agreed. He sang melodiously the Saint Thyagraj a’s pancha ratna kriti \\nentharo mahanubavulu in Sriragam giving me a glimpse of his talent. I was quite touched. \\nWhat is the message? Despite being physically challenged, the latent talent of music \\ncould blossom in this \\nperson with his positive attitude and perseverance, encouraged by the parents, teachers, \\nacademics and rasikas. Now he wants to give, give and give his art to inspire others. Of \\ncourse, by his merit of music, in July 2007, he performed in the Rashtra pati Bhavan art \\ntheatre. \\n \\nOvercome the impact of disaster through partnership \\nI had the opportunity to experience the Indomitable Spirit of the people and children of \\nJammu & Kashmir even as they were just recovering from the de vastating earthquake in \\n2005. I visited Urusa village on 26th November 2005 which has been adopted by the  \\nWestern Air Command, Air Force for providing relief and medical aid to the residents of \\nthat area. When I went there, I found that the school building had been severely damaged. \\nI met all the school children and the village citizen of Urusa. The villagers apprised me of \\ntheir losses and had all praise for Army and Air Force role in rescue and relief operations \\nalong with state government. I appreciate the courage of the people of Urusa in defeating \\ntheir problems. They have actually become the master of the probl em rather than \\nallowing problems to become their master. Despite the severe l oss due to the earthquake,'),\n",
       " Document(metadata={'producer': 'GPL Ghostscript 8.15', 'creator': 'PScript5.dll Version 5.2', 'creationdate': 'D:20070730160943', 'moddate': 'D:20070730160943', 'title': 'Microsoft Word - Document1', 'author': 'Shri', 'source': 'apjspeech.pdf', 'total_pages': 7, 'page': 3, 'page_label': '4'}, page_content='the children and the members of the village participated in the reli ef operation with the \\nArmed Forces \\nbravely and were smiling when I went to meet them. They interacted with me and said \\nthat the school was functional in the temporary tents. Here, I also witnessed the \\nparticipation of acting Chief Justice of Jammu & Kashmir along with State Government \\nauthorities in on-the-spot settlement of relief grants to be provide d to the victims whose \\nhouses had been damaged in the earth quake. I have experienced many s uch acts of \\ncourage from our citizens when faced with severe challenges. \\n \\nCourage in combating calamities \\nIn 2005, I met the Tribal Council Leaders, Students, Children of Chuckchucha village \\nduring my visit to Car Nicobar Islands. While various reconstruction a nd rehabilitation \\nactivities were in progress, during the discussions with the members  of tribal council, I \\nrealized the unique trait among the Car-Nicobar islanders. Even thoug h there were many \\nhuman losses due to the Tsunami of 26 Dec 2004, the tribal islanders had  taken \\npossession of affected victims as their children and there is nothi ng like orphanage in \\nCar-Nicobar Islands. Touched by their courage, I composed few vers es called “Sea \\nWaves” which reads as follows: \\nSea Waves \\n \\nWe are the children of Sea waves, \\nSea waves are my friends. \\nWhen they become angry, \\nSea waves give the challenges. \\nGod has given the courage, \\nTo challenge the sea waves. \\nAnd we will succeed, \\nWe will succeed \\nWith Almighty’s grace. \\nAll the members who were gathered in the village sang the poem with me and exhibited \\nlots of courage and enthusiasm even though they had gone through severe  suffering \\nduring the Tsunami. \\n \\nConnectivity for societal transformation \\nI addressed the Pan African Parliament on 16 September 2004, at Johannesburg, South \\nAfrica. This was attended by 53 member countries of the Africa n Union, where I \\nproposed the concept of Pan African e-Network for providing seamless and integrated \\nsatellite, fiber optics and wireless network connecting 53 African countries at an \\nestimated cost of US $ 100 million. \\n \\nAs part of the project 12 universities (7 from India and 5 from Africa), 17 Super \\nSpecialty Hospitals (12 from India and 5 from Africa), 53 tele-me dicine centers and 53 \\ntele-education centres in Africa will be connected. The pilot project on tele-education and \\ntele-medicine in Ethiopia has already been commissioned. Indira Gandh i National Open \\nUniversity has taken up the MBA Course for 34 Ethiopian students of Addis  Ababa and \\nHarmaya Universities. As regards, tele-medicine, the special ists from CARE Hospital,'),\n",
       " Document(metadata={'producer': 'GPL Ghostscript 8.15', 'creator': 'PScript5.dll Version 5.2', 'creationdate': 'D:20070730160943', 'moddate': 'D:20070730160943', 'title': 'Microsoft Word - Document1', 'author': 'Shri', 'source': 'apjspeech.pdf', 'total_pages': 7, 'page': 4, 'page_label': '5'}, page_content='Hyderabad are providing one-hour live tele-consultation to doctors in B lack Lion \\nHospital, Addis Ababa in Cardiology and Radiology since November 2006. Using the \\nPan African network the Heads of the State in all the 53 countries  will be connected for \\ninstant communication. I am extremely happy that Indian experience  in bringing the \\nbenefits of technology to the people has enabled us to work with Afric a to bring societal \\ntransformation in the African continent. \\n \\nDefending the nation: Our pride \\nI visited KUMAR in Siachen Glacier located at 17,000 feet altitude held by the Indian \\nArmy, had a memorable underwater journey in INS Sindhurakshak and flew  in a Sukhoi-\\n30 fighter experiencing 2.5 g. In these three experiences, I personal ly felt proud of our \\never vigilant Soldiers, Sailors and Air Warriors performing their  tasks beyond the call of \\ntheir duty even in the most adverse circumstances natural and man m ade. During the last \\nfive years, I had an opportunity to present colours to many regime nts, participate in \\nnumber of passing out parades, meet the troops who were going to undertake  peace \\nmissions and interact with the family members of our Defence F orces. Our Defence \\nForces are in a beautiful mission. When the nation sleeps during night , Members of our \\nDefence teams are awake to guard us and remain vigilant to counte r any threat. The \\nNation cherishes the valour, commitment and devotion to duty of our Defenc e Forces. \\nSimilarly, I had opportunities to interact \\nwith members of our para-military forces, central and state police personnel including \\ninternal security forces who are making immense contribution in au gmenting the safety \\nand security of our citizens under difficult conditions. \\n \\nYouth movement for Developed India 2020 \\nRecently, in Hyderabad, I met a group of citizens who are putting into practice the motto \\nof transforming of our youth into enlightened citizen. The Lead India 2020 Found ation \\ncreated by Dr. N.B. Sudershan at Hyderabad is training thousands of s tudents in many \\ndistricts of Andhra Pradesh in partnership with the District Adm inistration. Particularly, I \\nhappened to know the transformation which has taken place among the students  of \\nMedak district. As per the district authorities the impact of the  training on the students is \\nvisible in terms of self-discipline, love for their parents and tea chers shedding of stage \\nfear and recognition of their duties towards the nation. I talke d to Ms. Padma, a student \\nleader from Andhra Pradesh Tribal Welfare School, Nalgonda who relat ed how she \\nweaned her father away from smoking after imbibing the spirit of  the 10 point oath from \\nthe Lead India Training Camp. This gives me an assurance that the  youth of our country \\nare on the right path \\nthrough this mission oriented programme. With the ignited minds of the 540 million \\nyouth below the age of 25, which I consider is the most powerful resour ce on the earth, \\nunder the earth and above the earth, we have to empower the youth through va lue based \\neducation and leadership. \\n \\nConclusion \\nI was touched by the variety of Indian panorama, emotional content of the tune, cultural \\ndiversity and unity of minds in the vast land of ours. I have cited thes e examples just to \\ngive a glimpse of the richness of our tradition and effort being taken by different agencies'),\n",
       " Document(metadata={'producer': 'GPL Ghostscript 8.15', 'creator': 'PScript5.dll Version 5.2', 'creationdate': 'D:20070730160943', 'moddate': 'D:20070730160943', 'title': 'Microsoft Word - Document1', 'author': 'Shri', 'source': 'apjspeech.pdf', 'total_pages': 7, 'page': 5, 'page_label': '6'}, page_content='to preserve it. There are also many new adventures by instituti ons and individuals. I have \\nexperienced many of them and learnt a lot about my country and our peopl e. Even while \\npursuing our economic growth, we need to do a lot to preserve the rich and diverse \\ntreasures of our culture and civilization. It is our duty for our fut ure generations. This has \\nto be done in a much larger scale through countrywide participatio n of multiple \\ninstitutions. Our country is blessed with natural resources, has shown c onsiderable \\nprogress in the last sixty years, and above all we have hard wor king people particularly \\nthe power of the 540 million youth of the country. Every sector of our count ry has given \\nme the \\nconfidence that India can become a developed nation well before 2020. Whomsoever, I \\nmet they constantly ask what they can give to the nation. We should c onstantly strive to \\nempower such members of the society. With this spirit, I am extr emely happy that we are \\non the right path. Here I am reminded of a famous poem: \\n\"When you wish upon a star, \\nMakes no difference who you are, \\nAnything your heart desires, \\nWill come to you” \\nThis poem is true to all of us, and particularly for our youth and if they aim great, I am \\nsure they will reach close to the target or the target. \\n \\nMy dear citizens, let us resolve to continue to work for realizing the missions of \\ndeveloped India 2020 with the following distinctive profile. \\n \\n1. A Nation where the rural and urban divide has reduced to a thin line. \\n \\n2. A Nation where there is an equitable distribution and adequate access to energy and \\nquality water. \\n \\n3. A Nation where agriculture, industry and service sector work together in symphony. \\n \\n4. A Nation where education with value system is not denied to any meritorious \\ncandidates because of societal or economic discrimination. \\n \\n5. A Nation which is the best destination for the most talented scholars, scientists, and \\ninvestors. \\n \\n6. A Nation where the best of health care is available to all. \\n \\n7. A Nation where the governance is responsive, transparent and corruption free. \\n \\n8. A Nation where poverty has been totally eradicated, illiteracy removed and crimes \\nagainst women and children are absent and none in the society feels alienated. \\n \\n9. A Nation that is prosperous, healthy, secure, peaceful and happy and continues with a \\nsustainable growth path.'),\n",
       " Document(metadata={'producer': 'GPL Ghostscript 8.15', 'creator': 'PScript5.dll Version 5.2', 'creationdate': 'D:20070730160943', 'moddate': 'D:20070730160943', 'title': 'Microsoft Word - Document1', 'author': 'Shri', 'source': 'apjspeech.pdf', 'total_pages': 7, 'page': 6, 'page_label': '7'}, page_content='10. A Nation that is one of the best places to live in and is proud of its leadership. \\n \\nFinally let me thank each one of you for showering your love and affection on me \\nthroughout the last five years by your cooperation and support. \\n \\nDear Citizens, I conclude my address by sharing with you my mission in life which is to \\nbring connectivity between billion hearts and minds of the people of Indi a in our \\nmulticultural society and to embed the self confidence that \"we c an do it\". I will be \\nalways with you, dear citizens, in the great mission of making Indi a a developed nation \\nbefore 2020. \\n \\nMay God bless you. \\n \\nJai hind. \\nDr. A. P. J. Abdul Kalam \\nwww.presidentofindia.nic.in')]"
      ]
     },
     "execution_count": 19,
     "metadata": {},
     "output_type": "execute_result"
    }
   ],
   "source": [
    "from langchain_community.document_loaders import PyPDFLoader\n",
    "loader = PyPDFLoader(\"apjspeech.pdf\")\n",
    "docs = loader.load_and_split()\n",
    "docs"
   ]
  },
  {
   "cell_type": "code",
   "execution_count": 20,
   "id": "3d234664",
   "metadata": {},
   "outputs": [],
   "source": [
    "template = \"\"\" Write a concise and short summary of the speech,\n",
    "Speech : {text}\n",
    "\n",
    "\"\"\"\n",
    "prompt = PromptTemplate(input_variables=[\"text\"],\n",
    "                        template=template)\n"
   ]
  },
  {
   "cell_type": "code",
   "execution_count": 21,
   "id": "505b090f",
   "metadata": {},
   "outputs": [],
   "source": [
    "from langchain.chains.summarize import load_summarize_chain"
   ]
  },
  {
   "cell_type": "code",
   "execution_count": 22,
   "id": "84c7d95f",
   "metadata": {},
   "outputs": [
    {
     "name": "stdout",
     "output_type": "stream",
     "text": [
      "\n",
      "\n",
      "\u001b[1m> Entering new StuffDocumentsChain chain...\u001b[0m\n",
      "\n",
      "\n",
      "\u001b[1m> Entering new LLMChain chain...\u001b[0m\n",
      "Prompt after formatting:\n",
      "\u001b[32;1m\u001b[1;3m Write a concise and short summary of the speech,\n",
      "Speech : A P J Abdul Kalam Departing speech \n",
      " \n",
      " \n",
      "Friends, I am delighted to address you all, in the country and those living abroad, after \n",
      "working with you and completing five beautiful and eventful years in Rashtrapati \n",
      "Bhavan. Today, it is indeed a thanks giving occasion. I would like to narr ate, how I \n",
      "enjoyed every minute of my tenure enriched by the wonderful assoc iation from each one \n",
      "of you, hailing from different walks of life, be it politics, sci ence and technology, \n",
      "academics, arts, literature, business, judiciary, administration, local bodies, farming, \n",
      "home makers, special children, media and above all from the youth and st udent \n",
      "community who are the future wealth of our country. During my intera ction at \n",
      "Rashtrapati Bhavan in Delhi and at every state and union territor y as well as through my \n",
      "online interactions, I have many unique experiences to share with you, which signify the \n",
      "following important messages: \n",
      " \n",
      "1. Accelerate development : Aspiration of the youth, \n",
      " \n",
      "2. Empower villages, \n",
      " \n",
      "3. Mobilize rural core competence for competitiveness, \n",
      " \n",
      "4. Seed to Food: Backbone for agricultural growth \n",
      " \n",
      "5. Defeat problems and succeed, \n",
      " \n",
      "6. Overcome problems through partnership, \n",
      " \n",
      "7. Courage in combating calamities, \n",
      " \n",
      "8. Connectivity for societal transformation, \n",
      " \n",
      "9. Defending the nation: Our pride and \n",
      " \n",
      "10. Youth movement for Developed India 2020. \n",
      " \n",
      "Now let me share with you each of the messages. \n",
      " \n",
      "Accelerate Development: Aspiration of the youth \n",
      "While there were many significant events during my tenure, a question from a little girl \n",
      "Anukriti of Sri Sathya Sai Jagriti Vidya Mandir School, of Dar wa village from Haryana, \n",
      "during children’s visit to Rashtrapati Bhavan on May 22, 2006, rings in my  mind ever \n",
      "after. \n",
      " \n",
      "Anukriti asked me “why India cannot become a developed nation before the year 2020”. I \n",
      "appreciated the question and said it was indeed a thoughtful question and assured her that \n",
      "that her dream would be taken to the highest institution of the nation and we would work\n",
      "\n",
      "for it to achieve before 2020. This question reflects how the desire t o live in developed \n",
      "India has entered into the minds of the youth. The same feelings are  echoed by over \n",
      "fifteen lakh youth, whom I have met so far and who represent the drea m of the 540 \n",
      "million youth of the nation. The aspirations of the young to live in a prosperous, safe and \n",
      "proud India should be the guiding factor in whatever profession we contribute. \n",
      " \n",
      "Empower Villages \n",
      "Friends, I recall my visit to Nagaland on 26th October 2002, soon after my assuming \n",
      "office as President. It was a unique experience for me at Khuza ma village to meet tribal \n",
      "village council members and discuss with them the village progress  and the dream of \n",
      "village citizens. I was very happy to see the empowered village  council functioning with \n",
      "financial powers and taking decisions. I saw a prosperous village with fruits and \n",
      "vegetables production. However, there is a need for providing physical c onnectivity in \n",
      "Nagaland through quality roads for enabling faster movement of produ cts from villages \n",
      "to the market. That meeting gave me a powerful message about the t ransformation which \n",
      "can take place to the 600,000 villages of India, if all the villages a re empowered to deal \n",
      "with their development and are well connected among themselves and wit h the urban \n",
      "societies. \n",
      " \n",
      "Mobilizing rural core competence for competitiveness \n",
      "Now I would like to talk about the initiative of Periyar Maniammai College of \n",
      "Technology for Women, Vallam, Tanjore of Providing Urban Amenities in Rural Areas \n",
      "(PURA) complex involving 65 villages with a population of 3 lakhs. This inc ludes \n",
      "provision of three connectivities - physical, electronic and knowledge  - leading to \n",
      "economic connectivity. Periyar PURA has health care centers, pr imary to post graduate \n",
      "level education and vocational training centers. This has resulted i n large-scale \n",
      "employment generation and creation of number of entrepreneurs with the  active support \n",
      "of 1000 self-help groups. Two hundred acres of waste land has been develope d into a \n",
      "cultivable land. The villagers are busy in cultivation, planting Jatropha, herbal and \n",
      "medicinal plants, power generation using bio-mass, food processing and above all \n",
      "running marketing centers. It provides a sustainable economic development model for the \n",
      "whole region. \n",
      " \n",
      "During the last eight months, people of Periyar PURA villages technologically supported \n",
      "by Periyar Maniammai College of Engineering for Women have w orked with experts \n",
      "from Japan External Trade Organisation (JETRO) on various products, for  which core \n",
      "competence and raw material are available in Thanjavur district. They developed \n",
      "internationally competitive prototypes for 55 life style products wi th support of JETRO \n",
      "specialists and feedback from exhibitions at Delhi and Tokyo. This co -operative venture \n",
      "has enhanced the innovative ability of the people of all the 65 villages  enabling them to \n",
      "develop and produce internationally acceptable products. I have seen si milar type of \n",
      "PURA being established in many states. The whole country needs 7000 PU RA to \n",
      "bridging the rural – urban divide. \n",
      " \n",
      "Seed to Food: Backbone for agricultural growth\n",
      "\n",
      "Let me now share with you, the enriching experience I had, whil e meeting more than \n",
      "6000 farmers from different States and Union Territories visitin g Rashtrapati Bhavan. \n",
      "They evinced keen interest in the Mughal Gardens, the Herbal Gardens , the Spiritual \n",
      "Garden, the Musical Garden, the Bio-diesel garden and the Nutrition Garden and interact \n",
      "with the Horticultural specialists. Recently, during my address to the agricultural \n",
      "scientists while participating in a National Symposium on “Agri culture Cannot Wait”, I \n",
      "summarized the many practical suggestions given by farmers. W e have to double the \n",
      "agricultural production with reduced land, reduced water resources and re duced \n",
      "manpower and improve the economic conditions of the nation through the principle  of \n",
      "“Seed to Food” since agriculture is the backbone of the nation. We should em power the \n",
      "farmers to protect and nurture the fertile land for second green re volution. Meeting the \n",
      "Scientists and the Farmers has given me the confidence \n",
      "that the nation is poised to increase the agricultural GDP growth by atleast 4% per annum \n",
      "through the partnership of farmers and agricultural scientists a nd industries particularly \n",
      "for value addition. \n",
      " \n",
      "Defeat the problems and succeed \n",
      "On the evening of February 24, 2007, at Coimbatore, I had a very beautiful experience. \n",
      "As I got ready for meeting the first person out of twenty appoint ments, a wheel chair was \n",
      "in sight with a smiling person probably in his late fifties; unfortunately he has no hands \n",
      "and legs. His radiant face was revealing his happy state of mi nd. He introduced himself \n",
      "as Vidwan Coimbatore SR Krishna Murthy. I greeted him and asked him  how this had \n",
      "happened. He smilingly said that it was from by birth. He thanked G od, his parents, \n",
      "teachers and many others for giving him confidence, training and he lp. I asked him, what \n",
      "I could do for him? He said, “I don’t need anything from you. I would like to sing in fr ont \n",
      "of you”. I readily agreed. He sang melodiously the Saint Thyagraj a’s pancha ratna kriti \n",
      "entharo mahanubavulu in Sriragam giving me a glimpse of his talent. I was quite touched. \n",
      "What is the message? Despite being physically challenged, the latent talent of music \n",
      "could blossom in this \n",
      "person with his positive attitude and perseverance, encouraged by the parents, teachers, \n",
      "academics and rasikas. Now he wants to give, give and give his art to inspire others. Of \n",
      "course, by his merit of music, in July 2007, he performed in the Rashtra pati Bhavan art \n",
      "theatre. \n",
      " \n",
      "Overcome the impact of disaster through partnership \n",
      "I had the opportunity to experience the Indomitable Spirit of the people and children of \n",
      "Jammu & Kashmir even as they were just recovering from the de vastating earthquake in \n",
      "2005. I visited Urusa village on 26th November 2005 which has been adopted by the  \n",
      "Western Air Command, Air Force for providing relief and medical aid to the residents of \n",
      "that area. When I went there, I found that the school building had been severely damaged. \n",
      "I met all the school children and the village citizen of Urusa. The villagers apprised me of \n",
      "their losses and had all praise for Army and Air Force role in rescue and relief operations \n",
      "along with state government. I appreciate the courage of the people of Urusa in defeating \n",
      "their problems. They have actually become the master of the probl em rather than \n",
      "allowing problems to become their master. Despite the severe l oss due to the earthquake,\n",
      "\n",
      "the children and the members of the village participated in the reli ef operation with the \n",
      "Armed Forces \n",
      "bravely and were smiling when I went to meet them. They interacted with me and said \n",
      "that the school was functional in the temporary tents. Here, I also witnessed the \n",
      "participation of acting Chief Justice of Jammu & Kashmir along with State Government \n",
      "authorities in on-the-spot settlement of relief grants to be provide d to the victims whose \n",
      "houses had been damaged in the earth quake. I have experienced many s uch acts of \n",
      "courage from our citizens when faced with severe challenges. \n",
      " \n",
      "Courage in combating calamities \n",
      "In 2005, I met the Tribal Council Leaders, Students, Children of Chuckchucha village \n",
      "during my visit to Car Nicobar Islands. While various reconstruction a nd rehabilitation \n",
      "activities were in progress, during the discussions with the members  of tribal council, I \n",
      "realized the unique trait among the Car-Nicobar islanders. Even thoug h there were many \n",
      "human losses due to the Tsunami of 26 Dec 2004, the tribal islanders had  taken \n",
      "possession of affected victims as their children and there is nothi ng like orphanage in \n",
      "Car-Nicobar Islands. Touched by their courage, I composed few vers es called “Sea \n",
      "Waves” which reads as follows: \n",
      "Sea Waves \n",
      " \n",
      "We are the children of Sea waves, \n",
      "Sea waves are my friends. \n",
      "When they become angry, \n",
      "Sea waves give the challenges. \n",
      "God has given the courage, \n",
      "To challenge the sea waves. \n",
      "And we will succeed, \n",
      "We will succeed \n",
      "With Almighty’s grace. \n",
      "All the members who were gathered in the village sang the poem with me and exhibited \n",
      "lots of courage and enthusiasm even though they had gone through severe  suffering \n",
      "during the Tsunami. \n",
      " \n",
      "Connectivity for societal transformation \n",
      "I addressed the Pan African Parliament on 16 September 2004, at Johannesburg, South \n",
      "Africa. This was attended by 53 member countries of the Africa n Union, where I \n",
      "proposed the concept of Pan African e-Network for providing seamless and integrated \n",
      "satellite, fiber optics and wireless network connecting 53 African countries at an \n",
      "estimated cost of US $ 100 million. \n",
      " \n",
      "As part of the project 12 universities (7 from India and 5 from Africa), 17 Super \n",
      "Specialty Hospitals (12 from India and 5 from Africa), 53 tele-me dicine centers and 53 \n",
      "tele-education centres in Africa will be connected. The pilot project on tele-education and \n",
      "tele-medicine in Ethiopia has already been commissioned. Indira Gandh i National Open \n",
      "University has taken up the MBA Course for 34 Ethiopian students of Addis  Ababa and \n",
      "Harmaya Universities. As regards, tele-medicine, the special ists from CARE Hospital,\n",
      "\n",
      "Hyderabad are providing one-hour live tele-consultation to doctors in B lack Lion \n",
      "Hospital, Addis Ababa in Cardiology and Radiology since November 2006. Using the \n",
      "Pan African network the Heads of the State in all the 53 countries  will be connected for \n",
      "instant communication. I am extremely happy that Indian experience  in bringing the \n",
      "benefits of technology to the people has enabled us to work with Afric a to bring societal \n",
      "transformation in the African continent. \n",
      " \n",
      "Defending the nation: Our pride \n",
      "I visited KUMAR in Siachen Glacier located at 17,000 feet altitude held by the Indian \n",
      "Army, had a memorable underwater journey in INS Sindhurakshak and flew  in a Sukhoi-\n",
      "30 fighter experiencing 2.5 g. In these three experiences, I personal ly felt proud of our \n",
      "ever vigilant Soldiers, Sailors and Air Warriors performing their  tasks beyond the call of \n",
      "their duty even in the most adverse circumstances natural and man m ade. During the last \n",
      "five years, I had an opportunity to present colours to many regime nts, participate in \n",
      "number of passing out parades, meet the troops who were going to undertake  peace \n",
      "missions and interact with the family members of our Defence F orces. Our Defence \n",
      "Forces are in a beautiful mission. When the nation sleeps during night , Members of our \n",
      "Defence teams are awake to guard us and remain vigilant to counte r any threat. The \n",
      "Nation cherishes the valour, commitment and devotion to duty of our Defenc e Forces. \n",
      "Similarly, I had opportunities to interact \n",
      "with members of our para-military forces, central and state police personnel including \n",
      "internal security forces who are making immense contribution in au gmenting the safety \n",
      "and security of our citizens under difficult conditions. \n",
      " \n",
      "Youth movement for Developed India 2020 \n",
      "Recently, in Hyderabad, I met a group of citizens who are putting into practice the motto \n",
      "of transforming of our youth into enlightened citizen. The Lead India 2020 Found ation \n",
      "created by Dr. N.B. Sudershan at Hyderabad is training thousands of s tudents in many \n",
      "districts of Andhra Pradesh in partnership with the District Adm inistration. Particularly, I \n",
      "happened to know the transformation which has taken place among the students  of \n",
      "Medak district. As per the district authorities the impact of the  training on the students is \n",
      "visible in terms of self-discipline, love for their parents and tea chers shedding of stage \n",
      "fear and recognition of their duties towards the nation. I talke d to Ms. Padma, a student \n",
      "leader from Andhra Pradesh Tribal Welfare School, Nalgonda who relat ed how she \n",
      "weaned her father away from smoking after imbibing the spirit of  the 10 point oath from \n",
      "the Lead India Training Camp. This gives me an assurance that the  youth of our country \n",
      "are on the right path \n",
      "through this mission oriented programme. With the ignited minds of the 540 million \n",
      "youth below the age of 25, which I consider is the most powerful resour ce on the earth, \n",
      "under the earth and above the earth, we have to empower the youth through va lue based \n",
      "education and leadership. \n",
      " \n",
      "Conclusion \n",
      "I was touched by the variety of Indian panorama, emotional content of the tune, cultural \n",
      "diversity and unity of minds in the vast land of ours. I have cited thes e examples just to \n",
      "give a glimpse of the richness of our tradition and effort being taken by different agencies\n",
      "\n",
      "to preserve it. There are also many new adventures by instituti ons and individuals. I have \n",
      "experienced many of them and learnt a lot about my country and our peopl e. Even while \n",
      "pursuing our economic growth, we need to do a lot to preserve the rich and diverse \n",
      "treasures of our culture and civilization. It is our duty for our fut ure generations. This has \n",
      "to be done in a much larger scale through countrywide participatio n of multiple \n",
      "institutions. Our country is blessed with natural resources, has shown c onsiderable \n",
      "progress in the last sixty years, and above all we have hard wor king people particularly \n",
      "the power of the 540 million youth of the country. Every sector of our count ry has given \n",
      "me the \n",
      "confidence that India can become a developed nation well before 2020. Whomsoever, I \n",
      "met they constantly ask what they can give to the nation. We should c onstantly strive to \n",
      "empower such members of the society. With this spirit, I am extr emely happy that we are \n",
      "on the right path. Here I am reminded of a famous poem: \n",
      "\"When you wish upon a star, \n",
      "Makes no difference who you are, \n",
      "Anything your heart desires, \n",
      "Will come to you” \n",
      "This poem is true to all of us, and particularly for our youth and if they aim great, I am \n",
      "sure they will reach close to the target or the target. \n",
      " \n",
      "My dear citizens, let us resolve to continue to work for realizing the missions of \n",
      "developed India 2020 with the following distinctive profile. \n",
      " \n",
      "1. A Nation where the rural and urban divide has reduced to a thin line. \n",
      " \n",
      "2. A Nation where there is an equitable distribution and adequate access to energy and \n",
      "quality water. \n",
      " \n",
      "3. A Nation where agriculture, industry and service sector work together in symphony. \n",
      " \n",
      "4. A Nation where education with value system is not denied to any meritorious \n",
      "candidates because of societal or economic discrimination. \n",
      " \n",
      "5. A Nation which is the best destination for the most talented scholars, scientists, and \n",
      "investors. \n",
      " \n",
      "6. A Nation where the best of health care is available to all. \n",
      " \n",
      "7. A Nation where the governance is responsive, transparent and corruption free. \n",
      " \n",
      "8. A Nation where poverty has been totally eradicated, illiteracy removed and crimes \n",
      "against women and children are absent and none in the society feels alienated. \n",
      " \n",
      "9. A Nation that is prosperous, healthy, secure, peaceful and happy and continues with a \n",
      "sustainable growth path.\n",
      "\n",
      "10. A Nation that is one of the best places to live in and is proud of its leadership. \n",
      " \n",
      "Finally let me thank each one of you for showering your love and affection on me \n",
      "throughout the last five years by your cooperation and support. \n",
      " \n",
      "Dear Citizens, I conclude my address by sharing with you my mission in life which is to \n",
      "bring connectivity between billion hearts and minds of the people of Indi a in our \n",
      "multicultural society and to embed the self confidence that \"we c an do it\". I will be \n",
      "always with you, dear citizens, in the great mission of making Indi a a developed nation \n",
      "before 2020. \n",
      " \n",
      "May God bless you. \n",
      " \n",
      "Jai hind. \n",
      "Dr. A. P. J. Abdul Kalam \n",
      "www.presidentofindia.nic.in\n",
      "\n",
      "\u001b[0m\n",
      "\n",
      "\u001b[1m> Finished chain.\u001b[0m\n",
      "\n",
      "\u001b[1m> Finished chain.\u001b[0m\n"
     ]
    }
   ],
   "source": [
    "chain = load_summarize_chain(llm, chain_type=\"stuff\", prompt=prompt, verbose=True)\n",
    "output_summary = chain.run(docs)"
   ]
  },
  {
   "cell_type": "code",
   "execution_count": 23,
   "metadata": {},
   "outputs": [
    {
     "data": {
      "text/plain": [
       "'In his departing speech as President of India, A.P.J. Abdul Kalam reflects on his five-year tenure and highlights 10 key messages for the nation\\'s development. These include accelerating development, empowering villages, and promoting education, healthcare, and connectivity. He shares personal anecdotes and experiences, showcasing the country\\'s potential and the importance of collective effort in achieving a developed India by 2020. Kalam concludes by thanking the citizens for their support and reiterating his mission to bring connectivity and self-confidence to the people of India, saying \"we can do it\" and ending with \"Jai Hind.\"'"
      ]
     },
     "execution_count": 23,
     "metadata": {},
     "output_type": "execute_result"
    }
   ],
   "source": [
    "output_summary"
   ]
  },
  {
   "cell_type": "markdown",
   "id": "4919a60f",
   "metadata": {},
   "source": [
    "### 4. Using Map Reduce to Summarize Large Documents"
   ]
  },
  {
   "cell_type": "code",
   "execution_count": 24,
   "id": "2a5be591",
   "metadata": {},
   "outputs": [],
   "source": [
    "from langchain.text_splitter import RecursiveCharacterTextSplitter"
   ]
  },
  {
   "cell_type": "code",
   "execution_count": 25,
   "id": "8ef6cc6c",
   "metadata": {},
   "outputs": [
    {
     "data": {
      "text/plain": [
       "[Document(metadata={'producer': 'GPL Ghostscript 8.15', 'creator': 'PScript5.dll Version 5.2', 'creationdate': 'D:20070730160943', 'moddate': 'D:20070730160943', 'title': 'Microsoft Word - Document1', 'author': 'Shri', 'source': 'apjspeech.pdf', 'total_pages': 7, 'page': 0, 'page_label': '1'}, page_content='A P J Abdul Kalam Departing speech \\n \\n \\nFriends, I am delighted to address you all, in the country and those living abroad, after \\nworking with you and completing five beautiful and eventful years in Rashtrapati \\nBhavan. Today, it is indeed a thanks giving occasion. I would like to narr ate, how I \\nenjoyed every minute of my tenure enriched by the wonderful assoc iation from each one \\nof you, hailing from different walks of life, be it politics, sci ence and technology, \\nacademics, arts, literature, business, judiciary, administration, local bodies, farming, \\nhome makers, special children, media and above all from the youth and st udent \\ncommunity who are the future wealth of our country. During my intera ction at \\nRashtrapati Bhavan in Delhi and at every state and union territor y as well as through my \\nonline interactions, I have many unique experiences to share with you, which signify the \\nfollowing important messages: \\n \\n1. Accelerate development : Aspiration of the youth, \\n \\n2. Empower villages, \\n \\n3. Mobilize rural core competence for competitiveness, \\n \\n4. Seed to Food: Backbone for agricultural growth \\n \\n5. Defeat problems and succeed, \\n \\n6. Overcome problems through partnership, \\n \\n7. Courage in combating calamities, \\n \\n8. Connectivity for societal transformation, \\n \\n9. Defending the nation: Our pride and \\n \\n10. Youth movement for Developed India 2020. \\n \\nNow let me share with you each of the messages. \\n \\nAccelerate Development: Aspiration of the youth \\nWhile there were many significant events during my tenure, a question from a little girl \\nAnukriti of Sri Sathya Sai Jagriti Vidya Mandir School, of Dar wa village from Haryana, \\nduring children’s visit to Rashtrapati Bhavan on May 22, 2006, rings in my  mind ever \\nafter. \\n \\nAnukriti asked me “why India cannot become a developed nation before the year 2020”. I \\nappreciated the question and said it was indeed a thoughtful question and assured her that \\nthat her dream would be taken to the highest institution of the nation and we would work'),\n",
       " Document(metadata={'producer': 'GPL Ghostscript 8.15', 'creator': 'PScript5.dll Version 5.2', 'creationdate': 'D:20070730160943', 'moddate': 'D:20070730160943', 'title': 'Microsoft Word - Document1', 'author': 'Shri', 'source': 'apjspeech.pdf', 'total_pages': 7, 'page': 1, 'page_label': '2'}, page_content='for it to achieve before 2020. This question reflects how the desire t o live in developed \\nIndia has entered into the minds of the youth. The same feelings are  echoed by over \\nfifteen lakh youth, whom I have met so far and who represent the drea m of the 540 \\nmillion youth of the nation. The aspirations of the young to live in a prosperous, safe and \\nproud India should be the guiding factor in whatever profession we contribute. \\n \\nEmpower Villages \\nFriends, I recall my visit to Nagaland on 26th October 2002, soon after my assuming \\noffice as President. It was a unique experience for me at Khuza ma village to meet tribal \\nvillage council members and discuss with them the village progress  and the dream of \\nvillage citizens. I was very happy to see the empowered village  council functioning with \\nfinancial powers and taking decisions. I saw a prosperous village with fruits and \\nvegetables production. However, there is a need for providing physical c onnectivity in \\nNagaland through quality roads for enabling faster movement of produ cts from villages \\nto the market. That meeting gave me a powerful message about the t ransformation which \\ncan take place to the 600,000 villages of India, if all the villages a re empowered to deal \\nwith their development and are well connected among themselves and wit h the urban \\nsocieties. \\n \\nMobilizing rural core competence for competitiveness \\nNow I would like to talk about the initiative of Periyar Maniammai College of \\nTechnology for Women, Vallam, Tanjore of Providing Urban Amenities in Rural Areas \\n(PURA) complex involving 65 villages with a population of 3 lakhs. This inc ludes \\nprovision of three connectivities - physical, electronic and knowledge  - leading to \\neconomic connectivity. Periyar PURA has health care centers, pr imary to post graduate \\nlevel education and vocational training centers. This has resulted i n large-scale \\nemployment generation and creation of number of entrepreneurs with the  active support \\nof 1000 self-help groups. Two hundred acres of waste land has been develope d into a \\ncultivable land. The villagers are busy in cultivation, planting Jatropha, herbal and \\nmedicinal plants, power generation using bio-mass, food processing and above all \\nrunning marketing centers. It provides a sustainable economic development model for the \\nwhole region. \\n \\nDuring the last eight months, people of Periyar PURA villages technologically supported \\nby Periyar Maniammai College of Engineering for Women have w orked with experts \\nfrom Japan External Trade Organisation (JETRO) on various products, for  which core \\ncompetence and raw material are available in Thanjavur district. They developed \\ninternationally competitive prototypes for 55 life style products wi th support of JETRO \\nspecialists and feedback from exhibitions at Delhi and Tokyo. This co -operative venture \\nhas enhanced the innovative ability of the people of all the 65 villages  enabling them to \\ndevelop and produce internationally acceptable products. I have seen si milar type of \\nPURA being established in many states. The whole country needs 7000 PU RA to \\nbridging the rural – urban divide. \\n \\nSeed to Food: Backbone for agricultural growth'),\n",
       " Document(metadata={'producer': 'GPL Ghostscript 8.15', 'creator': 'PScript5.dll Version 5.2', 'creationdate': 'D:20070730160943', 'moddate': 'D:20070730160943', 'title': 'Microsoft Word - Document1', 'author': 'Shri', 'source': 'apjspeech.pdf', 'total_pages': 7, 'page': 2, 'page_label': '3'}, page_content='Let me now share with you, the enriching experience I had, whil e meeting more than \\n6000 farmers from different States and Union Territories visitin g Rashtrapati Bhavan. \\nThey evinced keen interest in the Mughal Gardens, the Herbal Gardens , the Spiritual \\nGarden, the Musical Garden, the Bio-diesel garden and the Nutrition Garden and interact \\nwith the Horticultural specialists. Recently, during my address to the agricultural \\nscientists while participating in a National Symposium on “Agri culture Cannot Wait”, I \\nsummarized the many practical suggestions given by farmers. W e have to double the \\nagricultural production with reduced land, reduced water resources and re duced \\nmanpower and improve the economic conditions of the nation through the principle  of \\n“Seed to Food” since agriculture is the backbone of the nation. We should em power the \\nfarmers to protect and nurture the fertile land for second green re volution. Meeting the \\nScientists and the Farmers has given me the confidence \\nthat the nation is poised to increase the agricultural GDP growth by atleast 4% per annum \\nthrough the partnership of farmers and agricultural scientists a nd industries particularly \\nfor value addition. \\n \\nDefeat the problems and succeed \\nOn the evening of February 24, 2007, at Coimbatore, I had a very beautiful experience. \\nAs I got ready for meeting the first person out of twenty appoint ments, a wheel chair was \\nin sight with a smiling person probably in his late fifties; unfortunately he has no hands \\nand legs. His radiant face was revealing his happy state of mi nd. He introduced himself \\nas Vidwan Coimbatore SR Krishna Murthy. I greeted him and asked him  how this had \\nhappened. He smilingly said that it was from by birth. He thanked G od, his parents, \\nteachers and many others for giving him confidence, training and he lp. I asked him, what \\nI could do for him? He said, “I don’t need anything from you. I would like to sing in fr ont \\nof you”. I readily agreed. He sang melodiously the Saint Thyagraj a’s pancha ratna kriti \\nentharo mahanubavulu in Sriragam giving me a glimpse of his talent. I was quite touched. \\nWhat is the message? Despite being physically challenged, the latent talent of music \\ncould blossom in this \\nperson with his positive attitude and perseverance, encouraged by the parents, teachers, \\nacademics and rasikas. Now he wants to give, give and give his art to inspire others. Of \\ncourse, by his merit of music, in July 2007, he performed in the Rashtra pati Bhavan art \\ntheatre. \\n \\nOvercome the impact of disaster through partnership \\nI had the opportunity to experience the Indomitable Spirit of the people and children of \\nJammu & Kashmir even as they were just recovering from the de vastating earthquake in \\n2005. I visited Urusa village on 26th November 2005 which has been adopted by the  \\nWestern Air Command, Air Force for providing relief and medical aid to the residents of \\nthat area. When I went there, I found that the school building had been severely damaged. \\nI met all the school children and the village citizen of Urusa. The villagers apprised me of \\ntheir losses and had all praise for Army and Air Force role in rescue and relief operations \\nalong with state government. I appreciate the courage of the people of Urusa in defeating \\ntheir problems. They have actually become the master of the probl em rather than \\nallowing problems to become their master. Despite the severe l oss due to the earthquake,'),\n",
       " Document(metadata={'producer': 'GPL Ghostscript 8.15', 'creator': 'PScript5.dll Version 5.2', 'creationdate': 'D:20070730160943', 'moddate': 'D:20070730160943', 'title': 'Microsoft Word - Document1', 'author': 'Shri', 'source': 'apjspeech.pdf', 'total_pages': 7, 'page': 3, 'page_label': '4'}, page_content='the children and the members of the village participated in the reli ef operation with the \\nArmed Forces \\nbravely and were smiling when I went to meet them. They interacted with me and said \\nthat the school was functional in the temporary tents. Here, I also witnessed the \\nparticipation of acting Chief Justice of Jammu & Kashmir along with State Government \\nauthorities in on-the-spot settlement of relief grants to be provide d to the victims whose \\nhouses had been damaged in the earth quake. I have experienced many s uch acts of \\ncourage from our citizens when faced with severe challenges. \\n \\nCourage in combating calamities \\nIn 2005, I met the Tribal Council Leaders, Students, Children of Chuckchucha village \\nduring my visit to Car Nicobar Islands. While various reconstruction a nd rehabilitation \\nactivities were in progress, during the discussions with the members  of tribal council, I \\nrealized the unique trait among the Car-Nicobar islanders. Even thoug h there were many \\nhuman losses due to the Tsunami of 26 Dec 2004, the tribal islanders had  taken \\npossession of affected victims as their children and there is nothi ng like orphanage in \\nCar-Nicobar Islands. Touched by their courage, I composed few vers es called “Sea \\nWaves” which reads as follows: \\nSea Waves \\n \\nWe are the children of Sea waves, \\nSea waves are my friends. \\nWhen they become angry, \\nSea waves give the challenges. \\nGod has given the courage, \\nTo challenge the sea waves. \\nAnd we will succeed, \\nWe will succeed \\nWith Almighty’s grace. \\nAll the members who were gathered in the village sang the poem with me and exhibited \\nlots of courage and enthusiasm even though they had gone through severe  suffering \\nduring the Tsunami. \\n \\nConnectivity for societal transformation \\nI addressed the Pan African Parliament on 16 September 2004, at Johannesburg, South \\nAfrica. This was attended by 53 member countries of the Africa n Union, where I \\nproposed the concept of Pan African e-Network for providing seamless and integrated \\nsatellite, fiber optics and wireless network connecting 53 African countries at an \\nestimated cost of US $ 100 million. \\n \\nAs part of the project 12 universities (7 from India and 5 from Africa), 17 Super \\nSpecialty Hospitals (12 from India and 5 from Africa), 53 tele-me dicine centers and 53 \\ntele-education centres in Africa will be connected. The pilot project on tele-education and \\ntele-medicine in Ethiopia has already been commissioned. Indira Gandh i National Open \\nUniversity has taken up the MBA Course for 34 Ethiopian students of Addis  Ababa and \\nHarmaya Universities. As regards, tele-medicine, the special ists from CARE Hospital,'),\n",
       " Document(metadata={'producer': 'GPL Ghostscript 8.15', 'creator': 'PScript5.dll Version 5.2', 'creationdate': 'D:20070730160943', 'moddate': 'D:20070730160943', 'title': 'Microsoft Word - Document1', 'author': 'Shri', 'source': 'apjspeech.pdf', 'total_pages': 7, 'page': 4, 'page_label': '5'}, page_content='Hyderabad are providing one-hour live tele-consultation to doctors in B lack Lion \\nHospital, Addis Ababa in Cardiology and Radiology since November 2006. Using the \\nPan African network the Heads of the State in all the 53 countries  will be connected for \\ninstant communication. I am extremely happy that Indian experience  in bringing the \\nbenefits of technology to the people has enabled us to work with Afric a to bring societal \\ntransformation in the African continent. \\n \\nDefending the nation: Our pride \\nI visited KUMAR in Siachen Glacier located at 17,000 feet altitude held by the Indian \\nArmy, had a memorable underwater journey in INS Sindhurakshak and flew  in a Sukhoi-\\n30 fighter experiencing 2.5 g. In these three experiences, I personal ly felt proud of our \\never vigilant Soldiers, Sailors and Air Warriors performing their  tasks beyond the call of \\ntheir duty even in the most adverse circumstances natural and man m ade. During the last \\nfive years, I had an opportunity to present colours to many regime nts, participate in \\nnumber of passing out parades, meet the troops who were going to undertake  peace \\nmissions and interact with the family members of our Defence F orces. Our Defence \\nForces are in a beautiful mission. When the nation sleeps during night , Members of our \\nDefence teams are awake to guard us and remain vigilant to counte r any threat. The \\nNation cherishes the valour, commitment and devotion to duty of our Defenc e Forces. \\nSimilarly, I had opportunities to interact \\nwith members of our para-military forces, central and state police personnel including \\ninternal security forces who are making immense contribution in au gmenting the safety \\nand security of our citizens under difficult conditions. \\n \\nYouth movement for Developed India 2020 \\nRecently, in Hyderabad, I met a group of citizens who are putting into practice the motto \\nof transforming of our youth into enlightened citizen. The Lead India 2020 Found ation \\ncreated by Dr. N.B. Sudershan at Hyderabad is training thousands of s tudents in many \\ndistricts of Andhra Pradesh in partnership with the District Adm inistration. Particularly, I \\nhappened to know the transformation which has taken place among the students  of \\nMedak district. As per the district authorities the impact of the  training on the students is \\nvisible in terms of self-discipline, love for their parents and tea chers shedding of stage \\nfear and recognition of their duties towards the nation. I talke d to Ms. Padma, a student \\nleader from Andhra Pradesh Tribal Welfare School, Nalgonda who relat ed how she \\nweaned her father away from smoking after imbibing the spirit of  the 10 point oath from \\nthe Lead India Training Camp. This gives me an assurance that the  youth of our country \\nare on the right path \\nthrough this mission oriented programme. With the ignited minds of the 540 million \\nyouth below the age of 25, which I consider is the most powerful resour ce on the earth, \\nunder the earth and above the earth, we have to empower the youth through va lue based \\neducation and leadership. \\n \\nConclusion \\nI was touched by the variety of Indian panorama, emotional content of the tune, cultural \\ndiversity and unity of minds in the vast land of ours. I have cited thes e examples just to \\ngive a glimpse of the richness of our tradition and effort being taken by different agencies'),\n",
       " Document(metadata={'producer': 'GPL Ghostscript 8.15', 'creator': 'PScript5.dll Version 5.2', 'creationdate': 'D:20070730160943', 'moddate': 'D:20070730160943', 'title': 'Microsoft Word - Document1', 'author': 'Shri', 'source': 'apjspeech.pdf', 'total_pages': 7, 'page': 5, 'page_label': '6'}, page_content='to preserve it. There are also many new adventures by instituti ons and individuals. I have \\nexperienced many of them and learnt a lot about my country and our peopl e. Even while \\npursuing our economic growth, we need to do a lot to preserve the rich and diverse \\ntreasures of our culture and civilization. It is our duty for our fut ure generations. This has \\nto be done in a much larger scale through countrywide participatio n of multiple \\ninstitutions. Our country is blessed with natural resources, has shown c onsiderable \\nprogress in the last sixty years, and above all we have hard wor king people particularly \\nthe power of the 540 million youth of the country. Every sector of our count ry has given \\nme the \\nconfidence that India can become a developed nation well before 2020. Whomsoever, I \\nmet they constantly ask what they can give to the nation. We should c onstantly strive to \\nempower such members of the society. With this spirit, I am extr emely happy that we are \\non the right path. Here I am reminded of a famous poem: \\n\"When you wish upon a star, \\nMakes no difference who you are, \\nAnything your heart desires, \\nWill come to you” \\nThis poem is true to all of us, and particularly for our youth and if they aim great, I am \\nsure they will reach close to the target or the target. \\n \\nMy dear citizens, let us resolve to continue to work for realizing the missions of \\ndeveloped India 2020 with the following distinctive profile. \\n \\n1. A Nation where the rural and urban divide has reduced to a thin line. \\n \\n2. A Nation where there is an equitable distribution and adequate access to energy and \\nquality water. \\n \\n3. A Nation where agriculture, industry and service sector work together in symphony. \\n \\n4. A Nation where education with value system is not denied to any meritorious \\ncandidates because of societal or economic discrimination. \\n \\n5. A Nation which is the best destination for the most talented scholars, scientists, and \\ninvestors. \\n \\n6. A Nation where the best of health care is available to all. \\n \\n7. A Nation where the governance is responsive, transparent and corruption free. \\n \\n8. A Nation where poverty has been totally eradicated, illiteracy removed and crimes \\nagainst women and children are absent and none in the society feels alienated. \\n \\n9. A Nation that is prosperous, healthy, secure, peaceful and happy and continues with a \\nsustainable growth path.'),\n",
       " Document(metadata={'producer': 'GPL Ghostscript 8.15', 'creator': 'PScript5.dll Version 5.2', 'creationdate': 'D:20070730160943', 'moddate': 'D:20070730160943', 'title': 'Microsoft Word - Document1', 'author': 'Shri', 'source': 'apjspeech.pdf', 'total_pages': 7, 'page': 6, 'page_label': '7'}, page_content='10. A Nation that is one of the best places to live in and is proud of its leadership. \\n \\nFinally let me thank each one of you for showering your love and affection on me \\nthroughout the last five years by your cooperation and support. \\n \\nDear Citizens, I conclude my address by sharing with you my mission in life which is to \\nbring connectivity between billion hearts and minds of the people of Indi a in our \\nmulticultural society and to embed the self confidence that \"we c an do it\". I will be \\nalways with you, dear citizens, in the great mission of making Indi a a developed nation \\nbefore 2020. \\n \\nMay God bless you. \\n \\nJai hind. \\nDr. A. P. J. Abdul Kalam \\nwww.presidentofindia.nic.in')]"
      ]
     },
     "execution_count": 25,
     "metadata": {},
     "output_type": "execute_result"
    }
   ],
   "source": [
    "docs"
   ]
  },
  {
   "cell_type": "code",
   "execution_count": 26,
   "id": "f6e2948d",
   "metadata": {},
   "outputs": [
    {
     "data": {
      "text/plain": [
       "[Document(metadata={'producer': 'GPL Ghostscript 8.15', 'creator': 'PScript5.dll Version 5.2', 'creationdate': 'D:20070730160943', 'moddate': 'D:20070730160943', 'title': 'Microsoft Word - Document1', 'author': 'Shri', 'source': 'apjspeech.pdf', 'total_pages': 7, 'page': 0, 'page_label': '1'}, page_content='A P J Abdul Kalam Departing speech \\n \\n \\nFriends, I am delighted to address you all, in the country and those living abroad, after \\nworking with you and completing five beautiful and eventful years in Rashtrapati \\nBhavan. Today, it is indeed a thanks giving occasion. I would like to narr ate, how I \\nenjoyed every minute of my tenure enriched by the wonderful assoc iation from each one \\nof you, hailing from different walks of life, be it politics, sci ence and technology, \\nacademics, arts, literature, business, judiciary, administration, local bodies, farming, \\nhome makers, special children, media and above all from the youth and st udent \\ncommunity who are the future wealth of our country. During my intera ction at \\nRashtrapati Bhavan in Delhi and at every state and union territor y as well as through my \\nonline interactions, I have many unique experiences to share with you, which signify the \\nfollowing important messages: \\n \\n1. Accelerate development : Aspiration of the youth, \\n \\n2. Empower villages, \\n \\n3. Mobilize rural core competence for competitiveness, \\n \\n4. Seed to Food: Backbone for agricultural growth \\n \\n5. Defeat problems and succeed, \\n \\n6. Overcome problems through partnership, \\n \\n7. Courage in combating calamities, \\n \\n8. Connectivity for societal transformation, \\n \\n9. Defending the nation: Our pride and \\n \\n10. Youth movement for Developed India 2020. \\n \\nNow let me share with you each of the messages. \\n \\nAccelerate Development: Aspiration of the youth \\nWhile there were many significant events during my tenure, a question from a little girl \\nAnukriti of Sri Sathya Sai Jagriti Vidya Mandir School, of Dar wa village from Haryana, \\nduring children’s visit to Rashtrapati Bhavan on May 22, 2006, rings in my  mind ever \\nafter. \\n \\nAnukriti asked me “why India cannot become a developed nation before the year 2020”. I \\nappreciated the question and said it was indeed a thoughtful question and assured her that'),\n",
       " Document(metadata={'producer': 'GPL Ghostscript 8.15', 'creator': 'PScript5.dll Version 5.2', 'creationdate': 'D:20070730160943', 'moddate': 'D:20070730160943', 'title': 'Microsoft Word - Document1', 'author': 'Shri', 'source': 'apjspeech.pdf', 'total_pages': 7, 'page': 0, 'page_label': '1'}, page_content='appreciated the question and said it was indeed a thoughtful question and assured her that \\nthat her dream would be taken to the highest institution of the nation and we would work'),\n",
       " Document(metadata={'producer': 'GPL Ghostscript 8.15', 'creator': 'PScript5.dll Version 5.2', 'creationdate': 'D:20070730160943', 'moddate': 'D:20070730160943', 'title': 'Microsoft Word - Document1', 'author': 'Shri', 'source': 'apjspeech.pdf', 'total_pages': 7, 'page': 1, 'page_label': '2'}, page_content='for it to achieve before 2020. This question reflects how the desire t o live in developed \\nIndia has entered into the minds of the youth. The same feelings are  echoed by over \\nfifteen lakh youth, whom I have met so far and who represent the drea m of the 540 \\nmillion youth of the nation. The aspirations of the young to live in a prosperous, safe and \\nproud India should be the guiding factor in whatever profession we contribute. \\n \\nEmpower Villages \\nFriends, I recall my visit to Nagaland on 26th October 2002, soon after my assuming \\noffice as President. It was a unique experience for me at Khuza ma village to meet tribal \\nvillage council members and discuss with them the village progress  and the dream of \\nvillage citizens. I was very happy to see the empowered village  council functioning with \\nfinancial powers and taking decisions. I saw a prosperous village with fruits and \\nvegetables production. However, there is a need for providing physical c onnectivity in \\nNagaland through quality roads for enabling faster movement of produ cts from villages \\nto the market. That meeting gave me a powerful message about the t ransformation which \\ncan take place to the 600,000 villages of India, if all the villages a re empowered to deal \\nwith their development and are well connected among themselves and wit h the urban \\nsocieties. \\n \\nMobilizing rural core competence for competitiveness \\nNow I would like to talk about the initiative of Periyar Maniammai College of \\nTechnology for Women, Vallam, Tanjore of Providing Urban Amenities in Rural Areas \\n(PURA) complex involving 65 villages with a population of 3 lakhs. This inc ludes \\nprovision of three connectivities - physical, electronic and knowledge  - leading to \\neconomic connectivity. Periyar PURA has health care centers, pr imary to post graduate \\nlevel education and vocational training centers. This has resulted i n large-scale \\nemployment generation and creation of number of entrepreneurs with the  active support'),\n",
       " Document(metadata={'producer': 'GPL Ghostscript 8.15', 'creator': 'PScript5.dll Version 5.2', 'creationdate': 'D:20070730160943', 'moddate': 'D:20070730160943', 'title': 'Microsoft Word - Document1', 'author': 'Shri', 'source': 'apjspeech.pdf', 'total_pages': 7, 'page': 1, 'page_label': '2'}, page_content='employment generation and creation of number of entrepreneurs with the  active support \\nof 1000 self-help groups. Two hundred acres of waste land has been develope d into a \\ncultivable land. The villagers are busy in cultivation, planting Jatropha, herbal and \\nmedicinal plants, power generation using bio-mass, food processing and above all \\nrunning marketing centers. It provides a sustainable economic development model for the \\nwhole region. \\n \\nDuring the last eight months, people of Periyar PURA villages technologically supported \\nby Periyar Maniammai College of Engineering for Women have w orked with experts \\nfrom Japan External Trade Organisation (JETRO) on various products, for  which core \\ncompetence and raw material are available in Thanjavur district. They developed \\ninternationally competitive prototypes for 55 life style products wi th support of JETRO \\nspecialists and feedback from exhibitions at Delhi and Tokyo. This co -operative venture \\nhas enhanced the innovative ability of the people of all the 65 villages  enabling them to \\ndevelop and produce internationally acceptable products. I have seen si milar type of \\nPURA being established in many states. The whole country needs 7000 PU RA to \\nbridging the rural – urban divide. \\n \\nSeed to Food: Backbone for agricultural growth'),\n",
       " Document(metadata={'producer': 'GPL Ghostscript 8.15', 'creator': 'PScript5.dll Version 5.2', 'creationdate': 'D:20070730160943', 'moddate': 'D:20070730160943', 'title': 'Microsoft Word - Document1', 'author': 'Shri', 'source': 'apjspeech.pdf', 'total_pages': 7, 'page': 2, 'page_label': '3'}, page_content='Let me now share with you, the enriching experience I had, whil e meeting more than \\n6000 farmers from different States and Union Territories visitin g Rashtrapati Bhavan. \\nThey evinced keen interest in the Mughal Gardens, the Herbal Gardens , the Spiritual \\nGarden, the Musical Garden, the Bio-diesel garden and the Nutrition Garden and interact \\nwith the Horticultural specialists. Recently, during my address to the agricultural \\nscientists while participating in a National Symposium on “Agri culture Cannot Wait”, I \\nsummarized the many practical suggestions given by farmers. W e have to double the \\nagricultural production with reduced land, reduced water resources and re duced \\nmanpower and improve the economic conditions of the nation through the principle  of \\n“Seed to Food” since agriculture is the backbone of the nation. We should em power the \\nfarmers to protect and nurture the fertile land for second green re volution. Meeting the \\nScientists and the Farmers has given me the confidence \\nthat the nation is poised to increase the agricultural GDP growth by atleast 4% per annum \\nthrough the partnership of farmers and agricultural scientists a nd industries particularly \\nfor value addition. \\n \\nDefeat the problems and succeed \\nOn the evening of February 24, 2007, at Coimbatore, I had a very beautiful experience. \\nAs I got ready for meeting the first person out of twenty appoint ments, a wheel chair was \\nin sight with a smiling person probably in his late fifties; unfortunately he has no hands \\nand legs. His radiant face was revealing his happy state of mi nd. He introduced himself \\nas Vidwan Coimbatore SR Krishna Murthy. I greeted him and asked him  how this had \\nhappened. He smilingly said that it was from by birth. He thanked G od, his parents, \\nteachers and many others for giving him confidence, training and he lp. I asked him, what \\nI could do for him? He said, “I don’t need anything from you. I would like to sing in fr ont'),\n",
       " Document(metadata={'producer': 'GPL Ghostscript 8.15', 'creator': 'PScript5.dll Version 5.2', 'creationdate': 'D:20070730160943', 'moddate': 'D:20070730160943', 'title': 'Microsoft Word - Document1', 'author': 'Shri', 'source': 'apjspeech.pdf', 'total_pages': 7, 'page': 2, 'page_label': '3'}, page_content='I could do for him? He said, “I don’t need anything from you. I would like to sing in fr ont \\nof you”. I readily agreed. He sang melodiously the Saint Thyagraj a’s pancha ratna kriti \\nentharo mahanubavulu in Sriragam giving me a glimpse of his talent. I was quite touched. \\nWhat is the message? Despite being physically challenged, the latent talent of music \\ncould blossom in this \\nperson with his positive attitude and perseverance, encouraged by the parents, teachers, \\nacademics and rasikas. Now he wants to give, give and give his art to inspire others. Of \\ncourse, by his merit of music, in July 2007, he performed in the Rashtra pati Bhavan art \\ntheatre. \\n \\nOvercome the impact of disaster through partnership \\nI had the opportunity to experience the Indomitable Spirit of the people and children of \\nJammu & Kashmir even as they were just recovering from the de vastating earthquake in \\n2005. I visited Urusa village on 26th November 2005 which has been adopted by the  \\nWestern Air Command, Air Force for providing relief and medical aid to the residents of \\nthat area. When I went there, I found that the school building had been severely damaged. \\nI met all the school children and the village citizen of Urusa. The villagers apprised me of \\ntheir losses and had all praise for Army and Air Force role in rescue and relief operations \\nalong with state government. I appreciate the courage of the people of Urusa in defeating \\ntheir problems. They have actually become the master of the probl em rather than \\nallowing problems to become their master. Despite the severe l oss due to the earthquake,'),\n",
       " Document(metadata={'producer': 'GPL Ghostscript 8.15', 'creator': 'PScript5.dll Version 5.2', 'creationdate': 'D:20070730160943', 'moddate': 'D:20070730160943', 'title': 'Microsoft Word - Document1', 'author': 'Shri', 'source': 'apjspeech.pdf', 'total_pages': 7, 'page': 3, 'page_label': '4'}, page_content='the children and the members of the village participated in the reli ef operation with the \\nArmed Forces \\nbravely and were smiling when I went to meet them. They interacted with me and said \\nthat the school was functional in the temporary tents. Here, I also witnessed the \\nparticipation of acting Chief Justice of Jammu & Kashmir along with State Government \\nauthorities in on-the-spot settlement of relief grants to be provide d to the victims whose \\nhouses had been damaged in the earth quake. I have experienced many s uch acts of \\ncourage from our citizens when faced with severe challenges. \\n \\nCourage in combating calamities \\nIn 2005, I met the Tribal Council Leaders, Students, Children of Chuckchucha village \\nduring my visit to Car Nicobar Islands. While various reconstruction a nd rehabilitation \\nactivities were in progress, during the discussions with the members  of tribal council, I \\nrealized the unique trait among the Car-Nicobar islanders. Even thoug h there were many \\nhuman losses due to the Tsunami of 26 Dec 2004, the tribal islanders had  taken \\npossession of affected victims as their children and there is nothi ng like orphanage in \\nCar-Nicobar Islands. Touched by their courage, I composed few vers es called “Sea \\nWaves” which reads as follows: \\nSea Waves \\n \\nWe are the children of Sea waves, \\nSea waves are my friends. \\nWhen they become angry, \\nSea waves give the challenges. \\nGod has given the courage, \\nTo challenge the sea waves. \\nAnd we will succeed, \\nWe will succeed \\nWith Almighty’s grace. \\nAll the members who were gathered in the village sang the poem with me and exhibited \\nlots of courage and enthusiasm even though they had gone through severe  suffering \\nduring the Tsunami. \\n \\nConnectivity for societal transformation \\nI addressed the Pan African Parliament on 16 September 2004, at Johannesburg, South \\nAfrica. This was attended by 53 member countries of the Africa n Union, where I'),\n",
       " Document(metadata={'producer': 'GPL Ghostscript 8.15', 'creator': 'PScript5.dll Version 5.2', 'creationdate': 'D:20070730160943', 'moddate': 'D:20070730160943', 'title': 'Microsoft Word - Document1', 'author': 'Shri', 'source': 'apjspeech.pdf', 'total_pages': 7, 'page': 3, 'page_label': '4'}, page_content='Africa. This was attended by 53 member countries of the Africa n Union, where I \\nproposed the concept of Pan African e-Network for providing seamless and integrated \\nsatellite, fiber optics and wireless network connecting 53 African countries at an \\nestimated cost of US $ 100 million. \\n \\nAs part of the project 12 universities (7 from India and 5 from Africa), 17 Super \\nSpecialty Hospitals (12 from India and 5 from Africa), 53 tele-me dicine centers and 53 \\ntele-education centres in Africa will be connected. The pilot project on tele-education and \\ntele-medicine in Ethiopia has already been commissioned. Indira Gandh i National Open \\nUniversity has taken up the MBA Course for 34 Ethiopian students of Addis  Ababa and \\nHarmaya Universities. As regards, tele-medicine, the special ists from CARE Hospital,'),\n",
       " Document(metadata={'producer': 'GPL Ghostscript 8.15', 'creator': 'PScript5.dll Version 5.2', 'creationdate': 'D:20070730160943', 'moddate': 'D:20070730160943', 'title': 'Microsoft Word - Document1', 'author': 'Shri', 'source': 'apjspeech.pdf', 'total_pages': 7, 'page': 4, 'page_label': '5'}, page_content='Hyderabad are providing one-hour live tele-consultation to doctors in B lack Lion \\nHospital, Addis Ababa in Cardiology and Radiology since November 2006. Using the \\nPan African network the Heads of the State in all the 53 countries  will be connected for \\ninstant communication. I am extremely happy that Indian experience  in bringing the \\nbenefits of technology to the people has enabled us to work with Afric a to bring societal \\ntransformation in the African continent. \\n \\nDefending the nation: Our pride \\nI visited KUMAR in Siachen Glacier located at 17,000 feet altitude held by the Indian \\nArmy, had a memorable underwater journey in INS Sindhurakshak and flew  in a Sukhoi-\\n30 fighter experiencing 2.5 g. In these three experiences, I personal ly felt proud of our \\never vigilant Soldiers, Sailors and Air Warriors performing their  tasks beyond the call of \\ntheir duty even in the most adverse circumstances natural and man m ade. During the last \\nfive years, I had an opportunity to present colours to many regime nts, participate in \\nnumber of passing out parades, meet the troops who were going to undertake  peace \\nmissions and interact with the family members of our Defence F orces. Our Defence \\nForces are in a beautiful mission. When the nation sleeps during night , Members of our \\nDefence teams are awake to guard us and remain vigilant to counte r any threat. The \\nNation cherishes the valour, commitment and devotion to duty of our Defenc e Forces. \\nSimilarly, I had opportunities to interact \\nwith members of our para-military forces, central and state police personnel including \\ninternal security forces who are making immense contribution in au gmenting the safety \\nand security of our citizens under difficult conditions. \\n \\nYouth movement for Developed India 2020 \\nRecently, in Hyderabad, I met a group of citizens who are putting into practice the motto \\nof transforming of our youth into enlightened citizen. The Lead India 2020 Found ation'),\n",
       " Document(metadata={'producer': 'GPL Ghostscript 8.15', 'creator': 'PScript5.dll Version 5.2', 'creationdate': 'D:20070730160943', 'moddate': 'D:20070730160943', 'title': 'Microsoft Word - Document1', 'author': 'Shri', 'source': 'apjspeech.pdf', 'total_pages': 7, 'page': 4, 'page_label': '5'}, page_content='of transforming of our youth into enlightened citizen. The Lead India 2020 Found ation \\ncreated by Dr. N.B. Sudershan at Hyderabad is training thousands of s tudents in many \\ndistricts of Andhra Pradesh in partnership with the District Adm inistration. Particularly, I \\nhappened to know the transformation which has taken place among the students  of \\nMedak district. As per the district authorities the impact of the  training on the students is \\nvisible in terms of self-discipline, love for their parents and tea chers shedding of stage \\nfear and recognition of their duties towards the nation. I talke d to Ms. Padma, a student \\nleader from Andhra Pradesh Tribal Welfare School, Nalgonda who relat ed how she \\nweaned her father away from smoking after imbibing the spirit of  the 10 point oath from \\nthe Lead India Training Camp. This gives me an assurance that the  youth of our country \\nare on the right path \\nthrough this mission oriented programme. With the ignited minds of the 540 million \\nyouth below the age of 25, which I consider is the most powerful resour ce on the earth, \\nunder the earth and above the earth, we have to empower the youth through va lue based \\neducation and leadership. \\n \\nConclusion \\nI was touched by the variety of Indian panorama, emotional content of the tune, cultural \\ndiversity and unity of minds in the vast land of ours. I have cited thes e examples just to \\ngive a glimpse of the richness of our tradition and effort being taken by different agencies'),\n",
       " Document(metadata={'producer': 'GPL Ghostscript 8.15', 'creator': 'PScript5.dll Version 5.2', 'creationdate': 'D:20070730160943', 'moddate': 'D:20070730160943', 'title': 'Microsoft Word - Document1', 'author': 'Shri', 'source': 'apjspeech.pdf', 'total_pages': 7, 'page': 5, 'page_label': '6'}, page_content='to preserve it. There are also many new adventures by instituti ons and individuals. I have \\nexperienced many of them and learnt a lot about my country and our peopl e. Even while \\npursuing our economic growth, we need to do a lot to preserve the rich and diverse \\ntreasures of our culture and civilization. It is our duty for our fut ure generations. This has \\nto be done in a much larger scale through countrywide participatio n of multiple \\ninstitutions. Our country is blessed with natural resources, has shown c onsiderable \\nprogress in the last sixty years, and above all we have hard wor king people particularly \\nthe power of the 540 million youth of the country. Every sector of our count ry has given \\nme the \\nconfidence that India can become a developed nation well before 2020. Whomsoever, I \\nmet they constantly ask what they can give to the nation. We should c onstantly strive to \\nempower such members of the society. With this spirit, I am extr emely happy that we are \\non the right path. Here I am reminded of a famous poem: \\n\"When you wish upon a star, \\nMakes no difference who you are, \\nAnything your heart desires, \\nWill come to you” \\nThis poem is true to all of us, and particularly for our youth and if they aim great, I am \\nsure they will reach close to the target or the target. \\n \\nMy dear citizens, let us resolve to continue to work for realizing the missions of \\ndeveloped India 2020 with the following distinctive profile. \\n \\n1. A Nation where the rural and urban divide has reduced to a thin line. \\n \\n2. A Nation where there is an equitable distribution and adequate access to energy and \\nquality water. \\n \\n3. A Nation where agriculture, industry and service sector work together in symphony. \\n \\n4. A Nation where education with value system is not denied to any meritorious \\ncandidates because of societal or economic discrimination. \\n \\n5. A Nation which is the best destination for the most talented scholars, scientists, and \\ninvestors.'),\n",
       " Document(metadata={'producer': 'GPL Ghostscript 8.15', 'creator': 'PScript5.dll Version 5.2', 'creationdate': 'D:20070730160943', 'moddate': 'D:20070730160943', 'title': 'Microsoft Word - Document1', 'author': 'Shri', 'source': 'apjspeech.pdf', 'total_pages': 7, 'page': 5, 'page_label': '6'}, page_content='investors. \\n \\n6. A Nation where the best of health care is available to all. \\n \\n7. A Nation where the governance is responsive, transparent and corruption free. \\n \\n8. A Nation where poverty has been totally eradicated, illiteracy removed and crimes \\nagainst women and children are absent and none in the society feels alienated. \\n \\n9. A Nation that is prosperous, healthy, secure, peaceful and happy and continues with a \\nsustainable growth path.'),\n",
       " Document(metadata={'producer': 'GPL Ghostscript 8.15', 'creator': 'PScript5.dll Version 5.2', 'creationdate': 'D:20070730160943', 'moddate': 'D:20070730160943', 'title': 'Microsoft Word - Document1', 'author': 'Shri', 'source': 'apjspeech.pdf', 'total_pages': 7, 'page': 6, 'page_label': '7'}, page_content='10. A Nation that is one of the best places to live in and is proud of its leadership. \\n \\nFinally let me thank each one of you for showering your love and affection on me \\nthroughout the last five years by your cooperation and support. \\n \\nDear Citizens, I conclude my address by sharing with you my mission in life which is to \\nbring connectivity between billion hearts and minds of the people of Indi a in our \\nmulticultural society and to embed the self confidence that \"we c an do it\". I will be \\nalways with you, dear citizens, in the great mission of making Indi a a developed nation \\nbefore 2020. \\n \\nMay God bless you. \\n \\nJai hind. \\nDr. A. P. J. Abdul Kalam \\nwww.presidentofindia.nic.in')]"
      ]
     },
     "execution_count": 26,
     "metadata": {},
     "output_type": "execute_result"
    }
   ],
   "source": [
    "final_documents = RecursiveCharacterTextSplitter(chunk_size=2000, chunk_overlap=100).split_documents(docs)\n",
    "final_documents"
   ]
  },
  {
   "cell_type": "code",
   "execution_count": 27,
   "id": "a75a0744",
   "metadata": {},
   "outputs": [
    {
     "data": {
      "text/plain": [
       "13"
      ]
     },
     "execution_count": 27,
     "metadata": {},
     "output_type": "execute_result"
    }
   ],
   "source": [
    "len(final_documents)"
   ]
  },
  {
   "cell_type": "code",
   "execution_count": 37,
   "metadata": {},
   "outputs": [],
   "source": [
    "chunk_prompt = \"\"\"\n",
    "Please summarize the below speech:\n",
    "Speech: {text}\n",
    "\"\"\"\n",
    "map_prompt_template = PromptTemplate(input_variables=[\"text\"],\n",
    "                                     template=chunk_prompt)"
   ]
  },
  {
   "cell_type": "code",
   "execution_count": 38,
   "id": "8fc43375",
   "metadata": {},
   "outputs": [
    {
     "data": {
      "text/plain": [
       "PromptTemplate(input_variables=['text'], input_types={}, partial_variables={}, template='\\nProvide the final summary of the entire speech with these import points.\\nAdd a Motivation Title, Start the precise summary with an introduction and provide\\nin number points for the speech\\nSpeech:{text}\\n')"
      ]
     },
     "execution_count": 38,
     "metadata": {},
     "output_type": "execute_result"
    }
   ],
   "source": [
    "final_prompt=\"\"\"\n",
    "Provide the final summary of the entire speech with these import points.\n",
    "Add a Motivation Title, Start the precise summary with an introduction and provide\n",
    "in number points for the speech\n",
    "Speech:{text}\n",
    "\"\"\"\n",
    "final_prompt_template = PromptTemplate(input_variables=[\"text\"],\n",
    "                                       template=final_prompt)\n",
    "final_prompt_template"
   ]
  },
  {
   "cell_type": "code",
   "execution_count": 40,
   "id": "5bdb7a30",
   "metadata": {},
   "outputs": [
    {
     "name": "stdout",
     "output_type": "stream",
     "text": [
      "\n",
      "\n",
      "\u001b[1m> Entering new MapReduceDocumentsChain chain...\u001b[0m\n",
      "\n",
      "\n",
      "\u001b[1m> Entering new LLMChain chain...\u001b[0m\n",
      "Prompt after formatting:\n",
      "\u001b[32;1m\u001b[1;3m\n",
      "Please summarize the below speech:\n",
      "Speech: A P J Abdul Kalam Departing speech \n",
      " \n",
      " \n",
      "Friends, I am delighted to address you all, in the country and those living abroad, after \n",
      "working with you and completing five beautiful and eventful years in Rashtrapati \n",
      "Bhavan. Today, it is indeed a thanks giving occasion. I would like to narr ate, how I \n",
      "enjoyed every minute of my tenure enriched by the wonderful assoc iation from each one \n",
      "of you, hailing from different walks of life, be it politics, sci ence and technology, \n",
      "academics, arts, literature, business, judiciary, administration, local bodies, farming, \n",
      "home makers, special children, media and above all from the youth and st udent \n",
      "community who are the future wealth of our country. During my intera ction at \n",
      "Rashtrapati Bhavan in Delhi and at every state and union territor y as well as through my \n",
      "online interactions, I have many unique experiences to share with you, which signify the \n",
      "following important messages: \n",
      " \n",
      "1. Accelerate development : Aspiration of the youth, \n",
      " \n",
      "2. Empower villages, \n",
      " \n",
      "3. Mobilize rural core competence for competitiveness, \n",
      " \n",
      "4. Seed to Food: Backbone for agricultural growth \n",
      " \n",
      "5. Defeat problems and succeed, \n",
      " \n",
      "6. Overcome problems through partnership, \n",
      " \n",
      "7. Courage in combating calamities, \n",
      " \n",
      "8. Connectivity for societal transformation, \n",
      " \n",
      "9. Defending the nation: Our pride and \n",
      " \n",
      "10. Youth movement for Developed India 2020. \n",
      " \n",
      "Now let me share with you each of the messages. \n",
      " \n",
      "Accelerate Development: Aspiration of the youth \n",
      "While there were many significant events during my tenure, a question from a little girl \n",
      "Anukriti of Sri Sathya Sai Jagriti Vidya Mandir School, of Dar wa village from Haryana, \n",
      "during children’s visit to Rashtrapati Bhavan on May 22, 2006, rings in my  mind ever \n",
      "after. \n",
      " \n",
      "Anukriti asked me “why India cannot become a developed nation before the year 2020”. I \n",
      "appreciated the question and said it was indeed a thoughtful question and assured her that\n",
      "\u001b[0m\n",
      "Prompt after formatting:\n",
      "\u001b[32;1m\u001b[1;3m\n",
      "Please summarize the below speech:\n",
      "Speech: appreciated the question and said it was indeed a thoughtful question and assured her that \n",
      "that her dream would be taken to the highest institution of the nation and we would work\n",
      "\u001b[0m\n",
      "Prompt after formatting:\n",
      "\u001b[32;1m\u001b[1;3m\n",
      "Please summarize the below speech:\n",
      "Speech: for it to achieve before 2020. This question reflects how the desire t o live in developed \n",
      "India has entered into the minds of the youth. The same feelings are  echoed by over \n",
      "fifteen lakh youth, whom I have met so far and who represent the drea m of the 540 \n",
      "million youth of the nation. The aspirations of the young to live in a prosperous, safe and \n",
      "proud India should be the guiding factor in whatever profession we contribute. \n",
      " \n",
      "Empower Villages \n",
      "Friends, I recall my visit to Nagaland on 26th October 2002, soon after my assuming \n",
      "office as President. It was a unique experience for me at Khuza ma village to meet tribal \n",
      "village council members and discuss with them the village progress  and the dream of \n",
      "village citizens. I was very happy to see the empowered village  council functioning with \n",
      "financial powers and taking decisions. I saw a prosperous village with fruits and \n",
      "vegetables production. However, there is a need for providing physical c onnectivity in \n",
      "Nagaland through quality roads for enabling faster movement of produ cts from villages \n",
      "to the market. That meeting gave me a powerful message about the t ransformation which \n",
      "can take place to the 600,000 villages of India, if all the villages a re empowered to deal \n",
      "with their development and are well connected among themselves and wit h the urban \n",
      "societies. \n",
      " \n",
      "Mobilizing rural core competence for competitiveness \n",
      "Now I would like to talk about the initiative of Periyar Maniammai College of \n",
      "Technology for Women, Vallam, Tanjore of Providing Urban Amenities in Rural Areas \n",
      "(PURA) complex involving 65 villages with a population of 3 lakhs. This inc ludes \n",
      "provision of three connectivities - physical, electronic and knowledge  - leading to \n",
      "economic connectivity. Periyar PURA has health care centers, pr imary to post graduate \n",
      "level education and vocational training centers. This has resulted i n large-scale \n",
      "employment generation and creation of number of entrepreneurs with the  active support\n",
      "\u001b[0m\n",
      "Prompt after formatting:\n",
      "\u001b[32;1m\u001b[1;3m\n",
      "Please summarize the below speech:\n",
      "Speech: employment generation and creation of number of entrepreneurs with the  active support \n",
      "of 1000 self-help groups. Two hundred acres of waste land has been develope d into a \n",
      "cultivable land. The villagers are busy in cultivation, planting Jatropha, herbal and \n",
      "medicinal plants, power generation using bio-mass, food processing and above all \n",
      "running marketing centers. It provides a sustainable economic development model for the \n",
      "whole region. \n",
      " \n",
      "During the last eight months, people of Periyar PURA villages technologically supported \n",
      "by Periyar Maniammai College of Engineering for Women have w orked with experts \n",
      "from Japan External Trade Organisation (JETRO) on various products, for  which core \n",
      "competence and raw material are available in Thanjavur district. They developed \n",
      "internationally competitive prototypes for 55 life style products wi th support of JETRO \n",
      "specialists and feedback from exhibitions at Delhi and Tokyo. This co -operative venture \n",
      "has enhanced the innovative ability of the people of all the 65 villages  enabling them to \n",
      "develop and produce internationally acceptable products. I have seen si milar type of \n",
      "PURA being established in many states. The whole country needs 7000 PU RA to \n",
      "bridging the rural – urban divide. \n",
      " \n",
      "Seed to Food: Backbone for agricultural growth\n",
      "\u001b[0m\n",
      "Prompt after formatting:\n",
      "\u001b[32;1m\u001b[1;3m\n",
      "Please summarize the below speech:\n",
      "Speech: Let me now share with you, the enriching experience I had, whil e meeting more than \n",
      "6000 farmers from different States and Union Territories visitin g Rashtrapati Bhavan. \n",
      "They evinced keen interest in the Mughal Gardens, the Herbal Gardens , the Spiritual \n",
      "Garden, the Musical Garden, the Bio-diesel garden and the Nutrition Garden and interact \n",
      "with the Horticultural specialists. Recently, during my address to the agricultural \n",
      "scientists while participating in a National Symposium on “Agri culture Cannot Wait”, I \n",
      "summarized the many practical suggestions given by farmers. W e have to double the \n",
      "agricultural production with reduced land, reduced water resources and re duced \n",
      "manpower and improve the economic conditions of the nation through the principle  of \n",
      "“Seed to Food” since agriculture is the backbone of the nation. We should em power the \n",
      "farmers to protect and nurture the fertile land for second green re volution. Meeting the \n",
      "Scientists and the Farmers has given me the confidence \n",
      "that the nation is poised to increase the agricultural GDP growth by atleast 4% per annum \n",
      "through the partnership of farmers and agricultural scientists a nd industries particularly \n",
      "for value addition. \n",
      " \n",
      "Defeat the problems and succeed \n",
      "On the evening of February 24, 2007, at Coimbatore, I had a very beautiful experience. \n",
      "As I got ready for meeting the first person out of twenty appoint ments, a wheel chair was \n",
      "in sight with a smiling person probably in his late fifties; unfortunately he has no hands \n",
      "and legs. His radiant face was revealing his happy state of mi nd. He introduced himself \n",
      "as Vidwan Coimbatore SR Krishna Murthy. I greeted him and asked him  how this had \n",
      "happened. He smilingly said that it was from by birth. He thanked G od, his parents, \n",
      "teachers and many others for giving him confidence, training and he lp. I asked him, what \n",
      "I could do for him? He said, “I don’t need anything from you. I would like to sing in fr ont\n",
      "\u001b[0m\n",
      "Prompt after formatting:\n",
      "\u001b[32;1m\u001b[1;3m\n",
      "Please summarize the below speech:\n",
      "Speech: I could do for him? He said, “I don’t need anything from you. I would like to sing in fr ont \n",
      "of you”. I readily agreed. He sang melodiously the Saint Thyagraj a’s pancha ratna kriti \n",
      "entharo mahanubavulu in Sriragam giving me a glimpse of his talent. I was quite touched. \n",
      "What is the message? Despite being physically challenged, the latent talent of music \n",
      "could blossom in this \n",
      "person with his positive attitude and perseverance, encouraged by the parents, teachers, \n",
      "academics and rasikas. Now he wants to give, give and give his art to inspire others. Of \n",
      "course, by his merit of music, in July 2007, he performed in the Rashtra pati Bhavan art \n",
      "theatre. \n",
      " \n",
      "Overcome the impact of disaster through partnership \n",
      "I had the opportunity to experience the Indomitable Spirit of the people and children of \n",
      "Jammu & Kashmir even as they were just recovering from the de vastating earthquake in \n",
      "2005. I visited Urusa village on 26th November 2005 which has been adopted by the  \n",
      "Western Air Command, Air Force for providing relief and medical aid to the residents of \n",
      "that area. When I went there, I found that the school building had been severely damaged. \n",
      "I met all the school children and the village citizen of Urusa. The villagers apprised me of \n",
      "their losses and had all praise for Army and Air Force role in rescue and relief operations \n",
      "along with state government. I appreciate the courage of the people of Urusa in defeating \n",
      "their problems. They have actually become the master of the probl em rather than \n",
      "allowing problems to become their master. Despite the severe l oss due to the earthquake,\n",
      "\u001b[0m\n",
      "Prompt after formatting:\n",
      "\u001b[32;1m\u001b[1;3m\n",
      "Please summarize the below speech:\n",
      "Speech: the children and the members of the village participated in the reli ef operation with the \n",
      "Armed Forces \n",
      "bravely and were smiling when I went to meet them. They interacted with me and said \n",
      "that the school was functional in the temporary tents. Here, I also witnessed the \n",
      "participation of acting Chief Justice of Jammu & Kashmir along with State Government \n",
      "authorities in on-the-spot settlement of relief grants to be provide d to the victims whose \n",
      "houses had been damaged in the earth quake. I have experienced many s uch acts of \n",
      "courage from our citizens when faced with severe challenges. \n",
      " \n",
      "Courage in combating calamities \n",
      "In 2005, I met the Tribal Council Leaders, Students, Children of Chuckchucha village \n",
      "during my visit to Car Nicobar Islands. While various reconstruction a nd rehabilitation \n",
      "activities were in progress, during the discussions with the members  of tribal council, I \n",
      "realized the unique trait among the Car-Nicobar islanders. Even thoug h there were many \n",
      "human losses due to the Tsunami of 26 Dec 2004, the tribal islanders had  taken \n",
      "possession of affected victims as their children and there is nothi ng like orphanage in \n",
      "Car-Nicobar Islands. Touched by their courage, I composed few vers es called “Sea \n",
      "Waves” which reads as follows: \n",
      "Sea Waves \n",
      " \n",
      "We are the children of Sea waves, \n",
      "Sea waves are my friends. \n",
      "When they become angry, \n",
      "Sea waves give the challenges. \n",
      "God has given the courage, \n",
      "To challenge the sea waves. \n",
      "And we will succeed, \n",
      "We will succeed \n",
      "With Almighty’s grace. \n",
      "All the members who were gathered in the village sang the poem with me and exhibited \n",
      "lots of courage and enthusiasm even though they had gone through severe  suffering \n",
      "during the Tsunami. \n",
      " \n",
      "Connectivity for societal transformation \n",
      "I addressed the Pan African Parliament on 16 September 2004, at Johannesburg, South \n",
      "Africa. This was attended by 53 member countries of the Africa n Union, where I\n",
      "\u001b[0m\n",
      "Prompt after formatting:\n",
      "\u001b[32;1m\u001b[1;3m\n",
      "Please summarize the below speech:\n",
      "Speech: Africa. This was attended by 53 member countries of the Africa n Union, where I \n",
      "proposed the concept of Pan African e-Network for providing seamless and integrated \n",
      "satellite, fiber optics and wireless network connecting 53 African countries at an \n",
      "estimated cost of US $ 100 million. \n",
      " \n",
      "As part of the project 12 universities (7 from India and 5 from Africa), 17 Super \n",
      "Specialty Hospitals (12 from India and 5 from Africa), 53 tele-me dicine centers and 53 \n",
      "tele-education centres in Africa will be connected. The pilot project on tele-education and \n",
      "tele-medicine in Ethiopia has already been commissioned. Indira Gandh i National Open \n",
      "University has taken up the MBA Course for 34 Ethiopian students of Addis  Ababa and \n",
      "Harmaya Universities. As regards, tele-medicine, the special ists from CARE Hospital,\n",
      "\u001b[0m\n",
      "Prompt after formatting:\n",
      "\u001b[32;1m\u001b[1;3m\n",
      "Please summarize the below speech:\n",
      "Speech: Hyderabad are providing one-hour live tele-consultation to doctors in B lack Lion \n",
      "Hospital, Addis Ababa in Cardiology and Radiology since November 2006. Using the \n",
      "Pan African network the Heads of the State in all the 53 countries  will be connected for \n",
      "instant communication. I am extremely happy that Indian experience  in bringing the \n",
      "benefits of technology to the people has enabled us to work with Afric a to bring societal \n",
      "transformation in the African continent. \n",
      " \n",
      "Defending the nation: Our pride \n",
      "I visited KUMAR in Siachen Glacier located at 17,000 feet altitude held by the Indian \n",
      "Army, had a memorable underwater journey in INS Sindhurakshak and flew  in a Sukhoi-\n",
      "30 fighter experiencing 2.5 g. In these three experiences, I personal ly felt proud of our \n",
      "ever vigilant Soldiers, Sailors and Air Warriors performing their  tasks beyond the call of \n",
      "their duty even in the most adverse circumstances natural and man m ade. During the last \n",
      "five years, I had an opportunity to present colours to many regime nts, participate in \n",
      "number of passing out parades, meet the troops who were going to undertake  peace \n",
      "missions and interact with the family members of our Defence F orces. Our Defence \n",
      "Forces are in a beautiful mission. When the nation sleeps during night , Members of our \n",
      "Defence teams are awake to guard us and remain vigilant to counte r any threat. The \n",
      "Nation cherishes the valour, commitment and devotion to duty of our Defenc e Forces. \n",
      "Similarly, I had opportunities to interact \n",
      "with members of our para-military forces, central and state police personnel including \n",
      "internal security forces who are making immense contribution in au gmenting the safety \n",
      "and security of our citizens under difficult conditions. \n",
      " \n",
      "Youth movement for Developed India 2020 \n",
      "Recently, in Hyderabad, I met a group of citizens who are putting into practice the motto \n",
      "of transforming of our youth into enlightened citizen. The Lead India 2020 Found ation\n",
      "\u001b[0m\n",
      "Prompt after formatting:\n",
      "\u001b[32;1m\u001b[1;3m\n",
      "Please summarize the below speech:\n",
      "Speech: of transforming of our youth into enlightened citizen. The Lead India 2020 Found ation \n",
      "created by Dr. N.B. Sudershan at Hyderabad is training thousands of s tudents in many \n",
      "districts of Andhra Pradesh in partnership with the District Adm inistration. Particularly, I \n",
      "happened to know the transformation which has taken place among the students  of \n",
      "Medak district. As per the district authorities the impact of the  training on the students is \n",
      "visible in terms of self-discipline, love for their parents and tea chers shedding of stage \n",
      "fear and recognition of their duties towards the nation. I talke d to Ms. Padma, a student \n",
      "leader from Andhra Pradesh Tribal Welfare School, Nalgonda who relat ed how she \n",
      "weaned her father away from smoking after imbibing the spirit of  the 10 point oath from \n",
      "the Lead India Training Camp. This gives me an assurance that the  youth of our country \n",
      "are on the right path \n",
      "through this mission oriented programme. With the ignited minds of the 540 million \n",
      "youth below the age of 25, which I consider is the most powerful resour ce on the earth, \n",
      "under the earth and above the earth, we have to empower the youth through va lue based \n",
      "education and leadership. \n",
      " \n",
      "Conclusion \n",
      "I was touched by the variety of Indian panorama, emotional content of the tune, cultural \n",
      "diversity and unity of minds in the vast land of ours. I have cited thes e examples just to \n",
      "give a glimpse of the richness of our tradition and effort being taken by different agencies\n",
      "\u001b[0m\n",
      "Prompt after formatting:\n",
      "\u001b[32;1m\u001b[1;3m\n",
      "Please summarize the below speech:\n",
      "Speech: to preserve it. There are also many new adventures by instituti ons and individuals. I have \n",
      "experienced many of them and learnt a lot about my country and our peopl e. Even while \n",
      "pursuing our economic growth, we need to do a lot to preserve the rich and diverse \n",
      "treasures of our culture and civilization. It is our duty for our fut ure generations. This has \n",
      "to be done in a much larger scale through countrywide participatio n of multiple \n",
      "institutions. Our country is blessed with natural resources, has shown c onsiderable \n",
      "progress in the last sixty years, and above all we have hard wor king people particularly \n",
      "the power of the 540 million youth of the country. Every sector of our count ry has given \n",
      "me the \n",
      "confidence that India can become a developed nation well before 2020. Whomsoever, I \n",
      "met they constantly ask what they can give to the nation. We should c onstantly strive to \n",
      "empower such members of the society. With this spirit, I am extr emely happy that we are \n",
      "on the right path. Here I am reminded of a famous poem: \n",
      "\"When you wish upon a star, \n",
      "Makes no difference who you are, \n",
      "Anything your heart desires, \n",
      "Will come to you” \n",
      "This poem is true to all of us, and particularly for our youth and if they aim great, I am \n",
      "sure they will reach close to the target or the target. \n",
      " \n",
      "My dear citizens, let us resolve to continue to work for realizing the missions of \n",
      "developed India 2020 with the following distinctive profile. \n",
      " \n",
      "1. A Nation where the rural and urban divide has reduced to a thin line. \n",
      " \n",
      "2. A Nation where there is an equitable distribution and adequate access to energy and \n",
      "quality water. \n",
      " \n",
      "3. A Nation where agriculture, industry and service sector work together in symphony. \n",
      " \n",
      "4. A Nation where education with value system is not denied to any meritorious \n",
      "candidates because of societal or economic discrimination. \n",
      " \n",
      "5. A Nation which is the best destination for the most talented scholars, scientists, and \n",
      "investors.\n",
      "\u001b[0m\n",
      "Prompt after formatting:\n",
      "\u001b[32;1m\u001b[1;3m\n",
      "Please summarize the below speech:\n",
      "Speech: investors. \n",
      " \n",
      "6. A Nation where the best of health care is available to all. \n",
      " \n",
      "7. A Nation where the governance is responsive, transparent and corruption free. \n",
      " \n",
      "8. A Nation where poverty has been totally eradicated, illiteracy removed and crimes \n",
      "against women and children are absent and none in the society feels alienated. \n",
      " \n",
      "9. A Nation that is prosperous, healthy, secure, peaceful and happy and continues with a \n",
      "sustainable growth path.\n",
      "\u001b[0m\n",
      "Prompt after formatting:\n",
      "\u001b[32;1m\u001b[1;3m\n",
      "Please summarize the below speech:\n",
      "Speech: 10. A Nation that is one of the best places to live in and is proud of its leadership. \n",
      " \n",
      "Finally let me thank each one of you for showering your love and affection on me \n",
      "throughout the last five years by your cooperation and support. \n",
      " \n",
      "Dear Citizens, I conclude my address by sharing with you my mission in life which is to \n",
      "bring connectivity between billion hearts and minds of the people of Indi a in our \n",
      "multicultural society and to embed the self confidence that \"we c an do it\". I will be \n",
      "always with you, dear citizens, in the great mission of making Indi a a developed nation \n",
      "before 2020. \n",
      " \n",
      "May God bless you. \n",
      " \n",
      "Jai hind. \n",
      "Dr. A. P. J. Abdul Kalam \n",
      "www.presidentofindia.nic.in\n",
      "\u001b[0m\n"
     ]
    },
    {
     "name": "stderr",
     "output_type": "stream",
     "text": [
      "Token indices sequence length is longer than the specified maximum sequence length for this model (2124 > 1024). Running this sequence through the model will result in indexing errors\n"
     ]
    },
    {
     "name": "stdout",
     "output_type": "stream",
     "text": [
      "\n",
      "\u001b[1m> Finished chain.\u001b[0m\n",
      "\n",
      "\n",
      "\u001b[1m> Entering new LLMChain chain...\u001b[0m\n",
      "Prompt after formatting:\n",
      "\u001b[32;1m\u001b[1;3m\n",
      "Provide the final summary of the entire speech with these import points.\n",
      "Add a Motivation Title, Start the precise summary with an introduction and provide\n",
      "in number points for the speech\n",
      "Speech:The speech is the departing speech of A.P.J. Abdul Kalam, the former President of India, after completing his five-year term at Rashtrapati Bhavan. He expresses his gratitude to the people of India and those living abroad for their support and association during his tenure. \n",
      "\n",
      "He highlights 10 important messages that he has gathered from his interactions with people from various walks of life, including:\n",
      "\n",
      "1. Accelerating development to meet the aspirations of the youth\n",
      "2. Empowering villages\n",
      "3. Mobilizing rural core competence for competitiveness\n",
      "4. Fostering agricultural growth\n",
      "5. Overcoming problems through partnership and courage\n",
      "6. Connecting people for societal transformation\n",
      "7. Defending the nation\n",
      "8. Promoting a youth movement for a developed India by 2020\n",
      "\n",
      "He shares a personal anecdote about a question from a young girl named Anukriti, who asked why India cannot become a developed nation before 2020. He appreciated her question and assured her that it was possible with collective effort.\n",
      "\n",
      "The overall tone of the speech is one of optimism, gratitude, and a call to action to work together towards a developed India.\n",
      "\n",
      "The speaker thanked the person for their question, acknowledged its thoughtfulness, and promised to take their idea or \"dream\" to the highest level of government or authority, with a commitment to work on it.\n",
      "\n",
      "The speech appears to be from a former President of India, likely A.P.J. Abdul Kalam. The main points of the speech are:\n",
      "\n",
      "1. The speaker emphasizes the desire of Indian youth to live in a developed India and notes that this aspiration should guide their professional contributions.\n",
      "2. The speaker shares an experience from a visit to Nagaland in 2002, where they saw an empowered village council functioning effectively, but noted the need for better physical connectivity to markets.\n",
      "3. The speaker highlights the potential for transformation in India's 600,000 villages if they are empowered to manage their own development and are well-connected to urban societies.\n",
      "4. The speaker mentions the Periyar Maniammai College of Technology for Women's initiative, \"Providing Urban Amenities in Rural Areas\" (PURA), which aims to provide physical, electronic, and knowledge connectivity to 65 villages, resulting in employment generation and entrepreneurship.\n",
      "\n",
      "The overall theme of the speech is the importance of empowering rural villages and providing them with connectivity to drive development and prosperity in India.\n",
      "\n",
      "The speech discusses the success of a rural development project, known as Periyar PURA, which aims to create employment and entrepreneurs in rural areas. Key achievements include:\n",
      "\n",
      "* Developing 200 acres of waste land into cultivable land for planting and harvesting various crops\n",
      "* Creating a sustainable economic development model through activities like bio-mass power generation, food processing, and marketing centers\n",
      "* Collaborating with experts from Japan to develop 55 internationally competitive lifestyle products\n",
      "* Enhancing the innovative abilities of villagers to produce acceptable products\n",
      "\n",
      "The speaker also emphasizes the need for more such projects, estimating that 7,000 PURA initiatives are required to bridge the rural-urban divide in the country. Additionally, they highlight the importance of agricultural growth, using the phrase \"Seed to Food\" as the backbone for this growth.\n",
      "\n",
      "The speech describes two inspiring experiences. \n",
      "\n",
      "The first part of the speech talks about the speaker's interaction with over 6,000 farmers from different states and union territories who visited Rashtrapati Bhavan. The farmers showed interest in various gardens and interacted with horticultural specialists. The speaker emphasizes the need to double agricultural production with limited resources and improve the economic conditions of the nation through the principle of \"Seed to Food.\" The speaker expresses confidence that the nation can increase agricultural GDP growth by at least 4% per annum through partnerships between farmers, scientists, and industries.\n",
      "\n",
      "The second part of the speech tells the story of Vidwan Coimbatore SR Krishna Murthy, a person born without hands and legs, who the speaker met in Coimbatore. Despite his physical limitations, Krishna Murthy has a positive and radiant attitude, attributing his confidence to the support of his parents, teachers, and others. When asked what the speaker could do for him, Krishna Murthy replied that he didn't need anything and instead wanted to sing in front of the speaker, demonstrating his resilience and determination to overcome his challenges. The overall message of the speech is one of inspiration, empowerment, and overcoming adversity to achieve success.\n",
      "\n",
      "The speech discusses two inspiring stories of overcoming challenges. The first story is about a physically challenged person who, despite his disability, has a latent talent for music and a positive attitude. With the support of his parents, teachers, and others, he was able to develop his talent and even perform at the Rashtra Pati Bhavan art theatre in 2007.\n",
      "\n",
      "The second story is about the people of Urusa village in Jammu & Kashmir, who were recovering from a devastating earthquake in 2005. The speaker visited the village and was impressed by the courage and resilience of the people, who were able to overcome their problems and become \"masters of their problems\" rather than being defeated by them. The speech highlights the importance of partnership, perseverance, and a positive attitude in overcoming challenges and achieving success.\n",
      "\n",
      "The speech discusses the speaker's experiences with people's courage and resilience in the face of natural disasters and challenges. The speaker mentions visiting a village after an earthquake, where they saw children and villagers participating in relief efforts with the Armed Forces, and witnessed the acting Chief Justice and state government authorities providing relief grants to victims. The speaker also shares their experience visiting the Car Nicobar Islands after the 2004 tsunami, where they met with tribal council leaders and were inspired by the community's courage and resilience. The speaker even composed a poem, \"Sea Waves,\" which they sang with the villagers, highlighting their determination to overcome challenges. The speech also briefly mentions the speaker's address to the Pan African Parliament in 2004, but the main focus is on the theme of courage and resilience in the face of adversity.\n",
      "\n",
      "The speaker discussed a proposal for a Pan African e-Network, a $100 million project to connect 53 African countries through a seamless satellite, fiber optics, and wireless network. The project aims to link:\n",
      "\n",
      "* 12 universities (7 in India and 5 in Africa)\n",
      "* 17 Super Specialty Hospitals (12 in India and 5 in Africa)\n",
      "* 53 tele-medicine centers\n",
      "* 53 tele-education centers in Africa\n",
      "\n",
      "A pilot project has already been launched in Ethiopia, with Indian universities and hospitals participating. Specifically, the Indira Gandhi National Open University is offering an MBA course to 34 Ethiopian students, and specialists from CARE Hospital are involved in tele-medicine efforts. The goal is to promote education and healthcare across Africa through technology.\n",
      "\n",
      "The speech discusses three main topics: \n",
      "\n",
      "1. **India's global cooperation**: The speaker mentions India's collaboration with Africa, specifically a tele-consultation program between Hyderabad and a hospital in Addis Ababa, and the potential for the Pan African network to connect leaders across 53 countries.\n",
      "\n",
      "2. **Defending the nation**: The speaker expresses pride in India's defense forces, sharing personal experiences visiting the Siachen Glacier, being on a submarine, and flying in a fighter jet. They acknowledge the sacrifices and dedication of the defense personnel and their families.\n",
      "\n",
      "3. **Youth movement for development**: The speaker touches on the topic of empowering Indian youth, mentioning a meeting with a group in Hyderabad who are working towards transforming youth into enlightened citizens as part of the \"Lead India 2020 Foundation\". The goal is to contribute to India's development by harnessing the potential of its young population.\n",
      "\n",
      "The speech discusses the importance of transforming India's youth into enlightened citizens. It highlights the work of the Lead India 2020 Foundation, which is training thousands of students in Andhra Pradesh in partnership with the district administration. The speaker shares examples of the positive impact of this training, including increased self-discipline, love for parents and teachers, and a sense of duty towards the nation. The speaker also mentions a personal anecdote about a student who was inspired to help her father quit smoking after attending a Lead India training camp. The speech concludes by emphasizing the need to empower the 540 million youth in India through value-based education and leadership, and expressing optimism about the country's future.\n",
      "\n",
      "The speech emphasizes the importance of preserving India's cultural heritage and natural resources while pursuing economic growth. The speaker expresses confidence that India can become a developed nation by 2020, driven by the power of its 540 million youth. They highlight the need for collective effort and participation from multiple institutions to achieve this goal.\n",
      "\n",
      "The speaker also shares a vision for a developed India with the following characteristics:\n",
      "\n",
      "1. Reduced rural-urban divide\n",
      "2. Equitable access to energy and quality water\n",
      "3. Harmony between agriculture, industry, and service sectors\n",
      "4. Access to education with a value system, regardless of socio-economic background\n",
      "5. A hub for talented scholars, scientists, and investors\n",
      "\n",
      "The speech concludes with a message of optimism and resolve, encouraging citizens to work together to achieve the vision of a developed India by 2020.\n",
      "\n",
      "The speech describes a vision for a ideal nation with the following characteristics:\n",
      "\n",
      "* Universal access to quality healthcare\n",
      "* Transparent, responsive, and corruption-free governance\n",
      "* Eradication of poverty, illiteracy, and crimes against women and children\n",
      "* A society where everyone feels included and valued\n",
      "* Overall prosperity, health, security, peace, and happiness, with sustainable growth.\n",
      "\n",
      "The speech is a conclusion by Dr. A.P.J. Abdul Kalam, the President of India at the time. He thanks the citizens for their support over the last five years and shares his mission to unite the hearts and minds of the people of India, promoting self-confidence and multiculturalism. He expresses his commitment to helping India become a developed nation by 2020 and ends with a blessing and a patriotic phrase, \"Jai Hind\" (Victory to India).\n",
      "\u001b[0m\n",
      "\n",
      "\u001b[1m> Finished chain.\u001b[0m\n",
      "\n",
      "\u001b[1m> Finished chain.\u001b[0m\n"
     ]
    },
    {
     "data": {
      "text/plain": [
       "'**Motivation Title: \"Empowering a Developed India: A Call to Action\"**\\n\\nThe departing speech of A.P.J. Abdul Kalam, the former President of India, is a comprehensive and inspiring address that highlights the importance of collective effort in achieving a developed India by 2020. The speech is a culmination of his interactions with people from various walks of life, and it emphasizes the need for empowerment, partnership, and courage to overcome the challenges facing the nation.\\n\\nThe key points of the speech can be summarized as follows:\\n\\n1. **Accelerating development**: The need to accelerate development to meet the aspirations of the youth and to empower villages to drive growth and prosperity.\\n2. **Empowering rural areas**: The importance of empowering rural areas through initiatives like PURA (Providing Urban Amenities in Rural Areas) to create employment and entrepreneurship opportunities.\\n3. **Agricultural growth**: The need to focus on agricultural growth, using the principle of \"Seed to Food\" to increase agricultural GDP growth and improve the economic conditions of the nation.\\n4. **Defending the nation**: The importance of defending the nation and promoting a sense of patriotism and national pride.\\n5. **Youth movement**: The need to empower the 540 million youth in India through value-based education and leadership to drive the country\\'s development.\\n6. **Preserving cultural heritage**: The importance of preserving India\\'s cultural heritage and natural resources while pursuing economic growth.\\n7. **Collective effort**: The need for collective effort and participation from multiple institutions to achieve the goal of a developed India by 2020.\\n8. **Vision for a developed India**: The speaker\\'s vision for a developed India, which includes characteristics such as reduced rural-urban divide, equitable access to energy and quality water, and harmony between agriculture, industry, and service sectors.\\n9. **Importance of courage and resilience**: The importance of courage and resilience in overcoming challenges and achieving success, as exemplified by the stories of individuals who have overcome physical disabilities and natural disasters.\\n10. **Call to action**: The speech concludes with a call to action, encouraging citizens to work together to achieve the vision of a developed India by 2020 and to promote self-confidence, multiculturalism, and national pride.\\n\\nOverall, the speech is a powerful and inspiring call to action, emphasizing the need for collective effort, empowerment, and courage to achieve the goal of a developed India by 2020.'"
      ]
     },
     "execution_count": 40,
     "metadata": {},
     "output_type": "execute_result"
    }
   ],
   "source": [
    "summary_chain = load_summarize_chain(\n",
    "    llm=llm,\n",
    "    chain_type=\"map_reduce\",\n",
    "    map_prompt=map_prompt_template,\n",
    "    combine_prompt = final_prompt_template,\n",
    "    verbose=True\n",
    ")\n",
    "\n",
    "output = summary_chain.run(final_documents)\n",
    "output"
   ]
  },
  {
   "cell_type": "markdown",
   "id": "2e7cab38",
   "metadata": {},
   "source": [
    "### 5. using Refine Chain Summarixation"
   ]
  },
  {
   "cell_type": "code",
   "execution_count": null,
   "metadata": {},
   "outputs": [],
   "source": []
  },
  {
   "cell_type": "code",
   "execution_count": null,
   "id": "59433a5f",
   "metadata": {},
   "outputs": [],
   "source": []
  },
  {
   "cell_type": "code",
   "execution_count": null,
   "id": "bb1ee598",
   "metadata": {},
   "outputs": [],
   "source": []
  }
 ],
 "metadata": {
  "kernelspec": {
   "display_name": "langchain-3.13.2",
   "language": "python",
   "name": "python3"
  },
  "language_info": {
   "codemirror_mode": {
    "name": "ipython",
    "version": 3
   },
   "file_extension": ".py",
   "mimetype": "text/x-python",
   "name": "python",
   "nbconvert_exporter": "python",
   "pygments_lexer": "ipython3",
   "version": "3.13.2"
  }
 },
 "nbformat": 4,
 "nbformat_minor": 5
}
