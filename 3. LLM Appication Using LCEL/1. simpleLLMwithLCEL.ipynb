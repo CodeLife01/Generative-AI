{
 "cells": [
  {
   "cell_type": "markdown",
   "id": "cc87ac9e",
   "metadata": {},
   "source": [
    "### Build a Simple LLM Application with LCEL\n",
    "In this quickstart we'll show you how to build a simple LLM application with LangChain. This application will translate text from English into another language. This is a relatively simple LLM application - it's just a single LLM call plus some prompting. Still, this is a great way to get started with LangChain - a lot of features can be built with just some prompting and an LLM call!\n",
    "\n",
    "After seeing this video, you'll have a high level overview of:\n",
    "\n",
    "- Using language models\n",
    "\n",
    "- Using PromptTemplates and OutputParsers\n",
    "\n",
    "- Using LangChain Expression Language (LCEL) to chain components together\n",
    "\n",
    "- Debugging and tracing your application using LangSmith\n",
    "\n",
    "- Deploying your application with LangServe"
   ]
  },
  {
   "cell_type": "markdown",
   "id": "20e1ef3e",
   "metadata": {},
   "source": [
    "\n",
    "### What is LCEL?\n",
    "\n",
    "LCEL stands for LangChain Expression Language. It is a powerful tool within LangChain that allows developers to chain components together in a structured and efficient manner. LCEL simplifies the process of building complex workflows by enabling seamless integration of language models, prompt templates, and output parsers.\n",
    "\n",
    "With LCEL, you can:\n",
    "\n",
    "- Combine multiple components into a single workflow.\n",
    "- Debug and trace your application effectively using LangSmith.\n",
    "- Deploy your application easily with LangServe.\n",
    "\n",
    "LCEL is particularly useful for creating modular and reusable components in your LLM applications.\n"
   ]
  },
  {
   "cell_type": "code",
   "execution_count": 3,
   "id": "dee14503",
   "metadata": {},
   "outputs": [],
   "source": [
    "### Open AI API Key and Open Source Models --Llama2, Gemma, Mistral --Groq\n",
    "import os\n",
    "from dotenv import load_dotenv\n",
    "load_dotenv()\n",
    "\n",
    "import openai\n",
    "openai.api_key = os.getenv(\"OPENAI_API_KEY\")\n",
    "\n",
    "groq_api_key = os.getenv(\"GROQ_API_KEY\")\n",
    "\n"
   ]
  },
  {
   "cell_type": "code",
   "execution_count": 4,
   "id": "351d1b3b",
   "metadata": {},
   "outputs": [
    {
     "ename": "ModuleNotFoundError",
     "evalue": "No module named 'langchain_openai'",
     "output_type": "error",
     "traceback": [
      "\u001b[31m---------------------------------------------------------------------------\u001b[39m",
      "\u001b[31mModuleNotFoundError\u001b[39m                       Traceback (most recent call last)",
      "\u001b[36mCell\u001b[39m\u001b[36m \u001b[39m\u001b[32mIn[4]\u001b[39m\u001b[32m, line 1\u001b[39m\n\u001b[32m----> \u001b[39m\u001b[32m1\u001b[39m \u001b[38;5;28;01mfrom\u001b[39;00m\u001b[38;5;250m \u001b[39m\u001b[34;01mlangchain_openai\u001b[39;00m\u001b[38;5;250m \u001b[39m\u001b[38;5;28;01mimport\u001b[39;00m ChatOpenAI\n\u001b[32m      2\u001b[39m \u001b[38;5;28;01mfrom\u001b[39;00m\u001b[38;5;250m \u001b[39m\u001b[34;01mlangchain_groq\u001b[39;00m\u001b[38;5;250m \u001b[39m\u001b[38;5;28;01mimport\u001b[39;00m ChatGroq\n\u001b[32m      4\u001b[39m model = ChatGroq(model =\u001b[33m\"\u001b[39m\u001b[33mgemma2-9b-it\u001b[39m\u001b[33m\"\u001b[39m, groq_api_key=groq_api_key)\n",
      "\u001b[31mModuleNotFoundError\u001b[39m: No module named 'langchain_openai'"
     ]
    }
   ],
   "source": [
    "from langchain_openai import ChatOpenAI\n",
    "from langchain_groq import ChatGroq\n",
    "\n",
    "model = ChatGroq(model =\"gemma2-9b-it\", groq_api_key=groq_api_key)\n",
    "model"
   ]
  },
  {
   "cell_type": "code",
   "execution_count": 32,
   "metadata": {},
   "outputs": [],
   "source": [
    "from langchain_core.messages import HumanMessage, SystemMessage\n",
    "\n",
    "messages = [\n",
    "    SystemMessage(\n",
    "        content=\"Translate the following English text to French\"),\n",
    "    HumanMessage(\n",
    "        content=\"Hello, how are you?\")\n",
    "]\n",
    "\n",
    "response = model.invoke(messages)\n"
   ]
  },
  {
   "cell_type": "code",
   "execution_count": 33,
   "id": "cf9414ea",
   "metadata": {},
   "outputs": [
    {
     "data": {
      "text/plain": [
       "AIMessage(content='Bonjour, comment allez-vous ? \\n\\n\\nThis is the most common and formal way to say \"Hello, how are you?\" in French. \\n', additional_kwargs={}, response_metadata={'token_usage': {'completion_tokens': 33, 'prompt_tokens': 22, 'total_tokens': 55, 'completion_time': 0.06, 'prompt_time': 0.002229266, 'queue_time': 0.233778333, 'total_time': 0.062229266}, 'model_name': 'gemma2-9b-it', 'system_fingerprint': 'fp_10c08bf97d', 'finish_reason': 'stop', 'logprobs': None}, id='run-c34d75fe-6f05-4223-bf37-1f6b44b13bab-0', usage_metadata={'input_tokens': 22, 'output_tokens': 33, 'total_tokens': 55})"
      ]
     },
     "execution_count": 33,
     "metadata": {},
     "output_type": "execute_result"
    }
   ],
   "source": [
    "response"
   ]
  },
  {
   "cell_type": "code",
   "execution_count": 34,
   "id": "c5f7fc94",
   "metadata": {},
   "outputs": [
    {
     "data": {
      "text/plain": [
       "'Bonjour, comment allez-vous ? \\n\\n\\nThis is the most common and formal way to say \"Hello, how are you?\" in French. \\n'"
      ]
     },
     "execution_count": 34,
     "metadata": {},
     "output_type": "execute_result"
    }
   ],
   "source": [
    "from langchain_core.output_parsers import StrOutputParser\n",
    "parser = StrOutputParser()\n",
    "parser.invoke(response)"
   ]
  },
  {
   "cell_type": "code",
   "execution_count": 35,
   "id": "46472e65",
   "metadata": {},
   "outputs": [
    {
     "data": {
      "text/plain": [
       "'Bonjour, comment allez-vous ? \\n'"
      ]
     },
     "execution_count": 35,
     "metadata": {},
     "output_type": "execute_result"
    }
   ],
   "source": [
    "### Using LCEL -- chain the components\n",
    "chain = model|parser\n",
    "chain.invoke(messages)"
   ]
  },
  {
   "cell_type": "code",
   "execution_count": 37,
   "id": "5e3de0b7",
   "metadata": {},
   "outputs": [],
   "source": [
    "### Prompt Template\n",
    "from langchain_core.prompts import ChatPromptTemplate\n",
    "\n",
    "generic_template = \"Translate the following into {language}\"\n",
    "\n",
    "prompt = ChatPromptTemplate.from_messages(\n",
    "    [(\"system\", generic_template),\n",
    "     (\"human\", \"{text}\")] )"
   ]
  },
  {
   "cell_type": "code",
   "execution_count": 41,
   "id": "c99b32de",
   "metadata": {},
   "outputs": [],
   "source": [
    "result = prompt.invoke({\"language\": \"French\", \"text\": \"Hello?\"})"
   ]
  },
  {
   "cell_type": "code",
   "execution_count": 42,
   "id": "2efdbe24",
   "metadata": {},
   "outputs": [
    {
     "data": {
      "text/plain": [
       "[SystemMessage(content='Translate the following into French', additional_kwargs={}, response_metadata={}),\n",
       " HumanMessage(content='Hello?', additional_kwargs={}, response_metadata={})]"
      ]
     },
     "execution_count": 42,
     "metadata": {},
     "output_type": "execute_result"
    }
   ],
   "source": [
    "result.to_messages()"
   ]
  },
  {
   "cell_type": "code",
   "execution_count": null,
   "id": "1e98497e",
   "metadata": {},
   "outputs": [
    {
     "data": {
      "text/plain": [
       "\"Bonjour ? \\n\\n\\nLet me know if you have any other phrases you'd like translated!\\n\""
      ]
     },
     "execution_count": 43,
     "metadata": {},
     "output_type": "execute_result"
    }
   ],
   "source": [
    "## Chaining together with LCEL \n",
    "chain = prompt | model | parser  \n",
    "chain.invoke({\"language\": \"French\", \"text\": \"Hello?\"})"
   ]
  },
  {
   "cell_type": "code",
   "execution_count": null,
   "id": "695cfdd2",
   "metadata": {},
   "outputs": [],
   "source": []
  }
 ],
 "metadata": {
  "kernelspec": {
   "display_name": "langchain_env",
   "language": "python",
   "name": "python3"
  },
  "language_info": {
   "codemirror_mode": {
    "name": "ipython",
    "version": 3
   },
   "file_extension": ".py",
   "mimetype": "text/x-python",
   "name": "python",
   "nbconvert_exporter": "python",
   "pygments_lexer": "ipython3",
   "version": "3.13.2"
  }
 },
 "nbformat": 4,
 "nbformat_minor": 5
}
