{
 "cells": [
  {
   "cell_type": "markdown",
   "id": "3b5b0bb9",
   "metadata": {},
   "source": [
    "### Chat With Langraph"
   ]
  },
  {
   "cell_type": "code",
   "execution_count": null,
   "id": "c0f73024",
   "metadata": {},
   "outputs": [
    {
     "name": "stdout",
     "output_type": "stream",
     "text": [
      "Collecting langgraph\n",
      "  Downloading langgraph-0.4.3-py3-none-any.whl.metadata (7.9 kB)\n",
      "Requirement already satisfied: langsmith in /home/ghost/.pyenv/versions/3.13.2/envs/langchain-3.13.2/lib/python3.13/site-packages (0.3.27)\n",
      "Requirement already satisfied: langchain-core>=0.1 in /home/ghost/.pyenv/versions/3.13.2/envs/langchain-3.13.2/lib/python3.13/site-packages (from langgraph) (0.3.51)\n",
      "Collecting langgraph-checkpoint<3.0.0,>=2.0.10 (from langgraph)\n",
      "  Downloading langgraph_checkpoint-2.0.25-py3-none-any.whl.metadata (4.6 kB)\n",
      "Collecting langgraph-prebuilt>=0.1.8 (from langgraph)\n",
      "  Downloading langgraph_prebuilt-0.1.8-py3-none-any.whl.metadata (5.0 kB)\n",
      "Collecting langgraph-sdk>=0.1.42 (from langgraph)\n",
      "  Downloading langgraph_sdk-0.1.66-py3-none-any.whl.metadata (1.8 kB)\n",
      "Requirement already satisfied: pydantic>=2.7.4 in /home/ghost/.pyenv/versions/3.13.2/envs/langchain-3.13.2/lib/python3.13/site-packages (from langgraph) (2.11.3)\n",
      "Requirement already satisfied: xxhash<4.0.0,>=3.5.0 in /home/ghost/.pyenv/versions/3.13.2/envs/langchain-3.13.2/lib/python3.13/site-packages (from langgraph) (3.5.0)\n",
      "Collecting ormsgpack<2.0.0,>=1.8.0 (from langgraph-checkpoint<3.0.0,>=2.0.10->langgraph)\n",
      "  Downloading ormsgpack-1.9.1-cp313-cp313-manylinux_2_17_x86_64.manylinux2014_x86_64.whl.metadata (43 kB)\n",
      "Requirement already satisfied: tenacity!=8.4.0,<10.0.0,>=8.1.0 in /home/ghost/.pyenv/versions/3.13.2/envs/langchain-3.13.2/lib/python3.13/site-packages (from langchain-core>=0.1->langgraph) (9.1.2)\n",
      "Requirement already satisfied: jsonpatch<2.0,>=1.33 in /home/ghost/.pyenv/versions/3.13.2/envs/langchain-3.13.2/lib/python3.13/site-packages (from langchain-core>=0.1->langgraph) (1.33)\n",
      "Requirement already satisfied: PyYAML>=5.3 in /home/ghost/.pyenv/versions/3.13.2/envs/langchain-3.13.2/lib/python3.13/site-packages (from langchain-core>=0.1->langgraph) (6.0.2)\n",
      "Requirement already satisfied: packaging<25,>=23.2 in /home/ghost/.pyenv/versions/3.13.2/envs/langchain-3.13.2/lib/python3.13/site-packages (from langchain-core>=0.1->langgraph) (24.2)\n",
      "Requirement already satisfied: typing-extensions>=4.7 in /home/ghost/.pyenv/versions/3.13.2/envs/langchain-3.13.2/lib/python3.13/site-packages (from langchain-core>=0.1->langgraph) (4.13.1)\n",
      "Requirement already satisfied: httpx<1,>=0.23.0 in /home/ghost/.pyenv/versions/3.13.2/envs/langchain-3.13.2/lib/python3.13/site-packages (from langsmith) (0.28.1)\n",
      "Requirement already satisfied: orjson<4.0.0,>=3.9.14 in /home/ghost/.pyenv/versions/3.13.2/envs/langchain-3.13.2/lib/python3.13/site-packages (from langsmith) (3.10.16)\n",
      "Requirement already satisfied: requests<3,>=2 in /home/ghost/.pyenv/versions/3.13.2/envs/langchain-3.13.2/lib/python3.13/site-packages (from langsmith) (2.32.3)\n",
      "Requirement already satisfied: requests-toolbelt<2.0.0,>=1.0.0 in /home/ghost/.pyenv/versions/3.13.2/envs/langchain-3.13.2/lib/python3.13/site-packages (from langsmith) (1.0.0)\n",
      "Requirement already satisfied: zstandard<0.24.0,>=0.23.0 in /home/ghost/.pyenv/versions/3.13.2/envs/langchain-3.13.2/lib/python3.13/site-packages (from langsmith) (0.23.0)\n",
      "Requirement already satisfied: anyio in /home/ghost/.pyenv/versions/3.13.2/envs/langchain-3.13.2/lib/python3.13/site-packages (from httpx<1,>=0.23.0->langsmith) (4.9.0)\n",
      "Requirement already satisfied: certifi in /home/ghost/.pyenv/versions/3.13.2/envs/langchain-3.13.2/lib/python3.13/site-packages (from httpx<1,>=0.23.0->langsmith) (2025.1.31)\n",
      "Requirement already satisfied: httpcore==1.* in /home/ghost/.pyenv/versions/3.13.2/envs/langchain-3.13.2/lib/python3.13/site-packages (from httpx<1,>=0.23.0->langsmith) (1.0.7)\n",
      "Requirement already satisfied: idna in /home/ghost/.pyenv/versions/3.13.2/envs/langchain-3.13.2/lib/python3.13/site-packages (from httpx<1,>=0.23.0->langsmith) (3.10)\n",
      "Requirement already satisfied: h11<0.15,>=0.13 in /home/ghost/.pyenv/versions/3.13.2/envs/langchain-3.13.2/lib/python3.13/site-packages (from httpcore==1.*->httpx<1,>=0.23.0->langsmith) (0.14.0)\n",
      "Requirement already satisfied: jsonpointer>=1.9 in /home/ghost/.pyenv/versions/3.13.2/envs/langchain-3.13.2/lib/python3.13/site-packages (from jsonpatch<2.0,>=1.33->langchain-core>=0.1->langgraph) (3.0.0)\n",
      "Requirement already satisfied: annotated-types>=0.6.0 in /home/ghost/.pyenv/versions/3.13.2/envs/langchain-3.13.2/lib/python3.13/site-packages (from pydantic>=2.7.4->langgraph) (0.7.0)\n",
      "Requirement already satisfied: pydantic-core==2.33.1 in /home/ghost/.pyenv/versions/3.13.2/envs/langchain-3.13.2/lib/python3.13/site-packages (from pydantic>=2.7.4->langgraph) (2.33.1)\n",
      "Requirement already satisfied: typing-inspection>=0.4.0 in /home/ghost/.pyenv/versions/3.13.2/envs/langchain-3.13.2/lib/python3.13/site-packages (from pydantic>=2.7.4->langgraph) (0.4.0)\n",
      "Requirement already satisfied: charset-normalizer<4,>=2 in /home/ghost/.pyenv/versions/3.13.2/envs/langchain-3.13.2/lib/python3.13/site-packages (from requests<3,>=2->langsmith) (3.4.1)\n",
      "Requirement already satisfied: urllib3<3,>=1.21.1 in /home/ghost/.pyenv/versions/3.13.2/envs/langchain-3.13.2/lib/python3.13/site-packages (from requests<3,>=2->langsmith) (2.4.0)\n",
      "Requirement already satisfied: sniffio>=1.1 in /home/ghost/.pyenv/versions/3.13.2/envs/langchain-3.13.2/lib/python3.13/site-packages (from anyio->httpx<1,>=0.23.0->langsmith) (1.3.1)\n",
      "Downloading langgraph-0.4.3-py3-none-any.whl (151 kB)\n",
      "Downloading langgraph_checkpoint-2.0.25-py3-none-any.whl (42 kB)\n",
      "Downloading ormsgpack-1.9.1-cp313-cp313-manylinux_2_17_x86_64.manylinux2014_x86_64.whl (223 kB)\n",
      "Downloading langgraph_prebuilt-0.1.8-py3-none-any.whl (25 kB)\n",
      "Downloading langgraph_sdk-0.1.66-py3-none-any.whl (47 kB)\n",
      "Installing collected packages: ormsgpack, langgraph-sdk, langgraph-checkpoint, langgraph-prebuilt, langgraph\n",
      "\u001b[2K   \u001b[90m━━━━━━━━━━━━━━━━━━━━━━━━━━━━━━━━━━━━━━━━\u001b[0m \u001b[32m5/5\u001b[0m [langgraph]/5\u001b[0m [langgraph]prebuilt]\n",
      "\u001b[1A\u001b[2KSuccessfully installed langgraph-0.4.3 langgraph-checkpoint-2.0.25 langgraph-prebuilt-0.1.8 langgraph-sdk-0.1.66 ormsgpack-1.9.1\n"
     ]
    }
   ],
   "source": [
    "!pip install langgraph langsmith"
   ]
  },
  {
   "cell_type": "code",
   "execution_count": 1,
   "id": "3bba972a",
   "metadata": {},
   "outputs": [
    {
     "data": {
      "text/plain": [
       "True"
      ]
     },
     "execution_count": 1,
     "metadata": {},
     "output_type": "execute_result"
    }
   ],
   "source": [
    "import os\n",
    "from dotenv import load_dotenv\n",
    "load_dotenv()"
   ]
  },
  {
   "cell_type": "code",
   "execution_count": 7,
   "id": "c47f71c7",
   "metadata": {},
   "outputs": [],
   "source": [
    "groq_api_key = os.getenv(\"GROQ_API_KEY\")\n"
   ]
  },
  {
   "cell_type": "code",
   "execution_count": 9,
   "id": "b60b1fb6",
   "metadata": {},
   "outputs": [],
   "source": [
    "langsmith = os.getenv(\"LANGCHAIN_API_KEY\")"
   ]
  },
  {
   "cell_type": "code",
   "execution_count": 10,
   "id": "874bf914",
   "metadata": {},
   "outputs": [],
   "source": [
    "os.environ[\"LANGCHAIN_API_KEY\"] = langsmith\n",
    "os.environ[\"LANGCHAIN_TRACING_V2\"] = \"True\"\n",
    "os.environ[\"LANGCHAIN_PROJECT\"] =  \"CourseLanggraph\""
   ]
  },
  {
   "cell_type": "code",
   "execution_count": 11,
   "id": "90ca92f0",
   "metadata": {},
   "outputs": [],
   "source": [
    "from langchain_groq import ChatGroq"
   ]
  },
  {
   "cell_type": "code",
   "execution_count": 12,
   "id": "6114a429",
   "metadata": {},
   "outputs": [
    {
     "data": {
      "text/plain": [
       "ChatGroq(client=<groq.resources.chat.completions.Completions object at 0x7f4fa25feba0>, async_client=<groq.resources.chat.completions.AsyncCompletions object at 0x7f4fa2641010>, model_name='Gemma2-9b-It', model_kwargs={}, groq_api_key=SecretStr('**********'))"
      ]
     },
     "execution_count": 12,
     "metadata": {},
     "output_type": "execute_result"
    }
   ],
   "source": [
    "llm = ChatGroq(groq_api_key=groq_api_key, model=\"Gemma2-9b-It\")\n",
    "llm"
   ]
  },
  {
   "cell_type": "markdown",
   "id": "f9ae2676",
   "metadata": {},
   "source": [
    "### Start Building Chatbot Using LangGraph"
   ]
  },
  {
   "cell_type": "code",
   "execution_count": 13,
   "id": "070d7098",
   "metadata": {},
   "outputs": [],
   "source": [
    "from typing import Annotated\n",
    "from typing_extensions import TypedDict\n",
    "from langgraph.graph import StateGraph, START, END\n",
    "from langgraph.graph.message import add_messages"
   ]
  },
  {
   "cell_type": "code",
   "execution_count": 14,
   "id": "c5804f36",
   "metadata": {},
   "outputs": [],
   "source": [
    "class State(TypedDict):\n",
    "    ## Messages have the type \"list\". The add_messages function\n",
    "    ## In the annitation defines how this state key should be updated\n",
    "    ## (In this casae, it appends messages to the list, rather than overwriting them)\n",
    "    messages:Annotated[list, add_messages]\n",
    "    \n",
    "graph_builder = StateGraph(State)"
   ]
  },
  {
   "cell_type": "code",
   "execution_count": 15,
   "id": "6fa95e48",
   "metadata": {},
   "outputs": [
    {
     "data": {
      "text/plain": [
       "<langgraph.graph.state.StateGraph at 0x7f4fa2641160>"
      ]
     },
     "execution_count": 15,
     "metadata": {},
     "output_type": "execute_result"
    }
   ],
   "source": [
    "graph_builder"
   ]
  },
  {
   "cell_type": "code",
   "execution_count": 17,
   "id": "ebdab245",
   "metadata": {},
   "outputs": [],
   "source": [
    "def chatbot(state:State):\n",
    "    return {\"messages\":llm.invoke(state['messages'])}"
   ]
  },
  {
   "cell_type": "code",
   "execution_count": 18,
   "id": "3da2dc33",
   "metadata": {},
   "outputs": [
    {
     "data": {
      "text/plain": [
       "<langgraph.graph.state.StateGraph at 0x7f4fa2641160>"
      ]
     },
     "execution_count": 18,
     "metadata": {},
     "output_type": "execute_result"
    }
   ],
   "source": [
    "graph_builder.add_node(\"chatbot\", chatbot)"
   ]
  },
  {
   "cell_type": "code",
   "execution_count": 19,
   "id": "751b5110",
   "metadata": {},
   "outputs": [
    {
     "data": {
      "text/plain": [
       "<langgraph.graph.state.StateGraph at 0x7f4fa2641160>"
      ]
     },
     "execution_count": 19,
     "metadata": {},
     "output_type": "execute_result"
    }
   ],
   "source": [
    "graph_builder.add_edge(START, \"chatbot\")\n",
    "graph_builder.add_edge(\"chatbot\", END)"
   ]
  },
  {
   "cell_type": "code",
   "execution_count": 20,
   "id": "3b2ccbb7",
   "metadata": {},
   "outputs": [],
   "source": [
    "graph = graph_builder.compile()"
   ]
  },
  {
   "cell_type": "code",
   "execution_count": 21,
   "id": "22a6bd62",
   "metadata": {},
   "outputs": [
    {
     "data": {
      "image/png": "[encoded data removed]",
      "text/plain": [
       "<IPython.core.display.Image object>"
      ]
     },
     "metadata": {},
     "output_type": "display_data"
    }
   ],
   "source": [
    "from IPython.display import Image, display\n",
    "try:\n",
    "    display(Image(graph.get_graph().draw_mermaid_png()))\n",
    "except Exception:\n",
    "    pass"
   ]
  },
  {
   "cell_type": "code",
   "execution_count": 22,
   "id": "65418d2a",
   "metadata": {},
   "outputs": [
    {
     "name": "stdout",
     "output_type": "stream",
     "text": [
      "dict_values([{'messages': AIMessage(content='Hello! 👋  What can I do for you today?\\n', additional_kwargs={}, response_metadata={'token_usage': {'completion_tokens': 15, 'prompt_tokens': 11, 'total_tokens': 26, 'completion_time': 0.027272727, 'prompt_time': 0.001915445, 'queue_time': 0.247760005, 'total_time': 0.029188172}, 'model_name': 'Gemma2-9b-It', 'system_fingerprint': 'fp_10c08bf97d', 'finish_reason': 'stop', 'logprobs': None}, id='run-109c008c-9fd4-43b0-b5e3-0730f50e82d7-0', usage_metadata={'input_tokens': 11, 'output_tokens': 15, 'total_tokens': 26})}])\n",
      "content='Hello! 👋  What can I do for you today?\\n' additional_kwargs={} response_metadata={'token_usage': {'completion_tokens': 15, 'prompt_tokens': 11, 'total_tokens': 26, 'completion_time': 0.027272727, 'prompt_time': 0.001915445, 'queue_time': 0.247760005, 'total_time': 0.029188172}, 'model_name': 'Gemma2-9b-It', 'system_fingerprint': 'fp_10c08bf97d', 'finish_reason': 'stop', 'logprobs': None} id='run-109c008c-9fd4-43b0-b5e3-0730f50e82d7-0' usage_metadata={'input_tokens': 11, 'output_tokens': 15, 'total_tokens': 26}\n",
      "Assistant: Hello! 👋  What can I do for you today?\n",
      "\n",
      "dict_values([{'messages': AIMessage(content='Please provide me with a prompt or question so I can assist you. \\n\\nFor example, you could ask me to:\\n\\n* **Write a story:** \"Write a short story about a robot who learns to feel emotions.\"\\n* **Answer a question:** \"What is the capital of France?\"\\n* **Generate creative content:** \"Give me some ideas for a birthday party theme.\"\\n* **Translate text:** \"Translate \\'Hello, how are you?\\' into Spanish.\"\\n* **Summarize information:** \"Summarize the plot of the movie Inception.\"\\n\\n\\nI\\'m ready to help! \\n\\n', additional_kwargs={}, response_metadata={'token_usage': {'completion_tokens': 128, 'prompt_tokens': 11, 'total_tokens': 139, 'completion_time': 0.232727273, 'prompt_time': 0.001921165, 'queue_time': 0.248418284, 'total_time': 0.234648438}, 'model_name': 'Gemma2-9b-It', 'system_fingerprint': 'fp_10c08bf97d', 'finish_reason': 'stop', 'logprobs': None}, id='run-ff4811a1-6076-4333-9be6-d6aadd99d93c-0', usage_metadata={'input_tokens': 11, 'output_tokens': 128, 'total_tokens': 139})}])\n",
      "content='Please provide me with a prompt or question so I can assist you. \\n\\nFor example, you could ask me to:\\n\\n* **Write a story:** \"Write a short story about a robot who learns to feel emotions.\"\\n* **Answer a question:** \"What is the capital of France?\"\\n* **Generate creative content:** \"Give me some ideas for a birthday party theme.\"\\n* **Translate text:** \"Translate \\'Hello, how are you?\\' into Spanish.\"\\n* **Summarize information:** \"Summarize the plot of the movie Inception.\"\\n\\n\\nI\\'m ready to help! \\n\\n' additional_kwargs={} response_metadata={'token_usage': {'completion_tokens': 128, 'prompt_tokens': 11, 'total_tokens': 139, 'completion_time': 0.232727273, 'prompt_time': 0.001921165, 'queue_time': 0.248418284, 'total_time': 0.234648438}, 'model_name': 'Gemma2-9b-It', 'system_fingerprint': 'fp_10c08bf97d', 'finish_reason': 'stop', 'logprobs': None} id='run-ff4811a1-6076-4333-9be6-d6aadd99d93c-0' usage_metadata={'input_tokens': 11, 'output_tokens': 128, 'total_tokens': 139}\n",
      "Assistant: Please provide me with a prompt or question so I can assist you. \n",
      "\n",
      "For example, you could ask me to:\n",
      "\n",
      "* **Write a story:** \"Write a short story about a robot who learns to feel emotions.\"\n",
      "* **Answer a question:** \"What is the capital of France?\"\n",
      "* **Generate creative content:** \"Give me some ideas for a birthday party theme.\"\n",
      "* **Translate text:** \"Translate 'Hello, how are you?' into Spanish.\"\n",
      "* **Summarize information:** \"Summarize the plot of the movie Inception.\"\n",
      "\n",
      "\n",
      "I'm ready to help! \n",
      "\n",
      "\n",
      "dict_values([{'messages': AIMessage(content='\"Gen AI\" stands for **Generative Artificial Intelligence**. \\n\\nIt\\'s a type of AI that focuses on creating new content, rather than simply analyzing existing data. \\n\\nThink of it like this:\\n\\n* **Traditional AI**: Analyzes data to find patterns and make predictions (like recommending a movie you might like based on your past viewing history).\\n* **Generative AI**: Uses learned patterns to create something entirely new (like writing a poem in the style of Shakespeare, composing a piece of music, or generating an image of a cat wearing a hat).\\n\\n**Here are some key things to know about Gen AI:**\\n\\n* **How it works**: Gen AI models are trained on massive datasets of text, code, images, audio, etc. They learn the underlying patterns and structures within this data, allowing them to generate new content that resembles the training data.\\n* **Examples**: \\n    * **Text generation**: ChatGPT, Bard, Jasper\\n    * **Image generation**: DALL-E 2, Stable Diffusion, Midjourney\\n    * **Code generation**: GitHub Copilot, Codex\\n    * **Music generation**: Jukebox, Amper Music\\n* **Applications**: Gen AI has a wide range of potential applications, including:\\n    * **Creative industries**: Writing stories, composing music, designing art\\n    * **Marketing and advertising**: Creating personalized content, generating ad copy\\n    * **Education**: Providing personalized tutoring, generating educational materials\\n    * **Research**: Accelerating scientific discovery, analyzing complex data\\n* **Ethical considerations**:  As with any powerful technology, Gen AI raises ethical concerns, such as the potential for misuse, bias, and the impact on jobs.\\n\\nGen AI is a rapidly evolving field with the potential to revolutionize many aspects of our lives.\\n\\n\\nLet me know if you have any other questions!\\n', additional_kwargs={}, response_metadata={'token_usage': {'completion_tokens': 382, 'prompt_tokens': 13, 'total_tokens': 395, 'completion_time': 0.694545455, 'prompt_time': 0.001936895, 'queue_time': 0.243638867, 'total_time': 0.69648235}, 'model_name': 'Gemma2-9b-It', 'system_fingerprint': 'fp_10c08bf97d', 'finish_reason': 'stop', 'logprobs': None}, id='run-a9610a02-17c7-4541-9208-675912988144-0', usage_metadata={'input_tokens': 13, 'output_tokens': 382, 'total_tokens': 395})}])\n",
      "content='\"Gen AI\" stands for **Generative Artificial Intelligence**. \\n\\nIt\\'s a type of AI that focuses on creating new content, rather than simply analyzing existing data. \\n\\nThink of it like this:\\n\\n* **Traditional AI**: Analyzes data to find patterns and make predictions (like recommending a movie you might like based on your past viewing history).\\n* **Generative AI**: Uses learned patterns to create something entirely new (like writing a poem in the style of Shakespeare, composing a piece of music, or generating an image of a cat wearing a hat).\\n\\n**Here are some key things to know about Gen AI:**\\n\\n* **How it works**: Gen AI models are trained on massive datasets of text, code, images, audio, etc. They learn the underlying patterns and structures within this data, allowing them to generate new content that resembles the training data.\\n* **Examples**: \\n    * **Text generation**: ChatGPT, Bard, Jasper\\n    * **Image generation**: DALL-E 2, Stable Diffusion, Midjourney\\n    * **Code generation**: GitHub Copilot, Codex\\n    * **Music generation**: Jukebox, Amper Music\\n* **Applications**: Gen AI has a wide range of potential applications, including:\\n    * **Creative industries**: Writing stories, composing music, designing art\\n    * **Marketing and advertising**: Creating personalized content, generating ad copy\\n    * **Education**: Providing personalized tutoring, generating educational materials\\n    * **Research**: Accelerating scientific discovery, analyzing complex data\\n* **Ethical considerations**:  As with any powerful technology, Gen AI raises ethical concerns, such as the potential for misuse, bias, and the impact on jobs.\\n\\nGen AI is a rapidly evolving field with the potential to revolutionize many aspects of our lives.\\n\\n\\nLet me know if you have any other questions!\\n' additional_kwargs={} response_metadata={'token_usage': {'completion_tokens': 382, 'prompt_tokens': 13, 'total_tokens': 395, 'completion_time': 0.694545455, 'prompt_time': 0.001936895, 'queue_time': 0.243638867, 'total_time': 0.69648235}, 'model_name': 'Gemma2-9b-It', 'system_fingerprint': 'fp_10c08bf97d', 'finish_reason': 'stop', 'logprobs': None} id='run-a9610a02-17c7-4541-9208-675912988144-0' usage_metadata={'input_tokens': 13, 'output_tokens': 382, 'total_tokens': 395}\n",
      "Assistant: \"Gen AI\" stands for **Generative Artificial Intelligence**. \n",
      "\n",
      "It's a type of AI that focuses on creating new content, rather than simply analyzing existing data. \n",
      "\n",
      "Think of it like this:\n",
      "\n",
      "* **Traditional AI**: Analyzes data to find patterns and make predictions (like recommending a movie you might like based on your past viewing history).\n",
      "* **Generative AI**: Uses learned patterns to create something entirely new (like writing a poem in the style of Shakespeare, composing a piece of music, or generating an image of a cat wearing a hat).\n",
      "\n",
      "**Here are some key things to know about Gen AI:**\n",
      "\n",
      "* **How it works**: Gen AI models are trained on massive datasets of text, code, images, audio, etc. They learn the underlying patterns and structures within this data, allowing them to generate new content that resembles the training data.\n",
      "* **Examples**: \n",
      "    * **Text generation**: ChatGPT, Bard, Jasper\n",
      "    * **Image generation**: DALL-E 2, Stable Diffusion, Midjourney\n",
      "    * **Code generation**: GitHub Copilot, Codex\n",
      "    * **Music generation**: Jukebox, Amper Music\n",
      "* **Applications**: Gen AI has a wide range of potential applications, including:\n",
      "    * **Creative industries**: Writing stories, composing music, designing art\n",
      "    * **Marketing and advertising**: Creating personalized content, generating ad copy\n",
      "    * **Education**: Providing personalized tutoring, generating educational materials\n",
      "    * **Research**: Accelerating scientific discovery, analyzing complex data\n",
      "* **Ethical considerations**:  As with any powerful technology, Gen AI raises ethical concerns, such as the potential for misuse, bias, and the impact on jobs.\n",
      "\n",
      "Gen AI is a rapidly evolving field with the potential to revolutionize many aspects of our lives.\n",
      "\n",
      "\n",
      "Let me know if you have any other questions!\n",
      "\n",
      "Good Bye\n"
     ]
    }
   ],
   "source": [
    "while True:\n",
    "    user_input = input(\"User: \")\n",
    "    if user_input.lower() in [\"quit\", \"q\"]:\n",
    "        print(\"Good Bye\")\n",
    "        break\n",
    "    for event in graph.stream({'messages':('user', user_input)}):\n",
    "        print(event.values())\n",
    "        for value in event.values():\n",
    "            print(value[\"messages\"])\n",
    "            print(\"Assistant:\", value[\"messages\"].content)"
   ]
  },
  {
   "cell_type": "code",
   "execution_count": null,
   "id": "889c7e19",
   "metadata": {},
   "outputs": [],
   "source": []
  }
 ],
 "metadata": {
  "kernelspec": {
   "display_name": "langchain-3.13.2",
   "language": "python",
   "name": "python3"
  },
  "language_info": {
   "codemirror_mode": {
    "name": "ipython",
    "version": 3
   },
   "file_extension": ".py",
   "mimetype": "text/x-python",
   "name": "python",
   "nbconvert_exporter": "python",
   "pygments_lexer": "ipython3",
   "version": "3.13.2"
  }
 },
 "nbformat": 4,
 "nbformat_minor": 5
}
