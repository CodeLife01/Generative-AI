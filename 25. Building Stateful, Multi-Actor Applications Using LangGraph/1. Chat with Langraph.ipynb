{
 "cells": [
  {
   "cell_type": "markdown",
   "id": "3b5b0bb9",
   "metadata": {},
   "source": [
    "### Chat With Langraph"
   ]
  },
  {
   "cell_type": "code",
   "execution_count": null,
   "id": "c0f73024",
   "metadata": {},
   "outputs": [
    {
     "name": "stdout",
     "output_type": "stream",
     "text": [
      "Collecting langgraph\n",
      "  Downloading langgraph-0.4.3-py3-none-any.whl.metadata (7.9 kB)\n",
      "Requirement already satisfied: langsmith in /home/ghost/.pyenv/versions/3.13.2/envs/langchain-3.13.2/lib/python3.13/site-packages (0.3.27)\n",
      "Requirement already satisfied: langchain-core>=0.1 in /home/ghost/.pyenv/versions/3.13.2/envs/langchain-3.13.2/lib/python3.13/site-packages (from langgraph) (0.3.51)\n",
      "Collecting langgraph-checkpoint<3.0.0,>=2.0.10 (from langgraph)\n",
      "  Downloading langgraph_checkpoint-2.0.25-py3-none-any.whl.metadata (4.6 kB)\n",
      "Collecting langgraph-prebuilt>=0.1.8 (from langgraph)\n",
      "  Downloading langgraph_prebuilt-0.1.8-py3-none-any.whl.metadata (5.0 kB)\n",
      "Collecting langgraph-sdk>=0.1.42 (from langgraph)\n",
      "  Downloading langgraph_sdk-0.1.66-py3-none-any.whl.metadata (1.8 kB)\n",
      "Requirement already satisfied: pydantic>=2.7.4 in /home/ghost/.pyenv/versions/3.13.2/envs/langchain-3.13.2/lib/python3.13/site-packages (from langgraph) (2.11.3)\n",
      "Requirement already satisfied: xxhash<4.0.0,>=3.5.0 in /home/ghost/.pyenv/versions/3.13.2/envs/langchain-3.13.2/lib/python3.13/site-packages (from langgraph) (3.5.0)\n",
      "Collecting ormsgpack<2.0.0,>=1.8.0 (from langgraph-checkpoint<3.0.0,>=2.0.10->langgraph)\n",
      "  Downloading ormsgpack-1.9.1-cp313-cp313-manylinux_2_17_x86_64.manylinux2014_x86_64.whl.metadata (43 kB)\n",
      "Requirement already satisfied: tenacity!=8.4.0,<10.0.0,>=8.1.0 in /home/ghost/.pyenv/versions/3.13.2/envs/langchain-3.13.2/lib/python3.13/site-packages (from langchain-core>=0.1->langgraph) (9.1.2)\n",
      "Requirement already satisfied: jsonpatch<2.0,>=1.33 in /home/ghost/.pyenv/versions/3.13.2/envs/langchain-3.13.2/lib/python3.13/site-packages (from langchain-core>=0.1->langgraph) (1.33)\n",
      "Requirement already satisfied: PyYAML>=5.3 in /home/ghost/.pyenv/versions/3.13.2/envs/langchain-3.13.2/lib/python3.13/site-packages (from langchain-core>=0.1->langgraph) (6.0.2)\n",
      "Requirement already satisfied: packaging<25,>=23.2 in /home/ghost/.pyenv/versions/3.13.2/envs/langchain-3.13.2/lib/python3.13/site-packages (from langchain-core>=0.1->langgraph) (24.2)\n",
      "Requirement already satisfied: typing-extensions>=4.7 in /home/ghost/.pyenv/versions/3.13.2/envs/langchain-3.13.2/lib/python3.13/site-packages (from langchain-core>=0.1->langgraph) (4.13.1)\n",
      "Requirement already satisfied: httpx<1,>=0.23.0 in /home/ghost/.pyenv/versions/3.13.2/envs/langchain-3.13.2/lib/python3.13/site-packages (from langsmith) (0.28.1)\n",
      "Requirement already satisfied: orjson<4.0.0,>=3.9.14 in /home/ghost/.pyenv/versions/3.13.2/envs/langchain-3.13.2/lib/python3.13/site-packages (from langsmith) (3.10.16)\n",
      "Requirement already satisfied: requests<3,>=2 in /home/ghost/.pyenv/versions/3.13.2/envs/langchain-3.13.2/lib/python3.13/site-packages (from langsmith) (2.32.3)\n",
      "Requirement already satisfied: requests-toolbelt<2.0.0,>=1.0.0 in /home/ghost/.pyenv/versions/3.13.2/envs/langchain-3.13.2/lib/python3.13/site-packages (from langsmith) (1.0.0)\n",
      "Requirement already satisfied: zstandard<0.24.0,>=0.23.0 in /home/ghost/.pyenv/versions/3.13.2/envs/langchain-3.13.2/lib/python3.13/site-packages (from langsmith) (0.23.0)\n",
      "Requirement already satisfied: anyio in /home/ghost/.pyenv/versions/3.13.2/envs/langchain-3.13.2/lib/python3.13/site-packages (from httpx<1,>=0.23.0->langsmith) (4.9.0)\n",
      "Requirement already satisfied: certifi in /home/ghost/.pyenv/versions/3.13.2/envs/langchain-3.13.2/lib/python3.13/site-packages (from httpx<1,>=0.23.0->langsmith) (2025.1.31)\n",
      "Requirement already satisfied: httpcore==1.* in /home/ghost/.pyenv/versions/3.13.2/envs/langchain-3.13.2/lib/python3.13/site-packages (from httpx<1,>=0.23.0->langsmith) (1.0.7)\n",
      "Requirement already satisfied: idna in /home/ghost/.pyenv/versions/3.13.2/envs/langchain-3.13.2/lib/python3.13/site-packages (from httpx<1,>=0.23.0->langsmith) (3.10)\n",
      "Requirement already satisfied: h11<0.15,>=0.13 in /home/ghost/.pyenv/versions/3.13.2/envs/langchain-3.13.2/lib/python3.13/site-packages (from httpcore==1.*->httpx<1,>=0.23.0->langsmith) (0.14.0)\n",
      "Requirement already satisfied: jsonpointer>=1.9 in /home/ghost/.pyenv/versions/3.13.2/envs/langchain-3.13.2/lib/python3.13/site-packages (from jsonpatch<2.0,>=1.33->langchain-core>=0.1->langgraph) (3.0.0)\n",
      "Requirement already satisfied: annotated-types>=0.6.0 in /home/ghost/.pyenv/versions/3.13.2/envs/langchain-3.13.2/lib/python3.13/site-packages (from pydantic>=2.7.4->langgraph) (0.7.0)\n",
      "Requirement already satisfied: pydantic-core==2.33.1 in /home/ghost/.pyenv/versions/3.13.2/envs/langchain-3.13.2/lib/python3.13/site-packages (from pydantic>=2.7.4->langgraph) (2.33.1)\n",
      "Requirement already satisfied: typing-inspection>=0.4.0 in /home/ghost/.pyenv/versions/3.13.2/envs/langchain-3.13.2/lib/python3.13/site-packages (from pydantic>=2.7.4->langgraph) (0.4.0)\n",
      "Requirement already satisfied: charset-normalizer<4,>=2 in /home/ghost/.pyenv/versions/3.13.2/envs/langchain-3.13.2/lib/python3.13/site-packages (from requests<3,>=2->langsmith) (3.4.1)\n",
      "Requirement already satisfied: urllib3<3,>=1.21.1 in /home/ghost/.pyenv/versions/3.13.2/envs/langchain-3.13.2/lib/python3.13/site-packages (from requests<3,>=2->langsmith) (2.4.0)\n",
      "Requirement already satisfied: sniffio>=1.1 in /home/ghost/.pyenv/versions/3.13.2/envs/langchain-3.13.2/lib/python3.13/site-packages (from anyio->httpx<1,>=0.23.0->langsmith) (1.3.1)\n",
      "Downloading langgraph-0.4.3-py3-none-any.whl (151 kB)\n",
      "Downloading langgraph_checkpoint-2.0.25-py3-none-any.whl (42 kB)\n",
      "Downloading ormsgpack-1.9.1-cp313-cp313-manylinux_2_17_x86_64.manylinux2014_x86_64.whl (223 kB)\n",
      "Downloading langgraph_prebuilt-0.1.8-py3-none-any.whl (25 kB)\n",
      "Downloading langgraph_sdk-0.1.66-py3-none-any.whl (47 kB)\n",
      "Installing collected packages: ormsgpack, langgraph-sdk, langgraph-checkpoint, langgraph-prebuilt, langgraph\n",
      "\u001b[2K   \u001b[90m━━━━━━━━━━━━━━━━━━━━━━━━━━━━━━━━━━━━━━━━\u001b[0m \u001b[32m5/5\u001b[0m [langgraph]/5\u001b[0m [langgraph]prebuilt]\n",
      "\u001b[1A\u001b[2KSuccessfully installed langgraph-0.4.3 langgraph-checkpoint-2.0.25 langgraph-prebuilt-0.1.8 langgraph-sdk-0.1.66 ormsgpack-1.9.1\n"
     ]
    }
   ],
   "source": [
    "!pip install langgraph langsmith"
   ]
  },
  {
   "cell_type": "code",
   "execution_count": 1,
   "id": "3bba972a",
   "metadata": {},
   "outputs": [
    {
     "data": {
      "text/plain": [
       "True"
      ]
     },
     "execution_count": 1,
     "metadata": {},
     "output_type": "execute_result"
    }
   ],
   "source": [
    "import os\n",
    "from dotenv import load_dotenv\n",
    "load_dotenv()"
   ]
  },
  {
   "cell_type": "code",
   "execution_count": 7,
   "id": "c47f71c7",
   "metadata": {},
   "outputs": [],
   "source": [
    "groq_api_key = os.getenv(\"GROQ_API_KEY\")\n"
   ]
  },
  {
   "cell_type": "code",
   "execution_count": 9,
   "id": "b60b1fb6",
   "metadata": {},
   "outputs": [],
   "source": [
    "langsmith = os.getenv(\"LANGCHAIN_API_KEY\")"
   ]
  },
  {
   "cell_type": "code",
   "execution_count": 10,
   "id": "874bf914",
   "metadata": {},
   "outputs": [],
   "source": [
    "os.environ[\"LANGCHAIN_API_KEY\"] = langsmith\n",
    "os.environ[\"LANGCHAIN_TRACING_V2\"] = \"True\"\n",
    "os.environ[\"LANGCHAIN_PROJECT\"] =  \"CourseLanggraph\""
   ]
  },
  {
   "cell_type": "code",
   "execution_count": 11,
   "id": "90ca92f0",
   "metadata": {},
   "outputs": [],
   "source": [
    "from langchain_groq import ChatGroq"
   ]
  },
  {
   "cell_type": "code",
   "execution_count": null,
   "id": "6114a429",
   "metadata": {},
   "outputs": [],
   "source": []
  }
 ],
 "metadata": {
  "kernelspec": {
   "display_name": "langchain-3.13.2",
   "language": "python",
   "name": "python3"
  },
  "language_info": {
   "codemirror_mode": {
    "name": "ipython",
    "version": 3
   },
   "file_extension": ".py",
   "mimetype": "text/x-python",
   "name": "python",
   "nbconvert_exporter": "python",
   "pygments_lexer": "ipython3",
   "version": "3.13.2"
  }
 },
 "nbformat": 4,
 "nbformat_minor": 5
}
