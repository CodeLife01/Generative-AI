{
 "cells": [
  {
   "cell_type": "markdown",
   "metadata": {},
   "source": [
    "#### Getting started With Langchain And Open AI\n",
    "\n",
    "In this quickstart we'll see how to:\n",
    "\n",
    "- Get setup with LangChain, LangSmith and LangServe\n",
    "- Use the most basic and common components of LangChain: prompt templates, models, and output parsers.\n",
    "- Build a simple application with LangChain\n",
    "- Trace your application with LangSmith\n",
    "- Serve your application with LangServe"
   ]
  },
  {
   "cell_type": "code",
   "execution_count": 1,
   "metadata": {},
   "outputs": [],
   "source": [
    "import os\n",
    "from dotenv import load_dotenv\n",
    "load_dotenv()\n",
    "\n",
    "os.environ[\"OPENAI_API_KEY\"] = os.getenv(\"OPENAI_API_KEY\")\n",
    "## Langsmith Tracking\n",
    "os.environ[\"LANGCHAIN_API_KEY\"] = os.getenv(\"LANGCHAIN_API_KEY\")\n",
    "os.environ[\"LANGCHAIN_TRACING_V2\"]=\"true\"\n",
    "os.environ[\"LANGCHAIN_PROJECT\"] = os.getenv(\"LANGCHAIN_PROJECT\")\n",
    "os.environ[\"LANGSMITH_ENDPOINT\"]=\"https://api.smith.langchain.com\""
   ]
  },
  {
   "cell_type": "code",
   "execution_count": 2,
   "metadata": {},
   "outputs": [
    {
     "name": "stdout",
     "output_type": "stream",
     "text": [
      "client=<openai.resources.chat.completions.completions.Completions object at 0x7f1286e0fa10> async_client=<openai.resources.chat.completions.completions.AsyncCompletions object at 0x7f1286e342f0> root_client=<openai.OpenAI object at 0x7f128734d550> root_async_client=<openai.AsyncOpenAI object at 0x7f1286e0fb60> model_name='gpt-4o' model_kwargs={} openai_api_key=SecretStr('**********')\n"
     ]
    }
   ],
   "source": [
    "from langchain_openai import ChatOpenAI\n",
    "llm = ChatOpenAI(model=\"gpt-4o\")\n",
    "print(llm)"
   ]
  },
  {
   "cell_type": "code",
   "execution_count": 3,
   "metadata": {},
   "outputs": [],
   "source": [
    "## Input and get response from LLM\n",
    "result = llm.invoke(\"what is gen ai\")"
   ]
  },
  {
   "cell_type": "code",
   "execution_count": 4,
   "metadata": {},
   "outputs": [
    {
     "name": "stdout",
     "output_type": "stream",
     "text": [
      "content='Generative AI, often abbreviated as Gen AI, refers to a subset of artificial intelligence that focuses on creating models capable of generating new content. This can include text, images, music, or even more complex outputs, such as entire virtual environments or simulations. Unlike traditional AI, which is typically designed to recognize patterns and make decisions based on existing data, generative AI aims to produce new, original, and sometimes unexpected results.\\n\\nOne of the most well-known examples of generative AI is the generative adversarial network (GAN), a framework using two neural networks—one generating content and the other evaluating it to improve the results over time. Other notable models include variational autoencoders (VAEs) and transformer-based models like GPT (Generative Pre-trained Transformer) and DALL-E. These technologies are widely used in fields such as entertainment, design, marketing, and beyond, offering creative assistance and automating content generation.' additional_kwargs={'refusal': None} response_metadata={'token_usage': {'completion_tokens': 186, 'prompt_tokens': 11, 'total_tokens': 197, 'completion_tokens_details': {'accepted_prediction_tokens': 0, 'audio_tokens': 0, 'reasoning_tokens': 0, 'rejected_prediction_tokens': 0}, 'prompt_tokens_details': {'audio_tokens': 0, 'cached_tokens': 0}}, 'model_name': 'gpt-4o-2024-08-06', 'system_fingerprint': 'fp_55d88aaf2f', 'id': 'chatcmpl-BXUBlIpHtjdh34X2xQl9uYgtpdREU', 'finish_reason': 'stop', 'logprobs': None} id='run-dc7cc5c2-84f0-4318-b7b8-47e716b9a3d9-0' usage_metadata={'input_tokens': 11, 'output_tokens': 186, 'total_tokens': 197, 'input_token_details': {'audio': 0, 'cache_read': 0}, 'output_token_details': {'audio': 0, 'reasoning': 0}}\n"
     ]
    }
   ],
   "source": [
    "print(result)"
   ]
  },
  {
   "cell_type": "code",
   "execution_count": 5,
   "metadata": {},
   "outputs": [
    {
     "data": {
      "text/plain": [
       "ChatPromptTemplate(input_variables=['input'], input_types={}, partial_variables={}, messages=[SystemMessagePromptTemplate(prompt=PromptTemplate(input_variables=[], input_types={}, partial_variables={}, template='You are an Ethical Hacker Expert helping Ethical Hackers in Practicing Pen Test. Provide me answers based on the questions'), additional_kwargs={}), HumanMessagePromptTemplate(prompt=PromptTemplate(input_variables=['input'], input_types={}, partial_variables={}, template='{input}'), additional_kwargs={})])"
      ]
     },
     "execution_count": 5,
     "metadata": {},
     "output_type": "execute_result"
    }
   ],
   "source": [
    "### Chat Prompt Template\n",
    "from langchain_core.prompts import ChatPromptTemplate\n",
    "\n",
    "prompt=ChatPromptTemplate.from_messages(\n",
    "    [\n",
    "        (\"system\", \"You are an Ethical Hacker Expert helping Ethical Hackers in Practicing Pen Test. Provide me answers based on the questions\"),\n",
    "        (\"user\", \"{input}\")\n",
    "    ]\n",
    ")\n",
    "prompt"
   ]
  },
  {
   "cell_type": "code",
   "execution_count": 6,
   "metadata": {},
   "outputs": [
    {
     "name": "stdout",
     "output_type": "stream",
     "text": [
      "content=\"Bypassing firewalls and intrusion detection systems (IDS) with Nmap requires utilizing advanced scanning techniques that minimize detection. Here are some methods you can consider:\\n\\n1. **Use Decoy Scans (-D):** This method involves obfuscating your scan by using multiple decoys. This way, the IDS will see multiple IPs as the source of the scan, making it harder to pinpoint the real scanning source.\\n\\n   ```bash\\n   nmap -D RND:10 [target]\\n   ```\\n\\n2. **Fragment Packets (-f):** This technique involves sending fragmented packets that can slip through some poorly configured firewalls or intrusion detection systems.\\n\\n   ```bash\\n   nmap -f [target]\\n   ```\\n\\n3. **Use of Idle Scan (-sI):** This method allows you to perform a scan using another host as a 'zombie'. It helps in making the scan less conspicuous since the requests appear to be coming from the 'zombie' host.\\n\\n   ```bash\\n   nmap -sI [zombie] [target]\\n   ```\\n\\n4. **Timing Options (-T):** By altering the timing options, you can make the scan slower to avoid detection by an IDS that looks for quick scans.\\n\\n   ```bash\\n   nmap -T0 [target]\\n   ```\\n\\n5. **Scan with Spoofed IP (-S):** Spoofing your IP address can sometimes bypass filters, but it is more challenging to control the responses or send the ACK packets back.\\n\\n   ```bash\\n   nmap -S [spoofed-source-IP] [target]\\n   ```\\n\\n6. **Randomize Target Ports (--randomize-hosts):** Randomizing the order of target hosts can help in avoiding detection by systems that track sequential IP scans.\\n\\n   ```bash\\n   nmap --randomize-hosts [target]\\n   ```\\n\\n7. **Use of DNS Enumeration:** Enumerate DNS records to gather additional information about the target without direct scanning. Tools like `dnmap` can assist in this approach.\\n\\n8. **Use a Different Network Protocol (TCP/UDP/SCTP):** Switch between different protocols to see which might be less inspected, for instance:\\n\\n   ```bash\\n   nmap -sU [target]\\n   nmap -sS [target]\\n   ```\\n\\n9. **Custom Packet Generation (Using Scripts):** Use Nmap's scripting engine (NSE) to generate custom probes that match less common network patterns to bypass common detection rules.\\n\\n10. **Combining Multiple Techniques:** Sometimes, combining several methods can yield better results in bypassing firewalls and IDS without getting detected.\\n\\nRemember, these techniques should only be used in a legal context where you have explicit permission to conduct penetration testing to ensure compliance and legal standards are maintained.\" additional_kwargs={'refusal': None} response_metadata={'token_usage': {'completion_tokens': 572, 'prompt_tokens': 51, 'total_tokens': 623, 'completion_tokens_details': {'accepted_prediction_tokens': 0, 'audio_tokens': 0, 'reasoning_tokens': 0, 'rejected_prediction_tokens': 0}, 'prompt_tokens_details': {'audio_tokens': 0, 'cached_tokens': 0}}, 'model_name': 'gpt-4o-2024-08-06', 'system_fingerprint': 'fp_90122d973c', 'id': 'chatcmpl-BXUGdbto2n0TY2h5tLbLdac0TomVl', 'finish_reason': 'stop', 'logprobs': None} id='run-f32fa311-96bf-4b72-8f3f-6636d0a7c128-0' usage_metadata={'input_tokens': 51, 'output_tokens': 572, 'total_tokens': 623, 'input_token_details': {'audio': 0, 'cache_read': 0}, 'output_token_details': {'audio': 0, 'reasoning': 0}}\n"
     ]
    }
   ],
   "source": [
    "## Chain\n",
    "chain = prompt|llm\n",
    "\n",
    "response = chain.invoke({\"input\": \"What is the advance methods network scan using nmap bypassing Firewall and IDS without detection\"})\n",
    "print(response)"
   ]
  },
  {
   "cell_type": "code",
   "execution_count": 7,
   "metadata": {},
   "outputs": [
    {
     "data": {
      "text/plain": [
       "langchain_core.messages.ai.AIMessage"
      ]
     },
     "execution_count": 7,
     "metadata": {},
     "output_type": "execute_result"
    }
   ],
   "source": [
    "type(response)"
   ]
  },
  {
   "cell_type": "code",
   "execution_count": 8,
   "metadata": {},
   "outputs": [
    {
     "name": "stdout",
     "output_type": "stream",
     "text": [
      "AI and ML can significantly enhance cybersecurity defenses against hackers in several ways. First, they can automate threat detection by analyzing vast amounts of data to identify patterns or anomalies indicative of cyber threats, thus enabling faster response times. Machine learning models improve over time, becoming more effective at identifying and predicting potential threats before they manifest.\n",
      "\n",
      "AI can also aid in identifying vulnerabilities in software and networks by simulating potential attack vectors that a human might overlook. This proactive approach aids in patching security gaps before they are exploited.\n",
      "\n",
      "Moreover, AI-driven systems can manage network traffic, flagging and blocking suspicious activity in real-time without human intervention. They can also personalize security measures based on specific organizational needs, adapting to new threats as they evolve. Additionally, AI tools can automate mundane security tasks, freeing up human resources for more complex decision-making and strategic planning.\n",
      "\n",
      "By leveraging AI and ML, organizations enhance their capabilities to predict, prevent, and respond to cyber threats more efficiently and effectively.\n"
     ]
    }
   ],
   "source": [
    "## Str Output Parser\n",
    "\n",
    "from langchain_core.output_parsers import StrOutputParser\n",
    "output_parser = StrOutputParser()\n",
    "chain = prompt|llm|output_parser\n",
    "\n",
    "response = chain.invoke({\"input\": \"how can AI/ML help defend against hacker answer in less 300 tokens\"})\n",
    "print(response)"
   ]
  }
 ],
 "metadata": {
  "kernelspec": {
   "display_name": "langchain-3.13.2",
   "language": "python",
   "name": "python3"
  },
  "language_info": {
   "codemirror_mode": {
    "name": "ipython",
    "version": 3
   },
   "file_extension": ".py",
   "mimetype": "text/x-python",
   "name": "python",
   "nbconvert_exporter": "python",
   "pygments_lexer": "ipython3",
   "version": "3.13.2"
  }
 },
 "nbformat": 4,
 "nbformat_minor": 2
}
